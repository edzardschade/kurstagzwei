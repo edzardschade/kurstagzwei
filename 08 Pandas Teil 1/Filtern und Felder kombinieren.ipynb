{
 "cells": [
  {
   "cell_type": "markdown",
   "metadata": {},
   "source": [
    "# Filtern und Felder kombinieren"
   ]
  },
  {
   "cell_type": "markdown",
   "metadata": {},
   "source": [
    "**Inhalt:** Die Nadel im Heuhaufen finden\n",
    "\n",
    "**Nötige Skills:** Erste Schritte mit Pandas\n",
    "\n",
    "**Lernziele:**\n",
    "- Einträge im Datenset finden, basierend auf Kriterien\n",
    "- Nan kennenlernen\n",
    "- Neue Datenfelder generieren\n",
    "- Plotting Level 1"
   ]
  },
  {
   "cell_type": "markdown",
   "metadata": {},
   "source": [
    "# Das Beispiel"
   ]
  },
  {
   "cell_type": "markdown",
   "metadata": {},
   "source": [
    "Die besten NBA-Basketball-Spieler aller Zeiten.\n",
    "\n",
    "Quelle/Beschreibung: https://stats.nba.com/alltime-leaders/\n",
    "\n",
    "**Laden Sie das Datenfile von hier herunter: **\n",
    "\n",
    "und speichern Sie es an einem geeigneten Ort\n",
    "\n",
    "(zum Beispiel in einem Unterordner `dataprojects/nba-players`)"
   ]
  },
  {
   "cell_type": "markdown",
   "metadata": {},
   "source": [
    "## Vorbereitung"
   ]
  },
  {
   "cell_type": "code",
   "execution_count": 1,
   "metadata": {},
   "outputs": [],
   "source": [
    "import pandas as pd"
   ]
  },
  {
   "cell_type": "code",
   "execution_count": 2,
   "metadata": {},
   "outputs": [],
   "source": [
    "%matplotlib inline"
   ]
  },
  {
   "cell_type": "markdown",
   "metadata": {},
   "source": [
    "## Datenfile laden"
   ]
  },
  {
   "cell_type": "markdown",
   "metadata": {},
   "source": [
    "Wo ist die Datei?"
   ]
  },
  {
   "cell_type": "code",
   "execution_count": 3,
   "metadata": {},
   "outputs": [],
   "source": [
    "path = 'dataprojects/nba-players/alltime.xlsx'"
   ]
  },
  {
   "cell_type": "markdown",
   "metadata": {},
   "source": [
    "Für den Import von Excel-Dateien nutzen wir die Funktion `read_excel()`"
   ]
  },
  {
   "cell_type": "code",
   "execution_count": 4,
   "metadata": {},
   "outputs": [],
   "source": [
    "df = pd.read_excel(path)"
   ]
  },
  {
   "cell_type": "markdown",
   "metadata": {},
   "source": [
    "## Überblick verschaffen"
   ]
  },
  {
   "cell_type": "markdown",
   "metadata": {},
   "source": [
    "Wie immer zu Beginn, checken wir die Struktur und Länge des Datensets ab"
   ]
  },
  {
   "cell_type": "markdown",
   "metadata": {},
   "source": [
    "- erste drei Reihen"
   ]
  },
  {
   "cell_type": "code",
   "execution_count": 5,
   "metadata": {},
   "outputs": [
    {
     "data": {
      "text/html": [
       "<div>\n",
       "<style scoped>\n",
       "    .dataframe tbody tr th:only-of-type {\n",
       "        vertical-align: middle;\n",
       "    }\n",
       "\n",
       "    .dataframe tbody tr th {\n",
       "        vertical-align: top;\n",
       "    }\n",
       "\n",
       "    .dataframe thead th {\n",
       "        text-align: right;\n",
       "    }\n",
       "</style>\n",
       "<table border=\"1\" class=\"dataframe\">\n",
       "  <thead>\n",
       "    <tr style=\"text-align: right;\">\n",
       "      <th></th>\n",
       "      <th>#</th>\n",
       "      <th>Player</th>\n",
       "      <th>GP</th>\n",
       "      <th>MIN</th>\n",
       "      <th>PTS</th>\n",
       "      <th>FGM</th>\n",
       "      <th>FGA</th>\n",
       "      <th>FG%</th>\n",
       "      <th>3PM</th>\n",
       "      <th>3PA</th>\n",
       "      <th>...</th>\n",
       "      <th>FT%</th>\n",
       "      <th>OREB</th>\n",
       "      <th>DREB</th>\n",
       "      <th>REB</th>\n",
       "      <th>AST</th>\n",
       "      <th>STL</th>\n",
       "      <th>BLK</th>\n",
       "      <th>TOV</th>\n",
       "      <th>eFG%</th>\n",
       "      <th>TS%</th>\n",
       "    </tr>\n",
       "  </thead>\n",
       "  <tbody>\n",
       "    <tr>\n",
       "      <th>0</th>\n",
       "      <td>1</td>\n",
       "      <td>Kareem Abdul-Jabbar</td>\n",
       "      <td>1560</td>\n",
       "      <td>57446</td>\n",
       "      <td>38387</td>\n",
       "      <td>15837</td>\n",
       "      <td>28307</td>\n",
       "      <td>55.9</td>\n",
       "      <td>1</td>\n",
       "      <td>18</td>\n",
       "      <td>...</td>\n",
       "      <td>72.1</td>\n",
       "      <td>2975</td>\n",
       "      <td>9394</td>\n",
       "      <td>17440</td>\n",
       "      <td>5660</td>\n",
       "      <td>1160</td>\n",
       "      <td>3189</td>\n",
       "      <td>2527</td>\n",
       "      <td>55.9</td>\n",
       "      <td>59.2</td>\n",
       "    </tr>\n",
       "    <tr>\n",
       "      <th>1</th>\n",
       "      <td>2</td>\n",
       "      <td>Karl Malone</td>\n",
       "      <td>1476</td>\n",
       "      <td>54852</td>\n",
       "      <td>36928</td>\n",
       "      <td>13528</td>\n",
       "      <td>26210</td>\n",
       "      <td>51.6</td>\n",
       "      <td>85</td>\n",
       "      <td>310</td>\n",
       "      <td>...</td>\n",
       "      <td>74.2</td>\n",
       "      <td>3562</td>\n",
       "      <td>11406</td>\n",
       "      <td>14968</td>\n",
       "      <td>5248</td>\n",
       "      <td>2085</td>\n",
       "      <td>1145</td>\n",
       "      <td>4524</td>\n",
       "      <td>51.8</td>\n",
       "      <td>57.7</td>\n",
       "    </tr>\n",
       "    <tr>\n",
       "      <th>2</th>\n",
       "      <td>3</td>\n",
       "      <td>Kobe Bryant</td>\n",
       "      <td>1346</td>\n",
       "      <td>48643</td>\n",
       "      <td>33643</td>\n",
       "      <td>11719</td>\n",
       "      <td>26200</td>\n",
       "      <td>44.7</td>\n",
       "      <td>1827</td>\n",
       "      <td>5546</td>\n",
       "      <td>...</td>\n",
       "      <td>83.7</td>\n",
       "      <td>1499</td>\n",
       "      <td>5548</td>\n",
       "      <td>7047</td>\n",
       "      <td>6306</td>\n",
       "      <td>1944</td>\n",
       "      <td>640</td>\n",
       "      <td>4010</td>\n",
       "      <td>48.2</td>\n",
       "      <td>55.0</td>\n",
       "    </tr>\n",
       "  </tbody>\n",
       "</table>\n",
       "<p>3 rows × 23 columns</p>\n",
       "</div>"
      ],
      "text/plain": [
       "   #               Player    GP    MIN    PTS    FGM    FGA   FG%   3PM   3PA  \\\n",
       "0  1  Kareem Abdul-Jabbar  1560  57446  38387  15837  28307  55.9     1    18   \n",
       "1  2          Karl Malone  1476  54852  36928  13528  26210  51.6    85   310   \n",
       "2  3          Kobe Bryant  1346  48643  33643  11719  26200  44.7  1827  5546   \n",
       "\n",
       "   ...    FT%  OREB   DREB    REB   AST   STL   BLK   TOV  eFG%   TS%  \n",
       "0  ...   72.1  2975   9394  17440  5660  1160  3189  2527  55.9  59.2  \n",
       "1  ...   74.2  3562  11406  14968  5248  2085  1145  4524  51.8  57.7  \n",
       "2  ...   83.7  1499   5548   7047  6306  1944   640  4010  48.2  55.0  \n",
       "\n",
       "[3 rows x 23 columns]"
      ]
     },
     "execution_count": 5,
     "metadata": {},
     "output_type": "execute_result"
    }
   ],
   "source": [
    "df.head(3)"
   ]
  },
  {
   "cell_type": "markdown",
   "metadata": {},
   "source": [
    "- Anzahl der Zeilen und Spalten"
   ]
  },
  {
   "cell_type": "code",
   "execution_count": 6,
   "metadata": {},
   "outputs": [
    {
     "data": {
      "text/plain": [
       "(1238, 23)"
      ]
     },
     "execution_count": 6,
     "metadata": {},
     "output_type": "execute_result"
    }
   ],
   "source": [
    "df.shape"
   ]
  },
  {
   "cell_type": "markdown",
   "metadata": {},
   "source": [
    "- Spaltennamen und Datentypen"
   ]
  },
  {
   "cell_type": "code",
   "execution_count": 7,
   "metadata": {},
   "outputs": [
    {
     "data": {
      "text/plain": [
       "#           int64\n",
       "Player     object\n",
       "GP          int64\n",
       "MIN         int64\n",
       "PTS         int64\n",
       "FGM         int64\n",
       "FGA         int64\n",
       "FG%       float64\n",
       "3PM        object\n",
       "3PA        object\n",
       "3P%        object\n",
       "FTM         int64\n",
       "FTA         int64\n",
       "FT%       float64\n",
       "OREB       object\n",
       "DREB       object\n",
       "REB         int64\n",
       "AST         int64\n",
       "STL        object\n",
       "BLK        object\n",
       "TOV        object\n",
       "eFG%      float64\n",
       "TS%       float64\n",
       "dtype: object"
      ]
     },
     "execution_count": 7,
     "metadata": {},
     "output_type": "execute_result"
    }
   ],
   "source": [
    "df.dtypes"
   ]
  },
  {
   "cell_type": "markdown",
   "metadata": {},
   "source": [
    "## Wer ist der beste Basketballspieler aller Zeiten?"
   ]
  },
  {
   "cell_type": "markdown",
   "metadata": {},
   "source": [
    "Diese Leitfrage wird uns durch dieses Notebook begleiten.\n",
    "\n",
    "Für die NBA ist offensichtlich klar: Es ist **Kareem Abdul-Jabbar**.\n",
    "\n",
    "Das zeigt sich, wenn wir nochmals die obersten drei Zeilen anzeigen:"
   ]
  },
  {
   "cell_type": "code",
   "execution_count": 8,
   "metadata": {},
   "outputs": [
    {
     "data": {
      "text/html": [
       "<div>\n",
       "<style scoped>\n",
       "    .dataframe tbody tr th:only-of-type {\n",
       "        vertical-align: middle;\n",
       "    }\n",
       "\n",
       "    .dataframe tbody tr th {\n",
       "        vertical-align: top;\n",
       "    }\n",
       "\n",
       "    .dataframe thead th {\n",
       "        text-align: right;\n",
       "    }\n",
       "</style>\n",
       "<table border=\"1\" class=\"dataframe\">\n",
       "  <thead>\n",
       "    <tr style=\"text-align: right;\">\n",
       "      <th></th>\n",
       "      <th>#</th>\n",
       "      <th>Player</th>\n",
       "      <th>GP</th>\n",
       "      <th>MIN</th>\n",
       "      <th>PTS</th>\n",
       "      <th>FGM</th>\n",
       "      <th>FGA</th>\n",
       "      <th>FG%</th>\n",
       "      <th>3PM</th>\n",
       "      <th>3PA</th>\n",
       "      <th>...</th>\n",
       "      <th>FT%</th>\n",
       "      <th>OREB</th>\n",
       "      <th>DREB</th>\n",
       "      <th>REB</th>\n",
       "      <th>AST</th>\n",
       "      <th>STL</th>\n",
       "      <th>BLK</th>\n",
       "      <th>TOV</th>\n",
       "      <th>eFG%</th>\n",
       "      <th>TS%</th>\n",
       "    </tr>\n",
       "  </thead>\n",
       "  <tbody>\n",
       "    <tr>\n",
       "      <th>0</th>\n",
       "      <td>1</td>\n",
       "      <td>Kareem Abdul-Jabbar</td>\n",
       "      <td>1560</td>\n",
       "      <td>57446</td>\n",
       "      <td>38387</td>\n",
       "      <td>15837</td>\n",
       "      <td>28307</td>\n",
       "      <td>55.9</td>\n",
       "      <td>1</td>\n",
       "      <td>18</td>\n",
       "      <td>...</td>\n",
       "      <td>72.1</td>\n",
       "      <td>2975</td>\n",
       "      <td>9394</td>\n",
       "      <td>17440</td>\n",
       "      <td>5660</td>\n",
       "      <td>1160</td>\n",
       "      <td>3189</td>\n",
       "      <td>2527</td>\n",
       "      <td>55.9</td>\n",
       "      <td>59.2</td>\n",
       "    </tr>\n",
       "    <tr>\n",
       "      <th>1</th>\n",
       "      <td>2</td>\n",
       "      <td>Karl Malone</td>\n",
       "      <td>1476</td>\n",
       "      <td>54852</td>\n",
       "      <td>36928</td>\n",
       "      <td>13528</td>\n",
       "      <td>26210</td>\n",
       "      <td>51.6</td>\n",
       "      <td>85</td>\n",
       "      <td>310</td>\n",
       "      <td>...</td>\n",
       "      <td>74.2</td>\n",
       "      <td>3562</td>\n",
       "      <td>11406</td>\n",
       "      <td>14968</td>\n",
       "      <td>5248</td>\n",
       "      <td>2085</td>\n",
       "      <td>1145</td>\n",
       "      <td>4524</td>\n",
       "      <td>51.8</td>\n",
       "      <td>57.7</td>\n",
       "    </tr>\n",
       "    <tr>\n",
       "      <th>2</th>\n",
       "      <td>3</td>\n",
       "      <td>Kobe Bryant</td>\n",
       "      <td>1346</td>\n",
       "      <td>48643</td>\n",
       "      <td>33643</td>\n",
       "      <td>11719</td>\n",
       "      <td>26200</td>\n",
       "      <td>44.7</td>\n",
       "      <td>1827</td>\n",
       "      <td>5546</td>\n",
       "      <td>...</td>\n",
       "      <td>83.7</td>\n",
       "      <td>1499</td>\n",
       "      <td>5548</td>\n",
       "      <td>7047</td>\n",
       "      <td>6306</td>\n",
       "      <td>1944</td>\n",
       "      <td>640</td>\n",
       "      <td>4010</td>\n",
       "      <td>48.2</td>\n",
       "      <td>55.0</td>\n",
       "    </tr>\n",
       "  </tbody>\n",
       "</table>\n",
       "<p>3 rows × 23 columns</p>\n",
       "</div>"
      ],
      "text/plain": [
       "   #               Player    GP    MIN    PTS    FGM    FGA   FG%   3PM   3PA  \\\n",
       "0  1  Kareem Abdul-Jabbar  1560  57446  38387  15837  28307  55.9     1    18   \n",
       "1  2          Karl Malone  1476  54852  36928  13528  26210  51.6    85   310   \n",
       "2  3          Kobe Bryant  1346  48643  33643  11719  26200  44.7  1827  5546   \n",
       "\n",
       "   ...    FT%  OREB   DREB    REB   AST   STL   BLK   TOV  eFG%   TS%  \n",
       "0  ...   72.1  2975   9394  17440  5660  1160  3189  2527  55.9  59.2  \n",
       "1  ...   74.2  3562  11406  14968  5248  2085  1145  4524  51.8  57.7  \n",
       "2  ...   83.7  1499   5548   7047  6306  1944   640  4010  48.2  55.0  \n",
       "\n",
       "[3 rows x 23 columns]"
      ]
     },
     "execution_count": 8,
     "metadata": {},
     "output_type": "execute_result"
    }
   ],
   "source": [
    "df.head(3)"
   ]
  },
  {
   "cell_type": "markdown",
   "metadata": {},
   "source": [
    "Doch: basierend auf welcher Metrik kommt die NBA zu diesem Schluss?\n",
    "    \n",
    "Gibt es auch noch andere Varianten, diese Rangliste zu erstellen?\n",
    "\n",
    "Und vor allem: Wo zur Hölle ist **Michael Jordan**??"
   ]
  },
  {
   "cell_type": "markdown",
   "metadata": {},
   "source": [
    "## Einträge filtern"
   ]
  },
  {
   "cell_type": "markdown",
   "metadata": {},
   "source": [
    "### Die erste Suche"
   ]
  },
  {
   "cell_type": "markdown",
   "metadata": {},
   "source": [
    "Die Syntax, mit dem man in Pandas einzelne Einträge aus dem Datenset herausfiltert, funktioniert, wie nicht anders zu erwarten, mit eckigen Klammern."
   ]
  },
  {
   "cell_type": "code",
   "execution_count": 9,
   "metadata": {},
   "outputs": [
    {
     "data": {
      "text/html": [
       "<div>\n",
       "<style scoped>\n",
       "    .dataframe tbody tr th:only-of-type {\n",
       "        vertical-align: middle;\n",
       "    }\n",
       "\n",
       "    .dataframe tbody tr th {\n",
       "        vertical-align: top;\n",
       "    }\n",
       "\n",
       "    .dataframe thead th {\n",
       "        text-align: right;\n",
       "    }\n",
       "</style>\n",
       "<table border=\"1\" class=\"dataframe\">\n",
       "  <thead>\n",
       "    <tr style=\"text-align: right;\">\n",
       "      <th></th>\n",
       "      <th>#</th>\n",
       "      <th>Player</th>\n",
       "      <th>GP</th>\n",
       "      <th>MIN</th>\n",
       "      <th>PTS</th>\n",
       "      <th>FGM</th>\n",
       "      <th>FGA</th>\n",
       "      <th>FG%</th>\n",
       "      <th>3PM</th>\n",
       "      <th>3PA</th>\n",
       "      <th>...</th>\n",
       "      <th>FT%</th>\n",
       "      <th>OREB</th>\n",
       "      <th>DREB</th>\n",
       "      <th>REB</th>\n",
       "      <th>AST</th>\n",
       "      <th>STL</th>\n",
       "      <th>BLK</th>\n",
       "      <th>TOV</th>\n",
       "      <th>eFG%</th>\n",
       "      <th>TS%</th>\n",
       "    </tr>\n",
       "  </thead>\n",
       "  <tbody>\n",
       "    <tr>\n",
       "      <th>3</th>\n",
       "      <td>4</td>\n",
       "      <td>Michael Jordan</td>\n",
       "      <td>1072</td>\n",
       "      <td>41010</td>\n",
       "      <td>32292</td>\n",
       "      <td>12192</td>\n",
       "      <td>24537</td>\n",
       "      <td>49.7</td>\n",
       "      <td>581</td>\n",
       "      <td>1778</td>\n",
       "      <td>...</td>\n",
       "      <td>83.5</td>\n",
       "      <td>1668</td>\n",
       "      <td>5004</td>\n",
       "      <td>6672</td>\n",
       "      <td>5633</td>\n",
       "      <td>2514</td>\n",
       "      <td>893</td>\n",
       "      <td>2924</td>\n",
       "      <td>50.9</td>\n",
       "      <td>56.9</td>\n",
       "    </tr>\n",
       "  </tbody>\n",
       "</table>\n",
       "<p>1 rows × 23 columns</p>\n",
       "</div>"
      ],
      "text/plain": [
       "   #          Player    GP    MIN    PTS    FGM    FGA   FG%  3PM   3PA  ...   \\\n",
       "3  4  Michael Jordan  1072  41010  32292  12192  24537  49.7  581  1778  ...    \n",
       "\n",
       "    FT%  OREB  DREB   REB   AST   STL  BLK   TOV  eFG%   TS%  \n",
       "3  83.5  1668  5004  6672  5633  2514  893  2924  50.9  56.9  \n",
       "\n",
       "[1 rows x 23 columns]"
      ]
     },
     "execution_count": 9,
     "metadata": {},
     "output_type": "execute_result"
    }
   ],
   "source": [
    "df[df['Player'] == 'Michael Jordan']"
   ]
  },
  {
   "cell_type": "markdown",
   "metadata": {},
   "source": [
    "Michael Jordan steht also auf Rang vier der ewigen Bestenliste der NBA (der Rang ist in der ersten Spalte mit dem Titel \"`#`\" angegeben)"
   ]
  },
  {
   "cell_type": "markdown",
   "metadata": {},
   "source": [
    "Schauen wir uns diesen Code etwas genauer an. Zuerst den inneren Teil:"
   ]
  },
  {
   "cell_type": "code",
   "execution_count": null,
   "metadata": {},
   "outputs": [],
   "source": [
    "df['Player'] == 'Michael Jordan'"
   ]
  },
  {
   "cell_type": "markdown",
   "metadata": {},
   "source": [
    "Was ist das für ein Datentyp?"
   ]
  },
  {
   "cell_type": "code",
   "execution_count": null,
   "metadata": {},
   "outputs": [],
   "source": [
    "type(df['Player'] == 'Michael Jordan')"
   ]
  },
  {
   "cell_type": "markdown",
   "metadata": {},
   "source": [
    "Speichern wir nun diese Serie in einer separaten Variable ab ..."
   ]
  },
  {
   "cell_type": "code",
   "execution_count": null,
   "metadata": {
    "collapsed": true
   },
   "outputs": [],
   "source": [
    "jordan = df['Player'] == 'Michael Jordan'"
   ]
  },
  {
   "cell_type": "markdown",
   "metadata": {},
   "source": [
    "... und setzen wir diese Variable nochmals in den äusseren Ausdruck ein:"
   ]
  },
  {
   "cell_type": "code",
   "execution_count": null,
   "metadata": {},
   "outputs": [],
   "source": [
    "df[jordan]"
   ]
  },
  {
   "cell_type": "markdown",
   "metadata": {},
   "source": [
    "Fassen wir zusammen:\n",
    "- Wir picken uns zuerst eine Serie heraus: `df['Player']`\n",
    "- Dann testen wir jedes Element der Serie mit einem Vergleichsoperator `df['Player'] == 'Michael Jordan'`\n",
    "- Es entsteht dabei eine neue Serie mit True/False-Einträgen (boolean)\n",
    "- Nun \"filtern\" wir das dataframe mit dieser True/False-Serie: `df[..`(False-False-True-False)`...]`"
   ]
  },
  {
   "cell_type": "markdown",
   "metadata": {},
   "source": [
    "### Filtern mit Vergleichsoperatoren"
   ]
  },
  {
   "cell_type": "markdown",
   "metadata": {},
   "source": [
    "Es gibt diverse Vergleichsoperatoren:\n",
    "- `==` gleich\n",
    "- `<` kleiner als\n",
    "- `<=` kleiner gleich\n",
    "- `>` grösser als\n",
    "- `>=` grösser gleich\n",
    "- `!=` nicht gleich"
   ]
  },
  {
   "cell_type": "markdown",
   "metadata": {},
   "source": [
    "**Beispiel:** Alle Spieler, die mehr als 1500 Spiele absolviert haben"
   ]
  },
  {
   "cell_type": "code",
   "execution_count": 10,
   "metadata": {},
   "outputs": [
    {
     "data": {
      "text/html": [
       "<div>\n",
       "<style scoped>\n",
       "    .dataframe tbody tr th:only-of-type {\n",
       "        vertical-align: middle;\n",
       "    }\n",
       "\n",
       "    .dataframe tbody tr th {\n",
       "        vertical-align: top;\n",
       "    }\n",
       "\n",
       "    .dataframe thead th {\n",
       "        text-align: right;\n",
       "    }\n",
       "</style>\n",
       "<table border=\"1\" class=\"dataframe\">\n",
       "  <thead>\n",
       "    <tr style=\"text-align: right;\">\n",
       "      <th></th>\n",
       "      <th>#</th>\n",
       "      <th>Player</th>\n",
       "      <th>GP</th>\n",
       "      <th>MIN</th>\n",
       "      <th>PTS</th>\n",
       "      <th>FGM</th>\n",
       "      <th>FGA</th>\n",
       "      <th>FG%</th>\n",
       "      <th>3PM</th>\n",
       "      <th>3PA</th>\n",
       "      <th>...</th>\n",
       "      <th>FT%</th>\n",
       "      <th>OREB</th>\n",
       "      <th>DREB</th>\n",
       "      <th>REB</th>\n",
       "      <th>AST</th>\n",
       "      <th>STL</th>\n",
       "      <th>BLK</th>\n",
       "      <th>TOV</th>\n",
       "      <th>eFG%</th>\n",
       "      <th>TS%</th>\n",
       "    </tr>\n",
       "  </thead>\n",
       "  <tbody>\n",
       "    <tr>\n",
       "      <th>0</th>\n",
       "      <td>1</td>\n",
       "      <td>Kareem Abdul-Jabbar</td>\n",
       "      <td>1560</td>\n",
       "      <td>57446</td>\n",
       "      <td>38387</td>\n",
       "      <td>15837</td>\n",
       "      <td>28307</td>\n",
       "      <td>55.9</td>\n",
       "      <td>1</td>\n",
       "      <td>18</td>\n",
       "      <td>...</td>\n",
       "      <td>72.1</td>\n",
       "      <td>2975</td>\n",
       "      <td>9394</td>\n",
       "      <td>17440</td>\n",
       "      <td>5660</td>\n",
       "      <td>1160</td>\n",
       "      <td>3189</td>\n",
       "      <td>2527</td>\n",
       "      <td>55.9</td>\n",
       "      <td>59.2</td>\n",
       "    </tr>\n",
       "    <tr>\n",
       "      <th>26</th>\n",
       "      <td>27</td>\n",
       "      <td>Robert Parish</td>\n",
       "      <td>1611</td>\n",
       "      <td>45704</td>\n",
       "      <td>23334</td>\n",
       "      <td>9614</td>\n",
       "      <td>17914</td>\n",
       "      <td>53.7</td>\n",
       "      <td>0</td>\n",
       "      <td>6</td>\n",
       "      <td>...</td>\n",
       "      <td>72.1</td>\n",
       "      <td>4598</td>\n",
       "      <td>10117</td>\n",
       "      <td>14715</td>\n",
       "      <td>2180</td>\n",
       "      <td>1219</td>\n",
       "      <td>2361</td>\n",
       "      <td>3183</td>\n",
       "      <td>53.7</td>\n",
       "      <td>57.1</td>\n",
       "    </tr>\n",
       "    <tr>\n",
       "      <th>44</th>\n",
       "      <td>45</td>\n",
       "      <td>John Stockton</td>\n",
       "      <td>1504</td>\n",
       "      <td>47766</td>\n",
       "      <td>19711</td>\n",
       "      <td>7039</td>\n",
       "      <td>13658</td>\n",
       "      <td>51.5</td>\n",
       "      <td>845</td>\n",
       "      <td>2202</td>\n",
       "      <td>...</td>\n",
       "      <td>82.6</td>\n",
       "      <td>966</td>\n",
       "      <td>3085</td>\n",
       "      <td>4051</td>\n",
       "      <td>15806</td>\n",
       "      <td>3265</td>\n",
       "      <td>315</td>\n",
       "      <td>4244</td>\n",
       "      <td>54.6</td>\n",
       "      <td>60.8</td>\n",
       "    </tr>\n",
       "  </tbody>\n",
       "</table>\n",
       "<p>3 rows × 23 columns</p>\n",
       "</div>"
      ],
      "text/plain": [
       "     #               Player    GP    MIN    PTS    FGM    FGA   FG%  3PM  \\\n",
       "0    1  Kareem Abdul-Jabbar  1560  57446  38387  15837  28307  55.9    1   \n",
       "26  27        Robert Parish  1611  45704  23334   9614  17914  53.7    0   \n",
       "44  45        John Stockton  1504  47766  19711   7039  13658  51.5  845   \n",
       "\n",
       "     3PA  ...    FT%  OREB   DREB    REB    AST   STL   BLK   TOV  eFG%   TS%  \n",
       "0     18  ...   72.1  2975   9394  17440   5660  1160  3189  2527  55.9  59.2  \n",
       "26     6  ...   72.1  4598  10117  14715   2180  1219  2361  3183  53.7  57.1  \n",
       "44  2202  ...   82.6   966   3085   4051  15806  3265   315  4244  54.6  60.8  \n",
       "\n",
       "[3 rows x 23 columns]"
      ]
     },
     "execution_count": 10,
     "metadata": {},
     "output_type": "execute_result"
    }
   ],
   "source": [
    "df[df['GP'] > 1500]"
   ]
  },
  {
   "cell_type": "markdown",
   "metadata": {},
   "source": [
    "**Beispiel:**: Alle Spieler, die mehr als 30'000 Punkte gesammelt haben"
   ]
  },
  {
   "cell_type": "code",
   "execution_count": 11,
   "metadata": {},
   "outputs": [
    {
     "data": {
      "text/html": [
       "<div>\n",
       "<style scoped>\n",
       "    .dataframe tbody tr th:only-of-type {\n",
       "        vertical-align: middle;\n",
       "    }\n",
       "\n",
       "    .dataframe tbody tr th {\n",
       "        vertical-align: top;\n",
       "    }\n",
       "\n",
       "    .dataframe thead th {\n",
       "        text-align: right;\n",
       "    }\n",
       "</style>\n",
       "<table border=\"1\" class=\"dataframe\">\n",
       "  <thead>\n",
       "    <tr style=\"text-align: right;\">\n",
       "      <th></th>\n",
       "      <th>#</th>\n",
       "      <th>Player</th>\n",
       "      <th>GP</th>\n",
       "      <th>MIN</th>\n",
       "      <th>PTS</th>\n",
       "      <th>FGM</th>\n",
       "      <th>FGA</th>\n",
       "      <th>FG%</th>\n",
       "      <th>3PM</th>\n",
       "      <th>3PA</th>\n",
       "      <th>...</th>\n",
       "      <th>FT%</th>\n",
       "      <th>OREB</th>\n",
       "      <th>DREB</th>\n",
       "      <th>REB</th>\n",
       "      <th>AST</th>\n",
       "      <th>STL</th>\n",
       "      <th>BLK</th>\n",
       "      <th>TOV</th>\n",
       "      <th>eFG%</th>\n",
       "      <th>TS%</th>\n",
       "    </tr>\n",
       "  </thead>\n",
       "  <tbody>\n",
       "    <tr>\n",
       "      <th>0</th>\n",
       "      <td>1</td>\n",
       "      <td>Kareem Abdul-Jabbar</td>\n",
       "      <td>1560</td>\n",
       "      <td>57446</td>\n",
       "      <td>38387</td>\n",
       "      <td>15837</td>\n",
       "      <td>28307</td>\n",
       "      <td>55.9</td>\n",
       "      <td>1</td>\n",
       "      <td>18</td>\n",
       "      <td>...</td>\n",
       "      <td>72.1</td>\n",
       "      <td>2975</td>\n",
       "      <td>9394</td>\n",
       "      <td>17440</td>\n",
       "      <td>5660</td>\n",
       "      <td>1160</td>\n",
       "      <td>3189</td>\n",
       "      <td>2527</td>\n",
       "      <td>55.9</td>\n",
       "      <td>59.2</td>\n",
       "    </tr>\n",
       "    <tr>\n",
       "      <th>1</th>\n",
       "      <td>2</td>\n",
       "      <td>Karl Malone</td>\n",
       "      <td>1476</td>\n",
       "      <td>54852</td>\n",
       "      <td>36928</td>\n",
       "      <td>13528</td>\n",
       "      <td>26210</td>\n",
       "      <td>51.6</td>\n",
       "      <td>85</td>\n",
       "      <td>310</td>\n",
       "      <td>...</td>\n",
       "      <td>74.2</td>\n",
       "      <td>3562</td>\n",
       "      <td>11406</td>\n",
       "      <td>14968</td>\n",
       "      <td>5248</td>\n",
       "      <td>2085</td>\n",
       "      <td>1145</td>\n",
       "      <td>4524</td>\n",
       "      <td>51.8</td>\n",
       "      <td>57.7</td>\n",
       "    </tr>\n",
       "    <tr>\n",
       "      <th>2</th>\n",
       "      <td>3</td>\n",
       "      <td>Kobe Bryant</td>\n",
       "      <td>1346</td>\n",
       "      <td>48643</td>\n",
       "      <td>33643</td>\n",
       "      <td>11719</td>\n",
       "      <td>26200</td>\n",
       "      <td>44.7</td>\n",
       "      <td>1827</td>\n",
       "      <td>5546</td>\n",
       "      <td>...</td>\n",
       "      <td>83.7</td>\n",
       "      <td>1499</td>\n",
       "      <td>5548</td>\n",
       "      <td>7047</td>\n",
       "      <td>6306</td>\n",
       "      <td>1944</td>\n",
       "      <td>640</td>\n",
       "      <td>4010</td>\n",
       "      <td>48.2</td>\n",
       "      <td>55.0</td>\n",
       "    </tr>\n",
       "    <tr>\n",
       "      <th>3</th>\n",
       "      <td>4</td>\n",
       "      <td>Michael Jordan</td>\n",
       "      <td>1072</td>\n",
       "      <td>41010</td>\n",
       "      <td>32292</td>\n",
       "      <td>12192</td>\n",
       "      <td>24537</td>\n",
       "      <td>49.7</td>\n",
       "      <td>581</td>\n",
       "      <td>1778</td>\n",
       "      <td>...</td>\n",
       "      <td>83.5</td>\n",
       "      <td>1668</td>\n",
       "      <td>5004</td>\n",
       "      <td>6672</td>\n",
       "      <td>5633</td>\n",
       "      <td>2514</td>\n",
       "      <td>893</td>\n",
       "      <td>2924</td>\n",
       "      <td>50.9</td>\n",
       "      <td>56.9</td>\n",
       "    </tr>\n",
       "    <tr>\n",
       "      <th>4</th>\n",
       "      <td>5</td>\n",
       "      <td>Wilt Chamberlain</td>\n",
       "      <td>1045</td>\n",
       "      <td>47859</td>\n",
       "      <td>31419</td>\n",
       "      <td>12681</td>\n",
       "      <td>23497</td>\n",
       "      <td>54.0</td>\n",
       "      <td>-</td>\n",
       "      <td>-</td>\n",
       "      <td>...</td>\n",
       "      <td>51.1</td>\n",
       "      <td>-</td>\n",
       "      <td>-</td>\n",
       "      <td>23924</td>\n",
       "      <td>4643</td>\n",
       "      <td>-</td>\n",
       "      <td>-</td>\n",
       "      <td>-</td>\n",
       "      <td>54.0</td>\n",
       "      <td>54.7</td>\n",
       "    </tr>\n",
       "    <tr>\n",
       "      <th>5</th>\n",
       "      <td>6</td>\n",
       "      <td>Dirk Nowitzki</td>\n",
       "      <td>1471</td>\n",
       "      <td>50572</td>\n",
       "      <td>31187</td>\n",
       "      <td>11034</td>\n",
       "      <td>23358</td>\n",
       "      <td>47.2</td>\n",
       "      <td>1918</td>\n",
       "      <td>5005</td>\n",
       "      <td>...</td>\n",
       "      <td>87.9</td>\n",
       "      <td>1463</td>\n",
       "      <td>9868</td>\n",
       "      <td>11331</td>\n",
       "      <td>3616</td>\n",
       "      <td>1201</td>\n",
       "      <td>1263</td>\n",
       "      <td>2476</td>\n",
       "      <td>51.3</td>\n",
       "      <td>57.8</td>\n",
       "    </tr>\n",
       "    <tr>\n",
       "      <th>6</th>\n",
       "      <td>7</td>\n",
       "      <td>LeBron James</td>\n",
       "      <td>1143</td>\n",
       "      <td>44297</td>\n",
       "      <td>31038</td>\n",
       "      <td>11280</td>\n",
       "      <td>22383</td>\n",
       "      <td>50.4</td>\n",
       "      <td>1616</td>\n",
       "      <td>4701</td>\n",
       "      <td>...</td>\n",
       "      <td>73.9</td>\n",
       "      <td>1386</td>\n",
       "      <td>7029</td>\n",
       "      <td>8415</td>\n",
       "      <td>8208</td>\n",
       "      <td>1865</td>\n",
       "      <td>888</td>\n",
       "      <td>3966</td>\n",
       "      <td>54.0</td>\n",
       "      <td>58.6</td>\n",
       "    </tr>\n",
       "  </tbody>\n",
       "</table>\n",
       "<p>7 rows × 23 columns</p>\n",
       "</div>"
      ],
      "text/plain": [
       "   #               Player    GP    MIN    PTS    FGM    FGA   FG%   3PM   3PA  \\\n",
       "0  1  Kareem Abdul-Jabbar  1560  57446  38387  15837  28307  55.9     1    18   \n",
       "1  2          Karl Malone  1476  54852  36928  13528  26210  51.6    85   310   \n",
       "2  3          Kobe Bryant  1346  48643  33643  11719  26200  44.7  1827  5546   \n",
       "3  4       Michael Jordan  1072  41010  32292  12192  24537  49.7   581  1778   \n",
       "4  5     Wilt Chamberlain  1045  47859  31419  12681  23497  54.0     -     -   \n",
       "5  6        Dirk Nowitzki  1471  50572  31187  11034  23358  47.2  1918  5005   \n",
       "6  7         LeBron James  1143  44297  31038  11280  22383  50.4  1616  4701   \n",
       "\n",
       "   ...    FT%  OREB   DREB    REB   AST   STL   BLK   TOV  eFG%   TS%  \n",
       "0  ...   72.1  2975   9394  17440  5660  1160  3189  2527  55.9  59.2  \n",
       "1  ...   74.2  3562  11406  14968  5248  2085  1145  4524  51.8  57.7  \n",
       "2  ...   83.7  1499   5548   7047  6306  1944   640  4010  48.2  55.0  \n",
       "3  ...   83.5  1668   5004   6672  5633  2514   893  2924  50.9  56.9  \n",
       "4  ...   51.1     -      -  23924  4643     -     -     -  54.0  54.7  \n",
       "5  ...   87.9  1463   9868  11331  3616  1201  1263  2476  51.3  57.8  \n",
       "6  ...   73.9  1386   7029   8415  8208  1865   888  3966  54.0  58.6  \n",
       "\n",
       "[7 rows x 23 columns]"
      ]
     },
     "execution_count": 11,
     "metadata": {},
     "output_type": "execute_result"
    }
   ],
   "source": [
    "df[df['PTS'] > 30000]"
   ]
  },
  {
   "cell_type": "markdown",
   "metadata": {},
   "source": [
    "(Hier wäre also das Kriterium, auf dem die NBA-Rangliste basiert!)"
   ]
  },
  {
   "cell_type": "markdown",
   "metadata": {},
   "source": [
    "### Logische Operatoren"
   ]
  },
  {
   "cell_type": "markdown",
   "metadata": {},
   "source": [
    "Und es gibt diverse logische Operatoren:\n",
    "- `&` logisches UND\n",
    "- `|` logisches ODER\n",
    "- `~` logisches NICHT\n",
    "\n",
    "Beim kombinieren, beachte die Klammern!"
   ]
  },
  {
   "cell_type": "markdown",
   "metadata": {},
   "source": [
    "**Beispiel**: Alle Spieler, die entweder Michael Jordan heissen oder mehr als 1500 Spiele absolviert haben"
   ]
  },
  {
   "cell_type": "code",
   "execution_count": 12,
   "metadata": {},
   "outputs": [
    {
     "data": {
      "text/html": [
       "<div>\n",
       "<style scoped>\n",
       "    .dataframe tbody tr th:only-of-type {\n",
       "        vertical-align: middle;\n",
       "    }\n",
       "\n",
       "    .dataframe tbody tr th {\n",
       "        vertical-align: top;\n",
       "    }\n",
       "\n",
       "    .dataframe thead th {\n",
       "        text-align: right;\n",
       "    }\n",
       "</style>\n",
       "<table border=\"1\" class=\"dataframe\">\n",
       "  <thead>\n",
       "    <tr style=\"text-align: right;\">\n",
       "      <th></th>\n",
       "      <th>#</th>\n",
       "      <th>Player</th>\n",
       "      <th>GP</th>\n",
       "      <th>MIN</th>\n",
       "      <th>PTS</th>\n",
       "      <th>FGM</th>\n",
       "      <th>FGA</th>\n",
       "      <th>FG%</th>\n",
       "      <th>3PM</th>\n",
       "      <th>3PA</th>\n",
       "      <th>...</th>\n",
       "      <th>FT%</th>\n",
       "      <th>OREB</th>\n",
       "      <th>DREB</th>\n",
       "      <th>REB</th>\n",
       "      <th>AST</th>\n",
       "      <th>STL</th>\n",
       "      <th>BLK</th>\n",
       "      <th>TOV</th>\n",
       "      <th>eFG%</th>\n",
       "      <th>TS%</th>\n",
       "    </tr>\n",
       "  </thead>\n",
       "  <tbody>\n",
       "    <tr>\n",
       "      <th>0</th>\n",
       "      <td>1</td>\n",
       "      <td>Kareem Abdul-Jabbar</td>\n",
       "      <td>1560</td>\n",
       "      <td>57446</td>\n",
       "      <td>38387</td>\n",
       "      <td>15837</td>\n",
       "      <td>28307</td>\n",
       "      <td>55.9</td>\n",
       "      <td>1</td>\n",
       "      <td>18</td>\n",
       "      <td>...</td>\n",
       "      <td>72.1</td>\n",
       "      <td>2975</td>\n",
       "      <td>9394</td>\n",
       "      <td>17440</td>\n",
       "      <td>5660</td>\n",
       "      <td>1160</td>\n",
       "      <td>3189</td>\n",
       "      <td>2527</td>\n",
       "      <td>55.9</td>\n",
       "      <td>59.2</td>\n",
       "    </tr>\n",
       "    <tr>\n",
       "      <th>3</th>\n",
       "      <td>4</td>\n",
       "      <td>Michael Jordan</td>\n",
       "      <td>1072</td>\n",
       "      <td>41010</td>\n",
       "      <td>32292</td>\n",
       "      <td>12192</td>\n",
       "      <td>24537</td>\n",
       "      <td>49.7</td>\n",
       "      <td>581</td>\n",
       "      <td>1778</td>\n",
       "      <td>...</td>\n",
       "      <td>83.5</td>\n",
       "      <td>1668</td>\n",
       "      <td>5004</td>\n",
       "      <td>6672</td>\n",
       "      <td>5633</td>\n",
       "      <td>2514</td>\n",
       "      <td>893</td>\n",
       "      <td>2924</td>\n",
       "      <td>50.9</td>\n",
       "      <td>56.9</td>\n",
       "    </tr>\n",
       "    <tr>\n",
       "      <th>26</th>\n",
       "      <td>27</td>\n",
       "      <td>Robert Parish</td>\n",
       "      <td>1611</td>\n",
       "      <td>45704</td>\n",
       "      <td>23334</td>\n",
       "      <td>9614</td>\n",
       "      <td>17914</td>\n",
       "      <td>53.7</td>\n",
       "      <td>0</td>\n",
       "      <td>6</td>\n",
       "      <td>...</td>\n",
       "      <td>72.1</td>\n",
       "      <td>4598</td>\n",
       "      <td>10117</td>\n",
       "      <td>14715</td>\n",
       "      <td>2180</td>\n",
       "      <td>1219</td>\n",
       "      <td>2361</td>\n",
       "      <td>3183</td>\n",
       "      <td>53.7</td>\n",
       "      <td>57.1</td>\n",
       "    </tr>\n",
       "    <tr>\n",
       "      <th>44</th>\n",
       "      <td>45</td>\n",
       "      <td>John Stockton</td>\n",
       "      <td>1504</td>\n",
       "      <td>47766</td>\n",
       "      <td>19711</td>\n",
       "      <td>7039</td>\n",
       "      <td>13658</td>\n",
       "      <td>51.5</td>\n",
       "      <td>845</td>\n",
       "      <td>2202</td>\n",
       "      <td>...</td>\n",
       "      <td>82.6</td>\n",
       "      <td>966</td>\n",
       "      <td>3085</td>\n",
       "      <td>4051</td>\n",
       "      <td>15806</td>\n",
       "      <td>3265</td>\n",
       "      <td>315</td>\n",
       "      <td>4244</td>\n",
       "      <td>54.6</td>\n",
       "      <td>60.8</td>\n",
       "    </tr>\n",
       "  </tbody>\n",
       "</table>\n",
       "<p>4 rows × 23 columns</p>\n",
       "</div>"
      ],
      "text/plain": [
       "     #               Player    GP    MIN    PTS    FGM    FGA   FG%  3PM  \\\n",
       "0    1  Kareem Abdul-Jabbar  1560  57446  38387  15837  28307  55.9    1   \n",
       "3    4       Michael Jordan  1072  41010  32292  12192  24537  49.7  581   \n",
       "26  27        Robert Parish  1611  45704  23334   9614  17914  53.7    0   \n",
       "44  45        John Stockton  1504  47766  19711   7039  13658  51.5  845   \n",
       "\n",
       "     3PA  ...    FT%  OREB   DREB    REB    AST   STL   BLK   TOV  eFG%   TS%  \n",
       "0     18  ...   72.1  2975   9394  17440   5660  1160  3189  2527  55.9  59.2  \n",
       "3   1778  ...   83.5  1668   5004   6672   5633  2514   893  2924  50.9  56.9  \n",
       "26     6  ...   72.1  4598  10117  14715   2180  1219  2361  3183  53.7  57.1  \n",
       "44  2202  ...   82.6   966   3085   4051  15806  3265   315  4244  54.6  60.8  \n",
       "\n",
       "[4 rows x 23 columns]"
      ]
     },
     "execution_count": 12,
     "metadata": {},
     "output_type": "execute_result"
    }
   ],
   "source": [
    "df[(df['Player'] == 'Michael Jordan') | (df['GP'] > 1500)]"
   ]
  },
  {
   "cell_type": "markdown",
   "metadata": {},
   "source": [
    "**Beispiel**: Alle Spieler, die nicht Michael Jordan heissen und nicht weniger als 30'000 Punkte gesammelt haben"
   ]
  },
  {
   "cell_type": "code",
   "execution_count": 13,
   "metadata": {},
   "outputs": [
    {
     "data": {
      "text/html": [
       "<div>\n",
       "<style scoped>\n",
       "    .dataframe tbody tr th:only-of-type {\n",
       "        vertical-align: middle;\n",
       "    }\n",
       "\n",
       "    .dataframe tbody tr th {\n",
       "        vertical-align: top;\n",
       "    }\n",
       "\n",
       "    .dataframe thead th {\n",
       "        text-align: right;\n",
       "    }\n",
       "</style>\n",
       "<table border=\"1\" class=\"dataframe\">\n",
       "  <thead>\n",
       "    <tr style=\"text-align: right;\">\n",
       "      <th></th>\n",
       "      <th>#</th>\n",
       "      <th>Player</th>\n",
       "      <th>GP</th>\n",
       "      <th>MIN</th>\n",
       "      <th>PTS</th>\n",
       "      <th>FGM</th>\n",
       "      <th>FGA</th>\n",
       "      <th>FG%</th>\n",
       "      <th>3PM</th>\n",
       "      <th>3PA</th>\n",
       "      <th>...</th>\n",
       "      <th>FT%</th>\n",
       "      <th>OREB</th>\n",
       "      <th>DREB</th>\n",
       "      <th>REB</th>\n",
       "      <th>AST</th>\n",
       "      <th>STL</th>\n",
       "      <th>BLK</th>\n",
       "      <th>TOV</th>\n",
       "      <th>eFG%</th>\n",
       "      <th>TS%</th>\n",
       "    </tr>\n",
       "  </thead>\n",
       "  <tbody>\n",
       "    <tr>\n",
       "      <th>0</th>\n",
       "      <td>1</td>\n",
       "      <td>Kareem Abdul-Jabbar</td>\n",
       "      <td>1560</td>\n",
       "      <td>57446</td>\n",
       "      <td>38387</td>\n",
       "      <td>15837</td>\n",
       "      <td>28307</td>\n",
       "      <td>55.9</td>\n",
       "      <td>1</td>\n",
       "      <td>18</td>\n",
       "      <td>...</td>\n",
       "      <td>72.1</td>\n",
       "      <td>2975</td>\n",
       "      <td>9394</td>\n",
       "      <td>17440</td>\n",
       "      <td>5660</td>\n",
       "      <td>1160</td>\n",
       "      <td>3189</td>\n",
       "      <td>2527</td>\n",
       "      <td>55.9</td>\n",
       "      <td>59.2</td>\n",
       "    </tr>\n",
       "    <tr>\n",
       "      <th>1</th>\n",
       "      <td>2</td>\n",
       "      <td>Karl Malone</td>\n",
       "      <td>1476</td>\n",
       "      <td>54852</td>\n",
       "      <td>36928</td>\n",
       "      <td>13528</td>\n",
       "      <td>26210</td>\n",
       "      <td>51.6</td>\n",
       "      <td>85</td>\n",
       "      <td>310</td>\n",
       "      <td>...</td>\n",
       "      <td>74.2</td>\n",
       "      <td>3562</td>\n",
       "      <td>11406</td>\n",
       "      <td>14968</td>\n",
       "      <td>5248</td>\n",
       "      <td>2085</td>\n",
       "      <td>1145</td>\n",
       "      <td>4524</td>\n",
       "      <td>51.8</td>\n",
       "      <td>57.7</td>\n",
       "    </tr>\n",
       "    <tr>\n",
       "      <th>2</th>\n",
       "      <td>3</td>\n",
       "      <td>Kobe Bryant</td>\n",
       "      <td>1346</td>\n",
       "      <td>48643</td>\n",
       "      <td>33643</td>\n",
       "      <td>11719</td>\n",
       "      <td>26200</td>\n",
       "      <td>44.7</td>\n",
       "      <td>1827</td>\n",
       "      <td>5546</td>\n",
       "      <td>...</td>\n",
       "      <td>83.7</td>\n",
       "      <td>1499</td>\n",
       "      <td>5548</td>\n",
       "      <td>7047</td>\n",
       "      <td>6306</td>\n",
       "      <td>1944</td>\n",
       "      <td>640</td>\n",
       "      <td>4010</td>\n",
       "      <td>48.2</td>\n",
       "      <td>55.0</td>\n",
       "    </tr>\n",
       "    <tr>\n",
       "      <th>4</th>\n",
       "      <td>5</td>\n",
       "      <td>Wilt Chamberlain</td>\n",
       "      <td>1045</td>\n",
       "      <td>47859</td>\n",
       "      <td>31419</td>\n",
       "      <td>12681</td>\n",
       "      <td>23497</td>\n",
       "      <td>54.0</td>\n",
       "      <td>-</td>\n",
       "      <td>-</td>\n",
       "      <td>...</td>\n",
       "      <td>51.1</td>\n",
       "      <td>-</td>\n",
       "      <td>-</td>\n",
       "      <td>23924</td>\n",
       "      <td>4643</td>\n",
       "      <td>-</td>\n",
       "      <td>-</td>\n",
       "      <td>-</td>\n",
       "      <td>54.0</td>\n",
       "      <td>54.7</td>\n",
       "    </tr>\n",
       "    <tr>\n",
       "      <th>5</th>\n",
       "      <td>6</td>\n",
       "      <td>Dirk Nowitzki</td>\n",
       "      <td>1471</td>\n",
       "      <td>50572</td>\n",
       "      <td>31187</td>\n",
       "      <td>11034</td>\n",
       "      <td>23358</td>\n",
       "      <td>47.2</td>\n",
       "      <td>1918</td>\n",
       "      <td>5005</td>\n",
       "      <td>...</td>\n",
       "      <td>87.9</td>\n",
       "      <td>1463</td>\n",
       "      <td>9868</td>\n",
       "      <td>11331</td>\n",
       "      <td>3616</td>\n",
       "      <td>1201</td>\n",
       "      <td>1263</td>\n",
       "      <td>2476</td>\n",
       "      <td>51.3</td>\n",
       "      <td>57.8</td>\n",
       "    </tr>\n",
       "    <tr>\n",
       "      <th>6</th>\n",
       "      <td>7</td>\n",
       "      <td>LeBron James</td>\n",
       "      <td>1143</td>\n",
       "      <td>44297</td>\n",
       "      <td>31038</td>\n",
       "      <td>11280</td>\n",
       "      <td>22383</td>\n",
       "      <td>50.4</td>\n",
       "      <td>1616</td>\n",
       "      <td>4701</td>\n",
       "      <td>...</td>\n",
       "      <td>73.9</td>\n",
       "      <td>1386</td>\n",
       "      <td>7029</td>\n",
       "      <td>8415</td>\n",
       "      <td>8208</td>\n",
       "      <td>1865</td>\n",
       "      <td>888</td>\n",
       "      <td>3966</td>\n",
       "      <td>54.0</td>\n",
       "      <td>58.6</td>\n",
       "    </tr>\n",
       "  </tbody>\n",
       "</table>\n",
       "<p>6 rows × 23 columns</p>\n",
       "</div>"
      ],
      "text/plain": [
       "   #               Player    GP    MIN    PTS    FGM    FGA   FG%   3PM   3PA  \\\n",
       "0  1  Kareem Abdul-Jabbar  1560  57446  38387  15837  28307  55.9     1    18   \n",
       "1  2          Karl Malone  1476  54852  36928  13528  26210  51.6    85   310   \n",
       "2  3          Kobe Bryant  1346  48643  33643  11719  26200  44.7  1827  5546   \n",
       "4  5     Wilt Chamberlain  1045  47859  31419  12681  23497  54.0     -     -   \n",
       "5  6        Dirk Nowitzki  1471  50572  31187  11034  23358  47.2  1918  5005   \n",
       "6  7         LeBron James  1143  44297  31038  11280  22383  50.4  1616  4701   \n",
       "\n",
       "   ...    FT%  OREB   DREB    REB   AST   STL   BLK   TOV  eFG%   TS%  \n",
       "0  ...   72.1  2975   9394  17440  5660  1160  3189  2527  55.9  59.2  \n",
       "1  ...   74.2  3562  11406  14968  5248  2085  1145  4524  51.8  57.7  \n",
       "2  ...   83.7  1499   5548   7047  6306  1944   640  4010  48.2  55.0  \n",
       "4  ...   51.1     -      -  23924  4643     -     -     -  54.0  54.7  \n",
       "5  ...   87.9  1463   9868  11331  3616  1201  1263  2476  51.3  57.8  \n",
       "6  ...   73.9  1386   7029   8415  8208  1865   888  3966  54.0  58.6  \n",
       "\n",
       "[6 rows x 23 columns]"
      ]
     },
     "execution_count": 13,
     "metadata": {},
     "output_type": "execute_result"
    }
   ],
   "source": [
    "df[~(df['Player'] == 'Michael Jordan') & ~(df['PTS'] < 30000)]"
   ]
  },
  {
   "cell_type": "markdown",
   "metadata": {},
   "source": [
    "**Quiz**: Finden Sie alle Spieler mit einer Wurfquote (FG%) von über 60 Prozent"
   ]
  },
  {
   "cell_type": "code",
   "execution_count": 14,
   "metadata": {},
   "outputs": [
    {
     "data": {
      "text/html": [
       "<div>\n",
       "<style scoped>\n",
       "    .dataframe tbody tr th:only-of-type {\n",
       "        vertical-align: middle;\n",
       "    }\n",
       "\n",
       "    .dataframe tbody tr th {\n",
       "        vertical-align: top;\n",
       "    }\n",
       "\n",
       "    .dataframe thead th {\n",
       "        text-align: right;\n",
       "    }\n",
       "</style>\n",
       "<table border=\"1\" class=\"dataframe\">\n",
       "  <thead>\n",
       "    <tr style=\"text-align: right;\">\n",
       "      <th></th>\n",
       "      <th>#</th>\n",
       "      <th>Player</th>\n",
       "      <th>GP</th>\n",
       "      <th>MIN</th>\n",
       "      <th>PTS</th>\n",
       "      <th>FGM</th>\n",
       "      <th>FGA</th>\n",
       "      <th>FG%</th>\n",
       "      <th>3PM</th>\n",
       "      <th>3PA</th>\n",
       "      <th>...</th>\n",
       "      <th>FT%</th>\n",
       "      <th>OREB</th>\n",
       "      <th>DREB</th>\n",
       "      <th>REB</th>\n",
       "      <th>AST</th>\n",
       "      <th>STL</th>\n",
       "      <th>BLK</th>\n",
       "      <th>TOV</th>\n",
       "      <th>eFG%</th>\n",
       "      <th>TS%</th>\n",
       "    </tr>\n",
       "  </thead>\n",
       "  <tbody>\n",
       "    <tr>\n",
       "      <th>583</th>\n",
       "      <td>584</td>\n",
       "      <td>DeAndre Jordan</td>\n",
       "      <td>750</td>\n",
       "      <td>21044</td>\n",
       "      <td>7078</td>\n",
       "      <td>2860</td>\n",
       "      <td>4252</td>\n",
       "      <td>67.3</td>\n",
       "      <td>1</td>\n",
       "      <td>11</td>\n",
       "      <td>...</td>\n",
       "      <td>44.6</td>\n",
       "      <td>2435</td>\n",
       "      <td>5553</td>\n",
       "      <td>7988</td>\n",
       "      <td>557</td>\n",
       "      <td>448</td>\n",
       "      <td>1277</td>\n",
       "      <td>982</td>\n",
       "      <td>67.3</td>\n",
       "      <td>63.3</td>\n",
       "    </tr>\n",
       "    <tr>\n",
       "      <th>1122</th>\n",
       "      <td>1123</td>\n",
       "      <td>Brandan Wright</td>\n",
       "      <td>428</td>\n",
       "      <td>6949</td>\n",
       "      <td>2976</td>\n",
       "      <td>1271</td>\n",
       "      <td>2095</td>\n",
       "      <td>60.7</td>\n",
       "      <td>0</td>\n",
       "      <td>12</td>\n",
       "      <td>...</td>\n",
       "      <td>67.4</td>\n",
       "      <td>586</td>\n",
       "      <td>974</td>\n",
       "      <td>1560</td>\n",
       "      <td>199</td>\n",
       "      <td>198</td>\n",
       "      <td>425</td>\n",
       "      <td>202</td>\n",
       "      <td>60.7</td>\n",
       "      <td>62.6</td>\n",
       "    </tr>\n",
       "  </tbody>\n",
       "</table>\n",
       "<p>2 rows × 23 columns</p>\n",
       "</div>"
      ],
      "text/plain": [
       "         #          Player   GP    MIN   PTS   FGM   FGA   FG% 3PM 3PA  ...   \\\n",
       "583    584  DeAndre Jordan  750  21044  7078  2860  4252  67.3   1  11  ...    \n",
       "1122  1123  Brandan Wright  428   6949  2976  1271  2095  60.7   0  12  ...    \n",
       "\n",
       "       FT%  OREB  DREB   REB  AST  STL   BLK  TOV  eFG%   TS%  \n",
       "583   44.6  2435  5553  7988  557  448  1277  982  67.3  63.3  \n",
       "1122  67.4   586   974  1560  199  198   425  202  60.7  62.6  \n",
       "\n",
       "[2 rows x 23 columns]"
      ]
     },
     "execution_count": 14,
     "metadata": {},
     "output_type": "execute_result"
    }
   ],
   "source": [
    "#Antwort\n",
    "df[df[\"FG%\"] > 60]"
   ]
  },
  {
   "cell_type": "markdown",
   "metadata": {},
   "source": [
    "**Quiz:** Finden Sie alle Spieler, die mehr als 10'000 Rebounds (REB) und mehr als 5000 Assists (AST) gesammelt haben"
   ]
  },
  {
   "cell_type": "code",
   "execution_count": 17,
   "metadata": {},
   "outputs": [
    {
     "data": {
      "text/html": [
       "<div>\n",
       "<style scoped>\n",
       "    .dataframe tbody tr th:only-of-type {\n",
       "        vertical-align: middle;\n",
       "    }\n",
       "\n",
       "    .dataframe tbody tr th {\n",
       "        vertical-align: top;\n",
       "    }\n",
       "\n",
       "    .dataframe thead th {\n",
       "        text-align: right;\n",
       "    }\n",
       "</style>\n",
       "<table border=\"1\" class=\"dataframe\">\n",
       "  <thead>\n",
       "    <tr style=\"text-align: right;\">\n",
       "      <th></th>\n",
       "      <th>#</th>\n",
       "      <th>Player</th>\n",
       "      <th>GP</th>\n",
       "      <th>MIN</th>\n",
       "      <th>PTS</th>\n",
       "      <th>FGM</th>\n",
       "      <th>FGA</th>\n",
       "      <th>FG%</th>\n",
       "      <th>3PM</th>\n",
       "      <th>3PA</th>\n",
       "      <th>...</th>\n",
       "      <th>FT%</th>\n",
       "      <th>OREB</th>\n",
       "      <th>DREB</th>\n",
       "      <th>REB</th>\n",
       "      <th>AST</th>\n",
       "      <th>STL</th>\n",
       "      <th>BLK</th>\n",
       "      <th>TOV</th>\n",
       "      <th>eFG%</th>\n",
       "      <th>TS%</th>\n",
       "    </tr>\n",
       "  </thead>\n",
       "  <tbody>\n",
       "    <tr>\n",
       "      <th>0</th>\n",
       "      <td>1</td>\n",
       "      <td>Kareem Abdul-Jabbar</td>\n",
       "      <td>1560</td>\n",
       "      <td>57446</td>\n",
       "      <td>38387</td>\n",
       "      <td>15837</td>\n",
       "      <td>28307</td>\n",
       "      <td>55.9</td>\n",
       "      <td>1</td>\n",
       "      <td>18</td>\n",
       "      <td>...</td>\n",
       "      <td>72.1</td>\n",
       "      <td>2975</td>\n",
       "      <td>9394</td>\n",
       "      <td>17440</td>\n",
       "      <td>5660</td>\n",
       "      <td>1160</td>\n",
       "      <td>3189</td>\n",
       "      <td>2527</td>\n",
       "      <td>55.9</td>\n",
       "      <td>59.2</td>\n",
       "    </tr>\n",
       "    <tr>\n",
       "      <th>1</th>\n",
       "      <td>2</td>\n",
       "      <td>Karl Malone</td>\n",
       "      <td>1476</td>\n",
       "      <td>54852</td>\n",
       "      <td>36928</td>\n",
       "      <td>13528</td>\n",
       "      <td>26210</td>\n",
       "      <td>51.6</td>\n",
       "      <td>85</td>\n",
       "      <td>310</td>\n",
       "      <td>...</td>\n",
       "      <td>74.2</td>\n",
       "      <td>3562</td>\n",
       "      <td>11406</td>\n",
       "      <td>14968</td>\n",
       "      <td>5248</td>\n",
       "      <td>2085</td>\n",
       "      <td>1145</td>\n",
       "      <td>4524</td>\n",
       "      <td>51.8</td>\n",
       "      <td>57.7</td>\n",
       "    </tr>\n",
       "    <tr>\n",
       "      <th>16</th>\n",
       "      <td>17</td>\n",
       "      <td>Kevin Garnett</td>\n",
       "      <td>1462</td>\n",
       "      <td>50412</td>\n",
       "      <td>26071</td>\n",
       "      <td>10505</td>\n",
       "      <td>21142</td>\n",
       "      <td>49.7</td>\n",
       "      <td>174</td>\n",
       "      <td>632</td>\n",
       "      <td>...</td>\n",
       "      <td>78.9</td>\n",
       "      <td>3209</td>\n",
       "      <td>11453</td>\n",
       "      <td>14662</td>\n",
       "      <td>5445</td>\n",
       "      <td>1859</td>\n",
       "      <td>2037</td>\n",
       "      <td>3179</td>\n",
       "      <td>50.1</td>\n",
       "      <td>54.6</td>\n",
       "    </tr>\n",
       "  </tbody>\n",
       "</table>\n",
       "<p>3 rows × 23 columns</p>\n",
       "</div>"
      ],
      "text/plain": [
       "     #               Player    GP    MIN    PTS    FGM    FGA   FG%  3PM  3PA  \\\n",
       "0    1  Kareem Abdul-Jabbar  1560  57446  38387  15837  28307  55.9    1   18   \n",
       "1    2          Karl Malone  1476  54852  36928  13528  26210  51.6   85  310   \n",
       "16  17        Kevin Garnett  1462  50412  26071  10505  21142  49.7  174  632   \n",
       "\n",
       "    ...    FT%  OREB   DREB    REB   AST   STL   BLK   TOV  eFG%   TS%  \n",
       "0   ...   72.1  2975   9394  17440  5660  1160  3189  2527  55.9  59.2  \n",
       "1   ...   74.2  3562  11406  14968  5248  2085  1145  4524  51.8  57.7  \n",
       "16  ...   78.9  3209  11453  14662  5445  1859  2037  3179  50.1  54.6  \n",
       "\n",
       "[3 rows x 23 columns]"
      ]
     },
     "execution_count": 17,
     "metadata": {},
     "output_type": "execute_result"
    }
   ],
   "source": [
    "#Antwort\n",
    "df[(df[\"REB\"] > 10000) & (df[\"AST\"] > 5000)]"
   ]
  },
  {
   "cell_type": "markdown",
   "metadata": {},
   "source": [
    "**Quiz:** Finden Sie alle Spieler, die weniger als 1000 Turnovers (Ballverluste, TOV) auf ihrem Konto haben und eine Dreipunktewurfquote (3P%) über 50 Prozent."
   ]
  },
  {
   "cell_type": "code",
   "execution_count": 26,
   "metadata": {},
   "outputs": [
    {
     "data": {
      "text/plain": [
       "0.0     322\n",
       "38.4     13\n",
       "16.7     12\n",
       "34.9     11\n",
       "33.2     11\n",
       "25.0     11\n",
       "33.3     10\n",
       "35.5     10\n",
       "20.0      9\n",
       "32.7      9\n",
       "33.5      9\n",
       "36.1      9\n",
       "36.6      8\n",
       "14.3      8\n",
       "35.7      8\n",
       "33.8      8\n",
       "37.3      8\n",
       "11.1      7\n",
       "34.3      7\n",
       "35.6      7\n",
       "34.1      7\n",
       "37.6      7\n",
       "37.0      7\n",
       "34.0      7\n",
       "33.6      7\n",
       "35.4      7\n",
       "33.7      7\n",
       "31.8      7\n",
       "37.8      6\n",
       "34.4      6\n",
       "       ... \n",
       "13.8      1\n",
       "40.4      1\n",
       "25.2      1\n",
       "9.4       1\n",
       "3.4       1\n",
       "41.7      1\n",
       "23.6      1\n",
       "18.1      1\n",
       "25.6      1\n",
       "21.3      1\n",
       "12.1      1\n",
       "25.1      1\n",
       "23.2      1\n",
       "45.4      1\n",
       "32.3      1\n",
       "14.8      1\n",
       "13.4      1\n",
       "2.4       1\n",
       "11.6      1\n",
       "22.2      1\n",
       "29.6      1\n",
       "40.7      1\n",
       "22.3      1\n",
       "30.8      1\n",
       "38.5      1\n",
       "42.5      1\n",
       "11.3      1\n",
       "40.5      1\n",
       "41.5      1\n",
       "18.4      1\n",
       "Name: 3P%, Length: 294, dtype: int64"
      ]
     },
     "execution_count": 26,
     "metadata": {},
     "output_type": "execute_result"
    }
   ],
   "source": [
    "#Antwort\n",
    "#df[(float(df[\"TOV\"]) < 1000) & (float(df[\"3P%\"]) > 50)]\n",
    "df_cleaned = df[\"3P%\"].replace(\"-\",0)\n",
    "df_cleaned.value_counts()"
   ]
  },
  {
   "cell_type": "markdown",
   "metadata": {},
   "source": [
    "**Oops!**\n",
    "\n",
    "Was ging hier schief??"
   ]
  },
  {
   "cell_type": "markdown",
   "metadata": {},
   "source": [
    "Pandas sagt: `TypeError`. Was kann das heissen?\n",
    "\n",
    "Checken wir nochmals die Datentypen."
   ]
  },
  {
   "cell_type": "code",
   "execution_count": null,
   "metadata": {},
   "outputs": [],
   "source": [
    "df.dtypes"
   ]
  },
  {
   "cell_type": "markdown",
   "metadata": {},
   "source": [
    "Offensichtlich wurden einige Spalten als `object` und nicht als `int64` oder `float64` erfasst.\n",
    "\n",
    "Zum Beispiel eben die Spalte TOV. Schauen wir sie nochmals genauer an."
   ]
  },
  {
   "cell_type": "code",
   "execution_count": null,
   "metadata": {},
   "outputs": [],
   "source": [
    "df['TOV']"
   ]
  },
  {
   "cell_type": "markdown",
   "metadata": {},
   "source": [
    "Einige Spieler haben bei TOV keine Zahlen drin, sondern fehlende Werte: -\n",
    "\n",
    "Wir müssen das korrigieren."
   ]
  },
  {
   "cell_type": "markdown",
   "metadata": {},
   "source": [
    "## Introducing: nan"
   ]
  },
  {
   "cell_type": "markdown",
   "metadata": {},
   "source": [
    "Pandas hat für fehlende Werte kein Sonderzeichen, sondern einen speziellen Datentyp: nan (not a number)"
   ]
  },
  {
   "cell_type": "markdown",
   "metadata": {},
   "source": [
    "Wir müssen irgendwie dafür sorgen, dass die Bindestriche in dieser Tabelle durch nan's ersetzt werden.\n",
    "\n",
    "Nur so werden wir die Kalkulationen für die betreffenden Felder ausführen können."
   ]
  },
  {
   "cell_type": "markdown",
   "metadata": {},
   "source": [
    "Es gibt diverse Tricks, um Daten zu putzen und fehlende Werte als nan zu klassifizieren.\n",
    "\n",
    "Der einfachste: Die Daten einfach nochmal neu öffnen, mit einer speziellen Zusatzangabe: `na_values`"
   ]
  },
  {
   "cell_type": "code",
   "execution_count": 27,
   "metadata": {},
   "outputs": [],
   "source": [
    "df = pd.read_excel(path, na_values='-')"
   ]
  },
  {
   "cell_type": "markdown",
   "metadata": {},
   "source": [
    "Et voilà: Hier sind unsere Datentypen"
   ]
  },
  {
   "cell_type": "code",
   "execution_count": 28,
   "metadata": {},
   "outputs": [
    {
     "data": {
      "text/plain": [
       "#           int64\n",
       "Player     object\n",
       "GP          int64\n",
       "MIN         int64\n",
       "PTS         int64\n",
       "FGM         int64\n",
       "FGA         int64\n",
       "FG%       float64\n",
       "3PM       float64\n",
       "3PA       float64\n",
       "3P%       float64\n",
       "FTM         int64\n",
       "FTA         int64\n",
       "FT%       float64\n",
       "OREB      float64\n",
       "DREB      float64\n",
       "REB         int64\n",
       "AST         int64\n",
       "STL       float64\n",
       "BLK       float64\n",
       "TOV       float64\n",
       "eFG%      float64\n",
       "TS%       float64\n",
       "dtype: object"
      ]
     },
     "execution_count": 28,
     "metadata": {},
     "output_type": "execute_result"
    }
   ],
   "source": [
    "df.dtypes"
   ]
  },
  {
   "cell_type": "markdown",
   "metadata": {},
   "source": [
    "Und hier unsere Spieler mit weniger als 1000 Turnovers und Dreipunktewurfquote über 50 Prozent."
   ]
  },
  {
   "cell_type": "code",
   "execution_count": 29,
   "metadata": {},
   "outputs": [
    {
     "data": {
      "text/html": [
       "<div>\n",
       "<style scoped>\n",
       "    .dataframe tbody tr th:only-of-type {\n",
       "        vertical-align: middle;\n",
       "    }\n",
       "\n",
       "    .dataframe tbody tr th {\n",
       "        vertical-align: top;\n",
       "    }\n",
       "\n",
       "    .dataframe thead th {\n",
       "        text-align: right;\n",
       "    }\n",
       "</style>\n",
       "<table border=\"1\" class=\"dataframe\">\n",
       "  <thead>\n",
       "    <tr style=\"text-align: right;\">\n",
       "      <th></th>\n",
       "      <th>#</th>\n",
       "      <th>Player</th>\n",
       "      <th>GP</th>\n",
       "      <th>MIN</th>\n",
       "      <th>PTS</th>\n",
       "      <th>FGM</th>\n",
       "      <th>FGA</th>\n",
       "      <th>FG%</th>\n",
       "      <th>3PM</th>\n",
       "      <th>3PA</th>\n",
       "      <th>...</th>\n",
       "      <th>FT%</th>\n",
       "      <th>OREB</th>\n",
       "      <th>DREB</th>\n",
       "      <th>REB</th>\n",
       "      <th>AST</th>\n",
       "      <th>STL</th>\n",
       "      <th>BLK</th>\n",
       "      <th>TOV</th>\n",
       "      <th>eFG%</th>\n",
       "      <th>TS%</th>\n",
       "    </tr>\n",
       "  </thead>\n",
       "  <tbody>\n",
       "    <tr>\n",
       "      <th>111</th>\n",
       "      <td>112</td>\n",
       "      <td>Pete Maravich</td>\n",
       "      <td>658</td>\n",
       "      <td>24316</td>\n",
       "      <td>15948</td>\n",
       "      <td>6187</td>\n",
       "      <td>14025</td>\n",
       "      <td>44.1</td>\n",
       "      <td>10.0</td>\n",
       "      <td>15.0</td>\n",
       "      <td>...</td>\n",
       "      <td>82.0</td>\n",
       "      <td>426.0</td>\n",
       "      <td>1421.0</td>\n",
       "      <td>2747</td>\n",
       "      <td>3563</td>\n",
       "      <td>587.0</td>\n",
       "      <td>108.0</td>\n",
       "      <td>530.0</td>\n",
       "      <td>44.1</td>\n",
       "      <td>50.0</td>\n",
       "    </tr>\n",
       "  </tbody>\n",
       "</table>\n",
       "<p>1 rows × 23 columns</p>\n",
       "</div>"
      ],
      "text/plain": [
       "       #         Player   GP    MIN    PTS   FGM    FGA   FG%   3PM   3PA  \\\n",
       "111  112  Pete Maravich  658  24316  15948  6187  14025  44.1  10.0  15.0   \n",
       "\n",
       "     ...    FT%   OREB    DREB   REB   AST    STL    BLK    TOV  eFG%   TS%  \n",
       "111  ...   82.0  426.0  1421.0  2747  3563  587.0  108.0  530.0  44.1  50.0  \n",
       "\n",
       "[1 rows x 23 columns]"
      ]
     },
     "execution_count": 29,
     "metadata": {},
     "output_type": "execute_result"
    }
   ],
   "source": [
    "df[(df['TOV'] < 1000) & (df['3P%'] > 50)]"
   ]
  },
  {
   "cell_type": "markdown",
   "metadata": {},
   "source": [
    "Wow, **Pete Maravich** ist der einzige Spieler, der das geschafft hat! Er ist der beste Spieler der NBA aller Zeiten!!"
   ]
  },
  {
   "cell_type": "markdown",
   "metadata": {},
   "source": [
    "Hier ein Video von Pete Maravich: https://www.youtube.com/watch?v=cL74uXq5l2o\n",
    "\n",
    "... allerdings hat Pete Maravich auch nur in 658 Spielen gespielt, deutlich weniger als Kareem Abdul-Jabbar mit seinen 1560 Spielen."
   ]
  },
  {
   "cell_type": "markdown",
   "metadata": {},
   "source": [
    "Wie wäre es also mit einem neuen Kriterium: Ballverluste pro Spiel? Wer schneidet hier besser ab, Maravich oder Abdul-Jabbar?"
   ]
  },
  {
   "cell_type": "markdown",
   "metadata": {},
   "source": [
    "## Neue Spalten erstellen"
   ]
  },
  {
   "cell_type": "markdown",
   "metadata": {},
   "source": [
    "Bislang haben wir unsere Vergleiche mit bestehenden Spalten angestellt. Nun müssen wir eine neue Spalte erstellen."
   ]
  },
  {
   "cell_type": "markdown",
   "metadata": {},
   "source": [
    "Wir nennen sie \"TOV%\" und sagen Pandas, dafür die Anzahl der Ballverluste durch die Anzahl der Spiele zu dividieren."
   ]
  },
  {
   "cell_type": "code",
   "execution_count": 32,
   "metadata": {},
   "outputs": [],
   "source": [
    "df['TOV%'] = df['TOV'] / df['GP'] # Setze oder ersetze eine neue Spalte"
   ]
  },
  {
   "cell_type": "markdown",
   "metadata": {},
   "source": [
    "Schaun wir mal, wer nun besser abschneidet: Pete Maravich oder Kareem Abdul-Jabbar?"
   ]
  },
  {
   "cell_type": "code",
   "execution_count": 33,
   "metadata": {},
   "outputs": [
    {
     "data": {
      "text/html": [
       "<div>\n",
       "<style scoped>\n",
       "    .dataframe tbody tr th:only-of-type {\n",
       "        vertical-align: middle;\n",
       "    }\n",
       "\n",
       "    .dataframe tbody tr th {\n",
       "        vertical-align: top;\n",
       "    }\n",
       "\n",
       "    .dataframe thead th {\n",
       "        text-align: right;\n",
       "    }\n",
       "</style>\n",
       "<table border=\"1\" class=\"dataframe\">\n",
       "  <thead>\n",
       "    <tr style=\"text-align: right;\">\n",
       "      <th></th>\n",
       "      <th>#</th>\n",
       "      <th>Player</th>\n",
       "      <th>GP</th>\n",
       "      <th>MIN</th>\n",
       "      <th>PTS</th>\n",
       "      <th>FGM</th>\n",
       "      <th>FGA</th>\n",
       "      <th>FG%</th>\n",
       "      <th>3PM</th>\n",
       "      <th>3PA</th>\n",
       "      <th>...</th>\n",
       "      <th>OREB</th>\n",
       "      <th>DREB</th>\n",
       "      <th>REB</th>\n",
       "      <th>AST</th>\n",
       "      <th>STL</th>\n",
       "      <th>BLK</th>\n",
       "      <th>TOV</th>\n",
       "      <th>eFG%</th>\n",
       "      <th>TS%</th>\n",
       "      <th>TOV%</th>\n",
       "    </tr>\n",
       "  </thead>\n",
       "  <tbody>\n",
       "    <tr>\n",
       "      <th>0</th>\n",
       "      <td>1</td>\n",
       "      <td>Kareem Abdul-Jabbar</td>\n",
       "      <td>1560</td>\n",
       "      <td>57446</td>\n",
       "      <td>38387</td>\n",
       "      <td>15837</td>\n",
       "      <td>28307</td>\n",
       "      <td>55.9</td>\n",
       "      <td>1.0</td>\n",
       "      <td>18.0</td>\n",
       "      <td>...</td>\n",
       "      <td>2975.0</td>\n",
       "      <td>9394.0</td>\n",
       "      <td>17440</td>\n",
       "      <td>5660</td>\n",
       "      <td>1160.0</td>\n",
       "      <td>3189.0</td>\n",
       "      <td>2527.0</td>\n",
       "      <td>55.9</td>\n",
       "      <td>59.2</td>\n",
       "      <td>1.619872</td>\n",
       "    </tr>\n",
       "    <tr>\n",
       "      <th>111</th>\n",
       "      <td>112</td>\n",
       "      <td>Pete Maravich</td>\n",
       "      <td>658</td>\n",
       "      <td>24316</td>\n",
       "      <td>15948</td>\n",
       "      <td>6187</td>\n",
       "      <td>14025</td>\n",
       "      <td>44.1</td>\n",
       "      <td>10.0</td>\n",
       "      <td>15.0</td>\n",
       "      <td>...</td>\n",
       "      <td>426.0</td>\n",
       "      <td>1421.0</td>\n",
       "      <td>2747</td>\n",
       "      <td>3563</td>\n",
       "      <td>587.0</td>\n",
       "      <td>108.0</td>\n",
       "      <td>530.0</td>\n",
       "      <td>44.1</td>\n",
       "      <td>50.0</td>\n",
       "      <td>0.805471</td>\n",
       "    </tr>\n",
       "  </tbody>\n",
       "</table>\n",
       "<p>2 rows × 24 columns</p>\n",
       "</div>"
      ],
      "text/plain": [
       "       #               Player    GP    MIN    PTS    FGM    FGA   FG%   3PM  \\\n",
       "0      1  Kareem Abdul-Jabbar  1560  57446  38387  15837  28307  55.9   1.0   \n",
       "111  112        Pete Maravich   658  24316  15948   6187  14025  44.1  10.0   \n",
       "\n",
       "      3PA    ...       OREB    DREB    REB   AST     STL     BLK     TOV  \\\n",
       "0    18.0    ...     2975.0  9394.0  17440  5660  1160.0  3189.0  2527.0   \n",
       "111  15.0    ...      426.0  1421.0   2747  3563   587.0   108.0   530.0   \n",
       "\n",
       "     eFG%   TS%      TOV%  \n",
       "0    55.9  59.2  1.619872  \n",
       "111  44.1  50.0  0.805471  \n",
       "\n",
       "[2 rows x 24 columns]"
      ]
     },
     "execution_count": 33,
     "metadata": {},
     "output_type": "execute_result"
    }
   ],
   "source": [
    "df[(df['Player'] == 'Pete Maravich') | (df['Player'] == 'Kareem Abdul-Jabbar')]"
   ]
  },
  {
   "cell_type": "markdown",
   "metadata": {},
   "source": [
    "Wir können die üblichen mathematischen Operatoren verwenden, um auf diese Weise Spalten zu erzeugen:\n",
    "- `+`, `-`, `*`, `/`, `**`, `%`, `//` (die komplette Liste der Operatoren: https://www.tutorialspoint.com/python/python_basic_operators.htm)"
   ]
  },
  {
   "cell_type": "markdown",
   "metadata": {},
   "source": [
    "**Quiz:** Erstellen Sie eine neue Spalte (\"TOT\") mit dem Total der Rebounds, Assists, Steals und Blocks, die ein Spieler in seiner Karriere gesammelt hat."
   ]
  },
  {
   "cell_type": "code",
   "execution_count": 34,
   "metadata": {},
   "outputs": [],
   "source": [
    "#Antwort\n",
    "df[\"TOT\"] = df[\"REB\"] + df[\"AST\"] + df[\"STL\"] + df[\"BLK\"]"
   ]
  },
  {
   "cell_type": "markdown",
   "metadata": {},
   "source": [
    "**Quiz:** Welche zehn Spieler haben die grössten Tot-Werte aller Zeiten?"
   ]
  },
  {
   "cell_type": "code",
   "execution_count": 40,
   "metadata": {},
   "outputs": [
    {
     "data": {
      "text/html": [
       "<div>\n",
       "<style scoped>\n",
       "    .dataframe tbody tr th:only-of-type {\n",
       "        vertical-align: middle;\n",
       "    }\n",
       "\n",
       "    .dataframe tbody tr th {\n",
       "        vertical-align: top;\n",
       "    }\n",
       "\n",
       "    .dataframe thead th {\n",
       "        text-align: right;\n",
       "    }\n",
       "</style>\n",
       "<table border=\"1\" class=\"dataframe\">\n",
       "  <thead>\n",
       "    <tr style=\"text-align: right;\">\n",
       "      <th></th>\n",
       "      <th>#</th>\n",
       "      <th>Player</th>\n",
       "      <th>GP</th>\n",
       "      <th>MIN</th>\n",
       "      <th>PTS</th>\n",
       "      <th>FGM</th>\n",
       "      <th>FGA</th>\n",
       "      <th>FG%</th>\n",
       "      <th>3PM</th>\n",
       "      <th>3PA</th>\n",
       "      <th>...</th>\n",
       "      <th>DREB</th>\n",
       "      <th>REB</th>\n",
       "      <th>AST</th>\n",
       "      <th>STL</th>\n",
       "      <th>BLK</th>\n",
       "      <th>TOV</th>\n",
       "      <th>eFG%</th>\n",
       "      <th>TS%</th>\n",
       "      <th>TOV%</th>\n",
       "      <th>TOT</th>\n",
       "    </tr>\n",
       "  </thead>\n",
       "  <tbody>\n",
       "    <tr>\n",
       "      <th>0</th>\n",
       "      <td>1</td>\n",
       "      <td>Kareem Abdul-Jabbar</td>\n",
       "      <td>1560</td>\n",
       "      <td>57446</td>\n",
       "      <td>38387</td>\n",
       "      <td>15837</td>\n",
       "      <td>28307</td>\n",
       "      <td>55.9</td>\n",
       "      <td>1.0</td>\n",
       "      <td>18.0</td>\n",
       "      <td>...</td>\n",
       "      <td>9394.0</td>\n",
       "      <td>17440</td>\n",
       "      <td>5660</td>\n",
       "      <td>1160.0</td>\n",
       "      <td>3189.0</td>\n",
       "      <td>2527.0</td>\n",
       "      <td>55.9</td>\n",
       "      <td>59.2</td>\n",
       "      <td>1.619872</td>\n",
       "      <td>27449.0</td>\n",
       "    </tr>\n",
       "    <tr>\n",
       "      <th>16</th>\n",
       "      <td>17</td>\n",
       "      <td>Kevin Garnett</td>\n",
       "      <td>1462</td>\n",
       "      <td>50412</td>\n",
       "      <td>26071</td>\n",
       "      <td>10505</td>\n",
       "      <td>21142</td>\n",
       "      <td>49.7</td>\n",
       "      <td>174.0</td>\n",
       "      <td>632.0</td>\n",
       "      <td>...</td>\n",
       "      <td>11453.0</td>\n",
       "      <td>14662</td>\n",
       "      <td>5445</td>\n",
       "      <td>1859.0</td>\n",
       "      <td>2037.0</td>\n",
       "      <td>3179.0</td>\n",
       "      <td>50.1</td>\n",
       "      <td>54.6</td>\n",
       "      <td>2.174419</td>\n",
       "      <td>24003.0</td>\n",
       "    </tr>\n",
       "    <tr>\n",
       "      <th>80</th>\n",
       "      <td>81</td>\n",
       "      <td>Jason Kidd</td>\n",
       "      <td>1391</td>\n",
       "      <td>50116</td>\n",
       "      <td>17529</td>\n",
       "      <td>6219</td>\n",
       "      <td>15557</td>\n",
       "      <td>40.0</td>\n",
       "      <td>1988.0</td>\n",
       "      <td>5701.0</td>\n",
       "      <td>...</td>\n",
       "      <td>6957.0</td>\n",
       "      <td>8725</td>\n",
       "      <td>12091</td>\n",
       "      <td>2684.0</td>\n",
       "      <td>450.0</td>\n",
       "      <td>4003.0</td>\n",
       "      <td>46.4</td>\n",
       "      <td>50.7</td>\n",
       "      <td>2.877786</td>\n",
       "      <td>23950.0</td>\n",
       "    </tr>\n",
       "    <tr>\n",
       "      <th>1</th>\n",
       "      <td>2</td>\n",
       "      <td>Karl Malone</td>\n",
       "      <td>1476</td>\n",
       "      <td>54852</td>\n",
       "      <td>36928</td>\n",
       "      <td>13528</td>\n",
       "      <td>26210</td>\n",
       "      <td>51.6</td>\n",
       "      <td>85.0</td>\n",
       "      <td>310.0</td>\n",
       "      <td>...</td>\n",
       "      <td>11406.0</td>\n",
       "      <td>14968</td>\n",
       "      <td>5248</td>\n",
       "      <td>2085.0</td>\n",
       "      <td>1145.0</td>\n",
       "      <td>4524.0</td>\n",
       "      <td>51.8</td>\n",
       "      <td>57.7</td>\n",
       "      <td>3.065041</td>\n",
       "      <td>23446.0</td>\n",
       "    </tr>\n",
       "    <tr>\n",
       "      <th>44</th>\n",
       "      <td>45</td>\n",
       "      <td>John Stockton</td>\n",
       "      <td>1504</td>\n",
       "      <td>47766</td>\n",
       "      <td>19711</td>\n",
       "      <td>7039</td>\n",
       "      <td>13658</td>\n",
       "      <td>51.5</td>\n",
       "      <td>845.0</td>\n",
       "      <td>2202.0</td>\n",
       "      <td>...</td>\n",
       "      <td>3085.0</td>\n",
       "      <td>4051</td>\n",
       "      <td>15806</td>\n",
       "      <td>3265.0</td>\n",
       "      <td>315.0</td>\n",
       "      <td>4244.0</td>\n",
       "      <td>54.6</td>\n",
       "      <td>60.8</td>\n",
       "      <td>2.821809</td>\n",
       "      <td>23437.0</td>\n",
       "    </tr>\n",
       "    <tr>\n",
       "      <th>13</th>\n",
       "      <td>14</td>\n",
       "      <td>Tim Duncan</td>\n",
       "      <td>1392</td>\n",
       "      <td>47367</td>\n",
       "      <td>26496</td>\n",
       "      <td>10285</td>\n",
       "      <td>20334</td>\n",
       "      <td>50.6</td>\n",
       "      <td>30.0</td>\n",
       "      <td>168.0</td>\n",
       "      <td>...</td>\n",
       "      <td>11232.0</td>\n",
       "      <td>15091</td>\n",
       "      <td>4225</td>\n",
       "      <td>1025.0</td>\n",
       "      <td>3020.0</td>\n",
       "      <td>3381.0</td>\n",
       "      <td>50.7</td>\n",
       "      <td>55.1</td>\n",
       "      <td>2.428879</td>\n",
       "      <td>23361.0</td>\n",
       "    </tr>\n",
       "    <tr>\n",
       "      <th>10</th>\n",
       "      <td>11</td>\n",
       "      <td>Hakeem Olajuwon</td>\n",
       "      <td>1238</td>\n",
       "      <td>44218</td>\n",
       "      <td>26946</td>\n",
       "      <td>10749</td>\n",
       "      <td>20991</td>\n",
       "      <td>51.2</td>\n",
       "      <td>25.0</td>\n",
       "      <td>124.0</td>\n",
       "      <td>...</td>\n",
       "      <td>9714.0</td>\n",
       "      <td>13748</td>\n",
       "      <td>3058</td>\n",
       "      <td>2162.0</td>\n",
       "      <td>3830.0</td>\n",
       "      <td>3667.0</td>\n",
       "      <td>51.3</td>\n",
       "      <td>55.3</td>\n",
       "      <td>2.962036</td>\n",
       "      <td>22798.0</td>\n",
       "    </tr>\n",
       "    <tr>\n",
       "      <th>9</th>\n",
       "      <td>10</td>\n",
       "      <td>Elvin Hayes</td>\n",
       "      <td>1303</td>\n",
       "      <td>50000</td>\n",
       "      <td>27313</td>\n",
       "      <td>10976</td>\n",
       "      <td>24272</td>\n",
       "      <td>45.2</td>\n",
       "      <td>5.0</td>\n",
       "      <td>34.0</td>\n",
       "      <td>...</td>\n",
       "      <td>6973.0</td>\n",
       "      <td>16279</td>\n",
       "      <td>2398</td>\n",
       "      <td>864.0</td>\n",
       "      <td>1771.0</td>\n",
       "      <td>1358.0</td>\n",
       "      <td>45.2</td>\n",
       "      <td>49.1</td>\n",
       "      <td>1.042210</td>\n",
       "      <td>21312.0</td>\n",
       "    </tr>\n",
       "    <tr>\n",
       "      <th>8</th>\n",
       "      <td>9</td>\n",
       "      <td>Moses Malone</td>\n",
       "      <td>1329</td>\n",
       "      <td>45071</td>\n",
       "      <td>27409</td>\n",
       "      <td>9435</td>\n",
       "      <td>19225</td>\n",
       "      <td>49.1</td>\n",
       "      <td>8.0</td>\n",
       "      <td>80.0</td>\n",
       "      <td>...</td>\n",
       "      <td>9481.0</td>\n",
       "      <td>16212</td>\n",
       "      <td>1796</td>\n",
       "      <td>1089.0</td>\n",
       "      <td>1733.0</td>\n",
       "      <td>3804.0</td>\n",
       "      <td>49.1</td>\n",
       "      <td>56.9</td>\n",
       "      <td>2.862302</td>\n",
       "      <td>20830.0</td>\n",
       "    </tr>\n",
       "    <tr>\n",
       "      <th>26</th>\n",
       "      <td>27</td>\n",
       "      <td>Robert Parish</td>\n",
       "      <td>1611</td>\n",
       "      <td>45704</td>\n",
       "      <td>23334</td>\n",
       "      <td>9614</td>\n",
       "      <td>17914</td>\n",
       "      <td>53.7</td>\n",
       "      <td>0.0</td>\n",
       "      <td>6.0</td>\n",
       "      <td>...</td>\n",
       "      <td>10117.0</td>\n",
       "      <td>14715</td>\n",
       "      <td>2180</td>\n",
       "      <td>1219.0</td>\n",
       "      <td>2361.0</td>\n",
       "      <td>3183.0</td>\n",
       "      <td>53.7</td>\n",
       "      <td>57.1</td>\n",
       "      <td>1.975791</td>\n",
       "      <td>20475.0</td>\n",
       "    </tr>\n",
       "  </tbody>\n",
       "</table>\n",
       "<p>10 rows × 25 columns</p>\n",
       "</div>"
      ],
      "text/plain": [
       "     #               Player    GP    MIN    PTS    FGM    FGA   FG%     3PM  \\\n",
       "0    1  Kareem Abdul-Jabbar  1560  57446  38387  15837  28307  55.9     1.0   \n",
       "16  17        Kevin Garnett  1462  50412  26071  10505  21142  49.7   174.0   \n",
       "80  81           Jason Kidd  1391  50116  17529   6219  15557  40.0  1988.0   \n",
       "1    2          Karl Malone  1476  54852  36928  13528  26210  51.6    85.0   \n",
       "44  45        John Stockton  1504  47766  19711   7039  13658  51.5   845.0   \n",
       "13  14           Tim Duncan  1392  47367  26496  10285  20334  50.6    30.0   \n",
       "10  11      Hakeem Olajuwon  1238  44218  26946  10749  20991  51.2    25.0   \n",
       "9   10          Elvin Hayes  1303  50000  27313  10976  24272  45.2     5.0   \n",
       "8    9         Moses Malone  1329  45071  27409   9435  19225  49.1     8.0   \n",
       "26  27        Robert Parish  1611  45704  23334   9614  17914  53.7     0.0   \n",
       "\n",
       "       3PA   ...        DREB    REB    AST     STL     BLK     TOV  eFG%  \\\n",
       "0     18.0   ...      9394.0  17440   5660  1160.0  3189.0  2527.0  55.9   \n",
       "16   632.0   ...     11453.0  14662   5445  1859.0  2037.0  3179.0  50.1   \n",
       "80  5701.0   ...      6957.0   8725  12091  2684.0   450.0  4003.0  46.4   \n",
       "1    310.0   ...     11406.0  14968   5248  2085.0  1145.0  4524.0  51.8   \n",
       "44  2202.0   ...      3085.0   4051  15806  3265.0   315.0  4244.0  54.6   \n",
       "13   168.0   ...     11232.0  15091   4225  1025.0  3020.0  3381.0  50.7   \n",
       "10   124.0   ...      9714.0  13748   3058  2162.0  3830.0  3667.0  51.3   \n",
       "9     34.0   ...      6973.0  16279   2398   864.0  1771.0  1358.0  45.2   \n",
       "8     80.0   ...      9481.0  16212   1796  1089.0  1733.0  3804.0  49.1   \n",
       "26     6.0   ...     10117.0  14715   2180  1219.0  2361.0  3183.0  53.7   \n",
       "\n",
       "     TS%      TOV%      TOT  \n",
       "0   59.2  1.619872  27449.0  \n",
       "16  54.6  2.174419  24003.0  \n",
       "80  50.7  2.877786  23950.0  \n",
       "1   57.7  3.065041  23446.0  \n",
       "44  60.8  2.821809  23437.0  \n",
       "13  55.1  2.428879  23361.0  \n",
       "10  55.3  2.962036  22798.0  \n",
       "9   49.1  1.042210  21312.0  \n",
       "8   56.9  2.862302  20830.0  \n",
       "26  57.1  1.975791  20475.0  \n",
       "\n",
       "[10 rows x 25 columns]"
      ]
     },
     "execution_count": 40,
     "metadata": {},
     "output_type": "execute_result"
    }
   ],
   "source": [
    "#Antwort\n",
    "df.sort_values(\"TOT\", ascending=False).head(10)"
   ]
  },
  {
   "cell_type": "markdown",
   "metadata": {},
   "source": [
    "## Sortieren nach bestimmten Kriterien"
   ]
  },
  {
   "cell_type": "markdown",
   "metadata": {},
   "source": [
    "Wir haben die Funktion `sort_values()` bereits kennengelernt beim Sortieren von einfachen Serien.\n",
    "\n",
    "Nun benutzen wir sie, um ganze Dataframes zu sortieren. Dabei müssen wir jeweils angeben, nach welchen Spalten wir sortieren wollen und in welcher Richtung wir die Einträge anzeigen lassen."
   ]
  },
  {
   "cell_type": "markdown",
   "metadata": {},
   "source": [
    "**Beispiel:** Sortieren nach der Anzahl Ballverluste pro Spiel, mit der tiefsten Quote zuerst (wir zeigen nur die ersten 10 Einträge an)"
   ]
  },
  {
   "cell_type": "code",
   "execution_count": null,
   "metadata": {},
   "outputs": [],
   "source": [
    "df.sort_values('TOV%').head(10)"
   ]
  },
  {
   "cell_type": "markdown",
   "metadata": {},
   "source": [
    "**Beispiel:** Sortieren nach der Wurfquote pro Spiel, mit der höchsten Quote zuerst (wir zeigen nur die ersten 10 Einträge an)"
   ]
  },
  {
   "cell_type": "code",
   "execution_count": null,
   "metadata": {},
   "outputs": [],
   "source": [
    "df.sort_values('FG%', ascending=False).head(10)"
   ]
  },
  {
   "cell_type": "markdown",
   "metadata": {},
   "source": [
    "Etwas nervig: Auch wenn wir nach einzelnen Kriterien sortieren, zeigt Pandas immer die ganze Tabelle an."
   ]
  },
  {
   "cell_type": "markdown",
   "metadata": {},
   "source": [
    "## Einzelne Spalten anzeigen"
   ]
  },
  {
   "cell_type": "markdown",
   "metadata": {},
   "source": [
    "Wir können dem entgegenwirken, indem wir nur einzelne Spalten aus dem Dataframe selektieren.\n",
    "\n",
    "Dazu geben wir eine Liste der Felder an, die wir anzeigen wollen."
   ]
  },
  {
   "cell_type": "markdown",
   "metadata": {},
   "source": [
    "**Beispiel: ** Die fünf besten Spieler der Geschichte: Name, Punkte, Wurfquote, Ballverlustquote"
   ]
  },
  {
   "cell_type": "markdown",
   "metadata": {},
   "source": [
    "Zuerst die Liste..."
   ]
  },
  {
   "cell_type": "code",
   "execution_count": 41,
   "metadata": {},
   "outputs": [],
   "source": [
    "felderliste = ['Player', 'PTS', 'FG%', 'TOV%']"
   ]
  },
  {
   "cell_type": "markdown",
   "metadata": {},
   "source": [
    "... dann die Abfrage"
   ]
  },
  {
   "cell_type": "code",
   "execution_count": 42,
   "metadata": {},
   "outputs": [
    {
     "data": {
      "text/html": [
       "<div>\n",
       "<style scoped>\n",
       "    .dataframe tbody tr th:only-of-type {\n",
       "        vertical-align: middle;\n",
       "    }\n",
       "\n",
       "    .dataframe tbody tr th {\n",
       "        vertical-align: top;\n",
       "    }\n",
       "\n",
       "    .dataframe thead th {\n",
       "        text-align: right;\n",
       "    }\n",
       "</style>\n",
       "<table border=\"1\" class=\"dataframe\">\n",
       "  <thead>\n",
       "    <tr style=\"text-align: right;\">\n",
       "      <th></th>\n",
       "      <th>Player</th>\n",
       "      <th>PTS</th>\n",
       "      <th>FG%</th>\n",
       "      <th>TOV%</th>\n",
       "    </tr>\n",
       "  </thead>\n",
       "  <tbody>\n",
       "    <tr>\n",
       "      <th>0</th>\n",
       "      <td>Kareem Abdul-Jabbar</td>\n",
       "      <td>38387</td>\n",
       "      <td>55.9</td>\n",
       "      <td>1.619872</td>\n",
       "    </tr>\n",
       "    <tr>\n",
       "      <th>1</th>\n",
       "      <td>Karl Malone</td>\n",
       "      <td>36928</td>\n",
       "      <td>51.6</td>\n",
       "      <td>3.065041</td>\n",
       "    </tr>\n",
       "    <tr>\n",
       "      <th>2</th>\n",
       "      <td>Kobe Bryant</td>\n",
       "      <td>33643</td>\n",
       "      <td>44.7</td>\n",
       "      <td>2.979198</td>\n",
       "    </tr>\n",
       "    <tr>\n",
       "      <th>3</th>\n",
       "      <td>Michael Jordan</td>\n",
       "      <td>32292</td>\n",
       "      <td>49.7</td>\n",
       "      <td>2.727612</td>\n",
       "    </tr>\n",
       "    <tr>\n",
       "      <th>4</th>\n",
       "      <td>Wilt Chamberlain</td>\n",
       "      <td>31419</td>\n",
       "      <td>54.0</td>\n",
       "      <td>NaN</td>\n",
       "    </tr>\n",
       "  </tbody>\n",
       "</table>\n",
       "</div>"
      ],
      "text/plain": [
       "                Player    PTS   FG%      TOV%\n",
       "0  Kareem Abdul-Jabbar  38387  55.9  1.619872\n",
       "1          Karl Malone  36928  51.6  3.065041\n",
       "2          Kobe Bryant  33643  44.7  2.979198\n",
       "3       Michael Jordan  32292  49.7  2.727612\n",
       "4     Wilt Chamberlain  31419  54.0       NaN"
      ]
     },
     "execution_count": 42,
     "metadata": {},
     "output_type": "execute_result"
    }
   ],
   "source": [
    "df[felderliste].head(5)"
   ]
  },
  {
   "cell_type": "markdown",
   "metadata": {},
   "source": [
    "Oder beides in einem Schritt:"
   ]
  },
  {
   "cell_type": "code",
   "execution_count": 43,
   "metadata": {},
   "outputs": [
    {
     "data": {
      "text/html": [
       "<div>\n",
       "<style scoped>\n",
       "    .dataframe tbody tr th:only-of-type {\n",
       "        vertical-align: middle;\n",
       "    }\n",
       "\n",
       "    .dataframe tbody tr th {\n",
       "        vertical-align: top;\n",
       "    }\n",
       "\n",
       "    .dataframe thead th {\n",
       "        text-align: right;\n",
       "    }\n",
       "</style>\n",
       "<table border=\"1\" class=\"dataframe\">\n",
       "  <thead>\n",
       "    <tr style=\"text-align: right;\">\n",
       "      <th></th>\n",
       "      <th>Player</th>\n",
       "      <th>PTS</th>\n",
       "      <th>FG%</th>\n",
       "      <th>TOV%</th>\n",
       "    </tr>\n",
       "  </thead>\n",
       "  <tbody>\n",
       "    <tr>\n",
       "      <th>0</th>\n",
       "      <td>Kareem Abdul-Jabbar</td>\n",
       "      <td>38387</td>\n",
       "      <td>55.9</td>\n",
       "      <td>1.619872</td>\n",
       "    </tr>\n",
       "    <tr>\n",
       "      <th>1</th>\n",
       "      <td>Karl Malone</td>\n",
       "      <td>36928</td>\n",
       "      <td>51.6</td>\n",
       "      <td>3.065041</td>\n",
       "    </tr>\n",
       "    <tr>\n",
       "      <th>2</th>\n",
       "      <td>Kobe Bryant</td>\n",
       "      <td>33643</td>\n",
       "      <td>44.7</td>\n",
       "      <td>2.979198</td>\n",
       "    </tr>\n",
       "    <tr>\n",
       "      <th>3</th>\n",
       "      <td>Michael Jordan</td>\n",
       "      <td>32292</td>\n",
       "      <td>49.7</td>\n",
       "      <td>2.727612</td>\n",
       "    </tr>\n",
       "    <tr>\n",
       "      <th>4</th>\n",
       "      <td>Wilt Chamberlain</td>\n",
       "      <td>31419</td>\n",
       "      <td>54.0</td>\n",
       "      <td>NaN</td>\n",
       "    </tr>\n",
       "  </tbody>\n",
       "</table>\n",
       "</div>"
      ],
      "text/plain": [
       "                Player    PTS   FG%      TOV%\n",
       "0  Kareem Abdul-Jabbar  38387  55.9  1.619872\n",
       "1          Karl Malone  36928  51.6  3.065041\n",
       "2          Kobe Bryant  33643  44.7  2.979198\n",
       "3       Michael Jordan  32292  49.7  2.727612\n",
       "4     Wilt Chamberlain  31419  54.0       NaN"
      ]
     },
     "execution_count": 43,
     "metadata": {},
     "output_type": "execute_result"
    }
   ],
   "source": [
    "df[['Player', 'PTS', 'FG%', 'TOV%']].head(5)"
   ]
  },
  {
   "cell_type": "markdown",
   "metadata": {},
   "source": [
    "Wir haben nun alle Zutaten beisammen, um unsere eigentliche Frage zu beantworten:"
   ]
  },
  {
   "cell_type": "markdown",
   "metadata": {},
   "source": [
    "## Wer ist der beste Basketballer aller Zeiten?"
   ]
  },
  {
   "cell_type": "markdown",
   "metadata": {},
   "source": [
    "Natürlich erstellen wir dazu unsere eigene Kennzahl, anhand derer wir die Rangliste erstellen!"
   ]
  },
  {
   "cell_type": "markdown",
   "metadata": {},
   "source": [
    "**TODO: ** Erfinden Sie eine eigene Kennzahl, basierend auf einer Kombination der bestehenden Statistiken (Wurfquote, Rebounds, etc.). Speichern Sie die Kennzahl in einer neuen Spalte namens \"KEN\" ab. Sortieren Sie die Spieler nach dieser Kennzahl und zeigen Sie die Top 10 in einer Tabelle mit den folgenden Spalten an: Name, KEN. Speichern Sie diese Tabelle in einem neuen Dataframe namens \"Top10\" ab."
   ]
  },
  {
   "cell_type": "code",
   "execution_count": 48,
   "metadata": {},
   "outputs": [],
   "source": [
    "# df['KEN'] erstellen\n",
    "#df.columns\n",
    "df[\"KEN\"] = df[\"STL\"]*1.3 - df[\"TOV\"]"
   ]
  },
  {
   "cell_type": "code",
   "execution_count": 57,
   "metadata": {},
   "outputs": [],
   "source": [
    "# df nach 'KEN' sortieren, Top 10\n",
    "top10_df = df[[\"Player\", \"KEN\"]].sort_values(\"KEN\", ascending=False).head(10)"
   ]
  },
  {
   "cell_type": "code",
   "execution_count": 58,
   "metadata": {},
   "outputs": [
    {
     "data": {
      "text/html": [
       "<div>\n",
       "<style scoped>\n",
       "    .dataframe tbody tr th:only-of-type {\n",
       "        vertical-align: middle;\n",
       "    }\n",
       "\n",
       "    .dataframe tbody tr th {\n",
       "        vertical-align: top;\n",
       "    }\n",
       "\n",
       "    .dataframe thead th {\n",
       "        text-align: right;\n",
       "    }\n",
       "</style>\n",
       "<table border=\"1\" class=\"dataframe\">\n",
       "  <thead>\n",
       "    <tr style=\"text-align: right;\">\n",
       "      <th></th>\n",
       "      <th>Player</th>\n",
       "      <th>KEN</th>\n",
       "    </tr>\n",
       "  </thead>\n",
       "  <tbody>\n",
       "    <tr>\n",
       "      <th>985</th>\n",
       "      <td>Slick Watts</td>\n",
       "      <td>1010.3</td>\n",
       "    </tr>\n",
       "    <tr>\n",
       "      <th>897</th>\n",
       "      <td>Don Buse</td>\n",
       "      <td>907.0</td>\n",
       "    </tr>\n",
       "    <tr>\n",
       "      <th>825</th>\n",
       "      <td>Larry Steele</td>\n",
       "      <td>904.8</td>\n",
       "    </tr>\n",
       "    <tr>\n",
       "      <th>822</th>\n",
       "      <td>T.R. Dunn</td>\n",
       "      <td>895.8</td>\n",
       "    </tr>\n",
       "    <tr>\n",
       "      <th>64</th>\n",
       "      <td>Rick Barry</td>\n",
       "      <td>861.2</td>\n",
       "    </tr>\n",
       "    <tr>\n",
       "      <th>563</th>\n",
       "      <td>Chris Ford</td>\n",
       "      <td>771.6</td>\n",
       "    </tr>\n",
       "    <tr>\n",
       "      <th>433</th>\n",
       "      <td>Norm Van Lier</td>\n",
       "      <td>748.1</td>\n",
       "    </tr>\n",
       "    <tr>\n",
       "      <th>122</th>\n",
       "      <td>Walt Frazier</td>\n",
       "      <td>746.3</td>\n",
       "    </tr>\n",
       "    <tr>\n",
       "      <th>233</th>\n",
       "      <td>Maurice Cheeks</td>\n",
       "      <td>735.0</td>\n",
       "    </tr>\n",
       "    <tr>\n",
       "      <th>359</th>\n",
       "      <td>Phil Chenier</td>\n",
       "      <td>729.6</td>\n",
       "    </tr>\n",
       "  </tbody>\n",
       "</table>\n",
       "</div>"
      ],
      "text/plain": [
       "             Player     KEN\n",
       "985     Slick Watts  1010.3\n",
       "897        Don Buse   907.0\n",
       "825    Larry Steele   904.8\n",
       "822       T.R. Dunn   895.8\n",
       "64       Rick Barry   861.2\n",
       "563      Chris Ford   771.6\n",
       "433   Norm Van Lier   748.1\n",
       "122    Walt Frazier   746.3\n",
       "233  Maurice Cheeks   735.0\n",
       "359    Phil Chenier   729.6"
      ]
     },
     "execution_count": 58,
     "metadata": {},
     "output_type": "execute_result"
    }
   ],
   "source": [
    "# Liste in neuem dataframe 'Top10' speichern (nur Spielername und KEN)\n",
    "top10_df"
   ]
  },
  {
   "cell_type": "markdown",
   "metadata": {},
   "source": [
    "**Und: ** Wer ist der beste NBA-Spieler aller Zeiten?"
   ]
  },
  {
   "cell_type": "code",
   "execution_count": 56,
   "metadata": {},
   "outputs": [
    {
     "name": "stdout",
     "output_type": "stream",
     "text": [
      "Slick Watts\n"
     ]
    }
   ],
   "source": [
    "#Antwort\n",
    "print(\"Slick Watts\")"
   ]
  },
  {
   "cell_type": "markdown",
   "metadata": {},
   "source": [
    "## Resultat speichern"
   ]
  },
  {
   "cell_type": "markdown",
   "metadata": {},
   "source": [
    "Um die Tabelle weiter zu verwenden, zum Beispiel für einen Graph in einem anderen Programm, können wir sie exportieren. Wir gehen dabei ähnlich vor wie beim öffnen, nur umgekehrt. Wir wählen dazu das Datenformat csv."
   ]
  },
  {
   "cell_type": "code",
   "execution_count": 59,
   "metadata": {},
   "outputs": [],
   "source": [
    "path = 'dataprojects/nba-players/meine-alltimeliste.csv'"
   ]
  },
  {
   "cell_type": "markdown",
   "metadata": {},
   "source": [
    "Wichtig: Wenn wir den Index nicht mitspeichern wollen (das sind die fetten Zahlen am Rand), müssen wir das mitteilen."
   ]
  },
  {
   "cell_type": "code",
   "execution_count": 61,
   "metadata": {},
   "outputs": [],
   "source": [
    "top10_df.to_csv(path, index=False)"
   ]
  },
  {
   "cell_type": "markdown",
   "metadata": {},
   "source": [
    "**Check: **Hat es funktioniert?"
   ]
  },
  {
   "cell_type": "code",
   "execution_count": 62,
   "metadata": {},
   "outputs": [],
   "source": [
    "check = pd.read_csv(path)"
   ]
  },
  {
   "cell_type": "code",
   "execution_count": 63,
   "metadata": {},
   "outputs": [
    {
     "data": {
      "text/html": [
       "<div>\n",
       "<style scoped>\n",
       "    .dataframe tbody tr th:only-of-type {\n",
       "        vertical-align: middle;\n",
       "    }\n",
       "\n",
       "    .dataframe tbody tr th {\n",
       "        vertical-align: top;\n",
       "    }\n",
       "\n",
       "    .dataframe thead th {\n",
       "        text-align: right;\n",
       "    }\n",
       "</style>\n",
       "<table border=\"1\" class=\"dataframe\">\n",
       "  <thead>\n",
       "    <tr style=\"text-align: right;\">\n",
       "      <th></th>\n",
       "      <th>Player</th>\n",
       "      <th>KEN</th>\n",
       "    </tr>\n",
       "  </thead>\n",
       "  <tbody>\n",
       "    <tr>\n",
       "      <th>0</th>\n",
       "      <td>Slick Watts</td>\n",
       "      <td>1010.3</td>\n",
       "    </tr>\n",
       "    <tr>\n",
       "      <th>1</th>\n",
       "      <td>Don Buse</td>\n",
       "      <td>907.0</td>\n",
       "    </tr>\n",
       "    <tr>\n",
       "      <th>2</th>\n",
       "      <td>Larry Steele</td>\n",
       "      <td>904.8</td>\n",
       "    </tr>\n",
       "    <tr>\n",
       "      <th>3</th>\n",
       "      <td>T.R. Dunn</td>\n",
       "      <td>895.8</td>\n",
       "    </tr>\n",
       "    <tr>\n",
       "      <th>4</th>\n",
       "      <td>Rick Barry</td>\n",
       "      <td>861.2</td>\n",
       "    </tr>\n",
       "    <tr>\n",
       "      <th>5</th>\n",
       "      <td>Chris Ford</td>\n",
       "      <td>771.6</td>\n",
       "    </tr>\n",
       "    <tr>\n",
       "      <th>6</th>\n",
       "      <td>Norm Van Lier</td>\n",
       "      <td>748.1</td>\n",
       "    </tr>\n",
       "    <tr>\n",
       "      <th>7</th>\n",
       "      <td>Walt Frazier</td>\n",
       "      <td>746.3</td>\n",
       "    </tr>\n",
       "    <tr>\n",
       "      <th>8</th>\n",
       "      <td>Maurice Cheeks</td>\n",
       "      <td>735.0</td>\n",
       "    </tr>\n",
       "    <tr>\n",
       "      <th>9</th>\n",
       "      <td>Phil Chenier</td>\n",
       "      <td>729.6</td>\n",
       "    </tr>\n",
       "  </tbody>\n",
       "</table>\n",
       "</div>"
      ],
      "text/plain": [
       "           Player     KEN\n",
       "0     Slick Watts  1010.3\n",
       "1        Don Buse   907.0\n",
       "2    Larry Steele   904.8\n",
       "3       T.R. Dunn   895.8\n",
       "4      Rick Barry   861.2\n",
       "5      Chris Ford   771.6\n",
       "6   Norm Van Lier   748.1\n",
       "7    Walt Frazier   746.3\n",
       "8  Maurice Cheeks   735.0\n",
       "9    Phil Chenier   729.6"
      ]
     },
     "execution_count": 63,
     "metadata": {},
     "output_type": "execute_result"
    }
   ],
   "source": [
    "check"
   ]
  },
  {
   "cell_type": "code",
   "execution_count": null,
   "metadata": {
    "collapsed": true
   },
   "outputs": [],
   "source": [
    "#Time for a break ..."
   ]
  },
  {
   "cell_type": "markdown",
   "metadata": {},
   "source": [
    "## Plotting Level 2"
   ]
  },
  {
   "cell_type": "markdown",
   "metadata": {},
   "source": [
    "Es gibt nicht nur Bar- und Linecharts, sondern auch weitere Chartformate, die sich in Pandas recht praktisch generieren lassen."
   ]
  },
  {
   "cell_type": "markdown",
   "metadata": {},
   "source": [
    "### Histogramme"
   ]
  },
  {
   "cell_type": "markdown",
   "metadata": {},
   "source": [
    "Eine nette Funktion, um ein Datenset zu analysieren, sind Histogramme. Mit ihnen können wir ziemlich schnell sichtbar machen, wie die Werte in einer bestimmten Spalte verteilt sind.\n",
    "\n",
    "Pandas stellt dazu die Funktion `hist()` zur Verfügung."
   ]
  },
  {
   "cell_type": "markdown",
   "metadata": {},
   "source": [
    "**Beispiel: ** Die Anzahl Punkte, die ein Spieler in seiner Karriere gesammelt hat."
   ]
  },
  {
   "cell_type": "code",
   "execution_count": 64,
   "metadata": {},
   "outputs": [
    {
     "data": {
      "text/plain": [
       "<matplotlib.axes._subplots.AxesSubplot at 0x11bddcef0>"
      ]
     },
     "execution_count": 64,
     "metadata": {},
     "output_type": "execute_result"
    },
    {
     "data": {
      "image/png": "[encoded data removed]",
      "text/plain": [
       "<Figure size 432x288 with 1 Axes>"
      ]
     },
     "metadata": {
      "needs_background": "light"
     },
     "output_type": "display_data"
    }
   ],
   "source": [
    "df['PTS'].hist()"
   ]
  },
  {
   "cell_type": "markdown",
   "metadata": {},
   "source": [
    "Mit dem Parameter `bins` können wir das Histogramm feingliedriger gestalten:"
   ]
  },
  {
   "cell_type": "code",
   "execution_count": 68,
   "metadata": {},
   "outputs": [
    {
     "data": {
      "text/plain": [
       "<matplotlib.axes._subplots.AxesSubplot at 0x11ee5c208>"
      ]
     },
     "execution_count": 68,
     "metadata": {},
     "output_type": "execute_result"
    },
    {
     "data": {
      "image/png": "[encoded data removed]",
      "text/plain": [
       "<Figure size 432x288 with 1 Axes>"
      ]
     },
     "metadata": {
      "needs_background": "light"
     },
     "output_type": "display_data"
    }
   ],
   "source": [
    "df['PTS'].hist(bins=100)"
   ]
  },
  {
   "cell_type": "markdown",
   "metadata": {},
   "source": [
    "Man sieht: Die Verteilung der Punkte ist ziemlich linksschief. Die allermeisten Spieler haben zwischen 5000 und 15000 Punkten gesammelt. Über 25'000 sind nur die wenigsten gekommen."
   ]
  },
  {
   "cell_type": "markdown",
   "metadata": {},
   "source": [
    "**Quiz: ** Plotten Sie die eigene Alltime-Kennzahl in einem Histogramm. Ist die Verteilung ähnlich?"
   ]
  },
  {
   "cell_type": "code",
   "execution_count": 69,
   "metadata": {},
   "outputs": [
    {
     "data": {
      "text/plain": [
       "<matplotlib.axes._subplots.AxesSubplot at 0x11f171ac8>"
      ]
     },
     "execution_count": 69,
     "metadata": {},
     "output_type": "execute_result"
    },
    {
     "data": {
      "image/png": "[encoded data removed]",
      "text/plain": [
       "<Figure size 432x288 with 1 Axes>"
      ]
     },
     "metadata": {
      "needs_background": "light"
     },
     "output_type": "display_data"
    }
   ],
   "source": [
    "df['KEN'].hist(bins=50)"
   ]
  },
  {
   "cell_type": "markdown",
   "metadata": {},
   "source": [
    "### Scatterplot"
   ]
  },
  {
   "cell_type": "markdown",
   "metadata": {},
   "source": [
    "Scatterplots eignen sich für den Vergleich von zwei Spalten. Man erhält mit ihnen rasch eine Idee davon, ob die Werte in einer Spalte mit der anderen Spalte in Zusammenhang stehen."
   ]
  },
  {
   "cell_type": "markdown",
   "metadata": {},
   "source": [
    "**Beispiel:** Die Anzahl gesammelter Punkte und die Wurfquote"
   ]
  },
  {
   "cell_type": "code",
   "execution_count": 70,
   "metadata": {},
   "outputs": [
    {
     "data": {
      "text/plain": [
       "<matplotlib.axes._subplots.AxesSubplot at 0x11f2eee48>"
      ]
     },
     "execution_count": 70,
     "metadata": {},
     "output_type": "execute_result"
    },
    {
     "data": {
      "image/png": "[encoded data removed]",
      "text/plain": [
       "<Figure size 432x288 with 1 Axes>"
      ]
     },
     "metadata": {
      "needs_background": "light"
     },
     "output_type": "display_data"
    }
   ],
   "source": [
    "df.plot(kind='scatter', x='PTS', y='FG%')"
   ]
  },
  {
   "cell_type": "markdown",
   "metadata": {},
   "source": [
    "Man sieht: Auch Spieler mit einer mittelguten Wurfquote haben es im Lauf ihrer Karriere zu grossen Punktesammlern gebracht."
   ]
  },
  {
   "cell_type": "markdown",
   "metadata": {},
   "source": [
    "**Quiz: ** Erforschen Sie den Zusammenhang zwischen den total gesammelten Punkten und Ihrer eigenen Kennzahl in einem Scatterplot!"
   ]
  },
  {
   "cell_type": "code",
   "execution_count": 71,
   "metadata": {},
   "outputs": [
    {
     "data": {
      "text/plain": [
       "<matplotlib.axes._subplots.AxesSubplot at 0x11f413a90>"
      ]
     },
     "execution_count": 71,
     "metadata": {},
     "output_type": "execute_result"
    },
    {
     "data": {
      "image/png": "[encoded data removed]",
      "text/plain": [
       "<Figure size 432x288 with 1 Axes>"
      ]
     },
     "metadata": {
      "needs_background": "light"
     },
     "output_type": "display_data"
    }
   ],
   "source": [
    "#Plot\n",
    "df.plot(kind='scatter', x='PTS', y='KEN')"
   ]
  },
  {
   "cell_type": "markdown",
   "metadata": {
    "collapsed": true
   },
   "source": [
    "Wir können den Scatterplot auch noch schöner darstellen:\n",
    "\n",
    "- mit Punkten in unterschiedlicher Grösse, entsprechend der Anzahl Punkte, die ein Spieler gesammelt hat"
   ]
  },
  {
   "cell_type": "code",
   "execution_count": 72,
   "metadata": {},
   "outputs": [],
   "source": [
    "area = df['PTS'] / 500"
   ]
  },
  {
   "cell_type": "markdown",
   "metadata": {},
   "source": [
    "- und grösser. Wir untersuchen: Gibt es einen Zusammenhang zwischen KEN und der Anzahl Spiele, die ein Spieler geamcht hat?"
   ]
  },
  {
   "cell_type": "code",
   "execution_count": 75,
   "metadata": {},
   "outputs": [
    {
     "data": {
      "image/png": "[encoded data removed]",
      "text/plain": [
       "<Figure size 720x504 with 1 Axes>"
      ]
     },
     "metadata": {
      "needs_background": "light"
     },
     "output_type": "display_data"
    }
   ],
   "source": [
    "myfig = df.plot(kind='scatter', x='GP', y='KEN', s=area, alpha=0.5, figsize=(10,7))"
   ]
  },
  {
   "cell_type": "markdown",
   "metadata": {},
   "source": [
    "**Quiz: ** Untersuchen Sie, wie die Wurfquote (FG%), die Freiwurfquote (FT%) und Ihre eigene Kennzahl zusammenhängen. Stellen Sie das Ergebnis in einem Scatterplot dar."
   ]
  },
  {
   "cell_type": "code",
   "execution_count": 78,
   "metadata": {},
   "outputs": [
    {
     "data": {
      "text/plain": [
       "<matplotlib.axes._subplots.AxesSubplot at 0x11f9435f8>"
      ]
     },
     "execution_count": 78,
     "metadata": {},
     "output_type": "execute_result"
    },
    {
     "data": {
      "image/png": "[encoded data removed]",
      "text/plain": [
       "<Figure size 432x288 with 1 Axes>"
      ]
     },
     "metadata": {
      "needs_background": "light"
     },
     "output_type": "display_data"
    }
   ],
   "source": [
    "#Plot\n",
    "df.plot(kind=\"scatter\", x=\"FG%\", y=\"FT%\", s=abs(df[\"KEN\"]/500))"
   ]
  },
  {
   "cell_type": "code",
   "execution_count": 81,
   "metadata": {},
   "outputs": [
    {
     "data": {
      "image/png": "[encoded data removed]",
      "text/plain": [
       "<Figure size 432x288 with 1 Axes>"
      ]
     },
     "metadata": {
      "needs_background": "light"
     },
     "output_type": "display_data"
    }
   ],
   "source": [
    "basketballer = df.plot(kind=\"scatter\", x=\"FG%\", y=\"FT%\", s=abs(df[\"KEN\"]/500))\n",
    "\n",
    "from matplotlib import pyplot as plt\n",
    "basketballer.get_figure().savefig('Basketballer.eps', format='eps')"
   ]
  },
  {
   "cell_type": "code",
   "execution_count": null,
   "metadata": {},
   "outputs": [],
   "source": []
  }
 ],
 "metadata": {
  "kernelspec": {
   "display_name": "Python 3",
   "language": "python",
   "name": "python3"
  },
  "language_info": {
   "codemirror_mode": {
    "name": "ipython",
    "version": 3
   },
   "file_extension": ".py",
   "mimetype": "text/x-python",
   "name": "python",
   "nbconvert_exporter": "python",
   "pygments_lexer": "ipython3",
   "version": "3.7.0"
  }
 },
 "nbformat": 4,
 "nbformat_minor": 2
}
