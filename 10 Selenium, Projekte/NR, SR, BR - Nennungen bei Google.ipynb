{
 "cells": [
  {
   "cell_type": "markdown",
   "metadata": {},
   "source": [
    "# Aufgabe: Welcher Nationalrat, Ständerat oder Bundesrat hat die meisten Nennungen bei Google?"
   ]
  },
  {
   "cell_type": "markdown",
   "metadata": {},
   "source": [
    "Schritt 1: Liste aller Personen beschaffen, einlesen"
   ]
  },
  {
   "cell_type": "code",
   "execution_count": 5,
   "metadata": {},
   "outputs": [
    {
     "data": {
      "text/plain": [
       "0    Fabio Abate FDP-Liberale\n",
       "1          Jean-Luc Addor SVP\n",
       "2            Andreas Aebi SVP\n",
       "3       Matthias Aebischer SP\n",
       "Name: Name, dtype: object"
      ]
     },
     "execution_count": 5,
     "metadata": {},
     "output_type": "execute_result"
    }
   ],
   "source": [
    "from bs4 import BeautifulSoup\n",
    "import requests\n",
    "import pandas as pd\n",
    "\n",
    "pd.read_csv(\"politiker.csv\")\n",
    "df = pd.read_csv(\"politiker.csv\")\n",
    "df_politiker = df[\"Name\"]\n",
    "df_politiker.head(4)\n"
   ]
  },
  {
   "cell_type": "markdown",
   "metadata": {},
   "source": [
    "- Schritt 2: Für jede Person einen Request aufruf an Google senden\n",
    "- Schritt 3: Für jede Person die Google-Ergebnisse auslesen und in eine Liste packen"
   ]
  },
  {
   "cell_type": "code",
   "execution_count": 9,
   "metadata": {},
   "outputs": [
    {
     "data": {
      "text/plain": [
       "'https://www.google.ch/search?q=Fabio+Abate+FDP-Liberale'"
      ]
     },
     "execution_count": 9,
     "metadata": {},
     "output_type": "execute_result"
    }
   ],
   "source": [
    "\"https://www.google.ch/search?q=\"+(df[\"Name\"][0].replace(\" \",\"+\"))"
   ]
  },
  {
   "cell_type": "code",
   "execution_count": 18,
   "metadata": {},
   "outputs": [
    {
     "data": {
      "text/plain": [
       "[{'Name': 'Fabio Abate FDP-Liberale', 'Suchergebnisse': 27100},\n",
       " {'Name': 'Jean-Luc Addor SVP', 'Suchergebnisse': 36100},\n",
       " {'Name': 'Andreas Aebi SVP', 'Suchergebnisse': 31800},\n",
       " {'Name': 'Matthias Aebischer SP', 'Suchergebnisse': 29900},\n",
       " {'Name': 'Thomas Aeschi SVP', 'Suchergebnisse': 31000}]"
      ]
     },
     "execution_count": 18,
     "metadata": {},
     "output_type": "execute_result"
    }
   ],
   "source": [
    "suchergebnisse = []\n",
    "for person in df_politiker[:5]:\n",
    "    google_aufruf = requests.get(\"https://www.google.ch/search?q=\"+(person.replace(\" \",\"+\"))).text\n",
    "    soup_google_aufruf = BeautifulSoup(google_aufruf, \"html.parser\")\n",
    "    ergebnisse = soup_google_aufruf.find('div', {'id':'resultStats'}).text\n",
    "    ergebnisse_zahl = ergebnisse.replace(\"Ungefähr \",\"\").replace(\" Ergebnisse\",\"\").replace(\"’\",\"\")\n",
    "    \n",
    "    try:\n",
    "        suchergebnisse.append({\"Name\":person, \"Suchergebnisse\":int(ergebnisse_zahl)})\n",
    "    except:\n",
    "        print(\"Problem with \"+person)\n",
    "\n",
    "suchergebnisse"
   ]
  },
  {
   "cell_type": "markdown",
   "metadata": {},
   "source": [
    "Schritt 4: Output sollte so aussehen"
   ]
  },
  {
   "cell_type": "code",
   "execution_count": null,
   "metadata": {},
   "outputs": [],
   "source": [
    "[{\"Name\":\"Doris Leuthard\",\"Suchergebnisse\":1239304},{...}]"
   ]
  }
 ],
 "metadata": {
  "kernelspec": {
   "display_name": "Python 3",
   "language": "python",
   "name": "python3"
  },
  "language_info": {
   "codemirror_mode": {
    "name": "ipython",
    "version": 3
   },
   "file_extension": ".py",
   "mimetype": "text/x-python",
   "name": "python",
   "nbconvert_exporter": "python",
   "pygments_lexer": "ipython3",
   "version": "3.7.0"
  }
 },
 "nbformat": 4,
 "nbformat_minor": 2
}
