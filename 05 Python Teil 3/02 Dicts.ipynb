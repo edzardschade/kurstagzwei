{
 "cells": [
  {
   "cell_type": "markdown",
   "metadata": {},
   "source": [
    "## Dictionaries in Python\n",
    "\n",
    "Dictionaries sind unglaublich praktisch, damit kannst du z. B. folgendes machen:\n",
    "\n",
    "- Du kannst Wertezuordnungen speichern (z.B. Telefonbuch: Ein Nachname hat eine Telefonnummer).\n",
    "- Du kannst nachträglich Elemente verändern / entfernen / hinzufügen.\n",
    "- Dictionaries brauchst du wirklich immer wieder...\n",
    "\n",
    "Machen wir mal ein Beispiel..."
   ]
  },
  {
   "cell_type": "code",
   "execution_count": 10,
   "metadata": {},
   "outputs": [],
   "source": [
    "d = {\"Berlin\": \"BER\", \"Helsinki\": \"HEL\", \"Saigon\": \"SGN\"}"
   ]
  },
  {
   "cell_type": "code",
   "execution_count": 4,
   "metadata": {},
   "outputs": [
    {
     "name": "stdout",
     "output_type": "stream",
     "text": [
      "{'Berlin': 'BER', 'Helsinki': 'HEL', 'Saigon': 'SGN'}\n"
     ]
    }
   ],
   "source": [
    "print(d)"
   ]
  },
  {
   "cell_type": "markdown",
   "metadata": {},
   "source": [
    "Zugriff auf ein einzelnes Element:"
   ]
  },
  {
   "cell_type": "code",
   "execution_count": 6,
   "metadata": {},
   "outputs": [
    {
     "name": "stdout",
     "output_type": "stream",
     "text": [
      "HEL\n"
     ]
    }
   ],
   "source": [
    "print(d[\"Helsinki\"])"
   ]
  },
  {
   "cell_type": "markdown",
   "metadata": {},
   "source": [
    "Hiermit überschreibst du ein einzelnes Element:"
   ]
  },
  {
   "cell_type": "code",
   "execution_count": 7,
   "metadata": {
    "collapsed": true
   },
   "outputs": [],
   "source": [
    "d[\"Budapest\"] = \"BUD\""
   ]
  },
  {
   "cell_type": "code",
   "execution_count": 8,
   "metadata": {},
   "outputs": [
    {
     "name": "stdout",
     "output_type": "stream",
     "text": [
      "{'Berlin': 'BER', 'Helsinki': 'HEL', 'Saigon': 'SGN', 'Budapest': 'BUD'}\n"
     ]
    }
   ],
   "source": [
    "print(d)"
   ]
  },
  {
   "cell_type": "markdown",
   "metadata": {},
   "source": [
    "## Übung"
   ]
  },
  {
   "cell_type": "markdown",
   "metadata": {},
   "source": [
    "Legt ein eigenes Dict für die schweiz an mit den Flughäfen und den Abkürzungen. "
   ]
  },
  {
   "cell_type": "code",
   "execution_count": 2,
   "metadata": {},
   "outputs": [
    {
     "data": {
      "text/plain": [
       "'m'"
      ]
     },
     "execution_count": 2,
     "metadata": {},
     "output_type": "execute_result"
    }
   ],
   "source": [
    "teilnehmer = {\"Claudia\": \"f\", \n",
    "              \"Edzard\":\"m\", \n",
    "              \"Jürg\": \"m\", \n",
    "              \"Lea\":\"f\"}\n",
    "teilnehmer[\"Jürg\"]"
   ]
  },
  {
   "cell_type": "code",
   "execution_count": 7,
   "metadata": {},
   "outputs": [],
   "source": [
    "teilnehmer[\"Peter\"] = \"m\""
   ]
  },
  {
   "cell_type": "code",
   "execution_count": 8,
   "metadata": {},
   "outputs": [
    {
     "data": {
      "text/plain": [
       "{'Claudia': 'f', 'Edzard': 'm', 'Jürg': 'm', 'Lea': 'f', 'Peter': 'm'}"
      ]
     },
     "execution_count": 8,
     "metadata": {},
     "output_type": "execute_result"
    }
   ],
   "source": [
    "teilnehmer"
   ]
  },
  {
   "cell_type": "code",
   "execution_count": 5,
   "metadata": {},
   "outputs": [],
   "source": [
    "teilnehmer[\"Peter\"] = \"f\""
   ]
  },
  {
   "cell_type": "markdown",
   "metadata": {},
   "source": [
    "## Element entfernen"
   ]
  },
  {
   "cell_type": "code",
   "execution_count": 9,
   "metadata": {
    "collapsed": true
   },
   "outputs": [],
   "source": [
    "del d[\"Budapest\"]"
   ]
  },
  {
   "cell_type": "code",
   "execution_count": 10,
   "metadata": {},
   "outputs": [
    {
     "name": "stdout",
     "output_type": "stream",
     "text": [
      "{'Berlin': 'BER', 'Helsinki': 'HEL', 'Saigon': 'SGN'}\n"
     ]
    }
   ],
   "source": [
    "print(d)"
   ]
  },
  {
   "cell_type": "markdown",
   "metadata": {},
   "source": [
    "## Abfrage: Ist ein Element im Dictionary?"
   ]
  },
  {
   "cell_type": "code",
   "execution_count": 13,
   "metadata": {},
   "outputs": [
    {
     "name": "stdout",
     "output_type": "stream",
     "text": [
      "Saigon ist im Dicionary enthalten\n"
     ]
    }
   ],
   "source": [
    "if \"Budapest\" in d:\n",
    "    print(\"Budapest ist im Dictionary enthalten\")\n",
    "if \"Saigon\" in d:\n",
    "    print(\"Saigon ist im Dicionary enthalten\")"
   ]
  },
  {
   "cell_type": "code",
   "execution_count": 14,
   "metadata": {},
   "outputs": [
    {
     "name": "stdout",
     "output_type": "stream",
     "text": [
      "Juhui\n"
     ]
    }
   ],
   "source": [
    "if \"Lea\" in teilnehmer:\n",
    "    print(\"Juhui\")"
   ]
  },
  {
   "cell_type": "markdown",
   "metadata": {},
   "source": [
    "## Auf Elemente zugreifen..."
   ]
  },
  {
   "cell_type": "code",
   "execution_count": 16,
   "metadata": {},
   "outputs": [
    {
     "name": "stdout",
     "output_type": "stream",
     "text": [
      "SGN\n",
      "SGN\n"
     ]
    }
   ],
   "source": [
    "print(d[\"Saigon\"])\n",
    "print(d.get(\"Saigon\"))"
   ]
  },
  {
   "cell_type": "markdown",
   "metadata": {},
   "source": [
    "Warum sollte man get nutzen? Man kann doch auch einfach so drauf zugraifen? Die Lösung ist einfach aber sehr praktisch. Fehlertoleranz."
   ]
  },
  {
   "cell_type": "code",
   "execution_count": 18,
   "metadata": {},
   "outputs": [
    {
     "ename": "KeyError",
     "evalue": "'Budapest'",
     "output_type": "error",
     "traceback": [
      "\u001b[0;31m---------------------------------------------------------------------------\u001b[0m",
      "\u001b[0;31mKeyError\u001b[0m                                  Traceback (most recent call last)",
      "\u001b[0;32m<ipython-input-18-9a8194eb0769>\u001b[0m in \u001b[0;36m<module>\u001b[0;34m()\u001b[0m\n\u001b[0;32m----> 1\u001b[0;31m \u001b[0mprint\u001b[0m\u001b[0;34m(\u001b[0m\u001b[0md\u001b[0m\u001b[0;34m[\u001b[0m\u001b[0;34m\"Budapest\"\u001b[0m\u001b[0;34m]\u001b[0m\u001b[0;34m)\u001b[0m\u001b[0;34m\u001b[0m\u001b[0m\n\u001b[0m",
      "\u001b[0;31mKeyError\u001b[0m: 'Budapest'"
     ]
    }
   ],
   "source": [
    "print(d[\"Budapest\"])"
   ]
  },
  {
   "cell_type": "code",
   "execution_count": 19,
   "metadata": {
    "scrolled": true
   },
   "outputs": [
    {
     "name": "stdout",
     "output_type": "stream",
     "text": [
      "None\n"
     ]
    }
   ],
   "source": [
    "print(d.get(\"Budapest\"))"
   ]
  },
  {
   "cell_type": "markdown",
   "metadata": {},
   "source": [
    "## Dictionaries und Schleifen\n",
    "\n",
    "Du hast bei Dictionaries 2 Möglichkeiten, diese mit einer for - Schleife durchzugehen.\n",
    "\n",
    "Entweder direkt, dann gehst du die Schlüssel durch:"
   ]
  },
  {
   "cell_type": "code",
   "execution_count": 5,
   "metadata": {},
   "outputs": [
    {
     "name": "stdout",
     "output_type": "stream",
     "text": [
      "München\n",
      "MUC\n",
      "Budapest\n",
      "BUD\n",
      "Helsinki\n",
      "HEL\n"
     ]
    }
   ],
   "source": [
    "d = {\"München\": \"MUC\", \"Budapest\": \"BUD\", \"Helsinki\": \"HEL\"}\n",
    "\n",
    "for key in d: \n",
    "    value = d[key]\n",
    "    print(key)\n",
    "    print(value)"
   ]
  },
  {
   "cell_type": "code",
   "execution_count": 17,
   "metadata": {},
   "outputs": [
    {
     "name": "stdout",
     "output_type": "stream",
     "text": [
      "Claudia ist f\n",
      "Edzard ist m\n",
      "Jürg ist m\n",
      "Lea ist f\n",
      "Peter ist m\n"
     ]
    }
   ],
   "source": [
    "for t in teilnehmer:\n",
    "    geschlecht = teilnehmer[t]\n",
    "    print(t+\" ist \"+geschlecht)\n",
    "    \n"
   ]
  },
  {
   "cell_type": "markdown",
   "metadata": {},
   "source": [
    "Oder über die .items() - Methode, damit kannst du Schlüssel + Wert direkt durchgehen:"
   ]
  },
  {
   "cell_type": "code",
   "execution_count": 8,
   "metadata": {
    "scrolled": true
   },
   "outputs": [
    {
     "name": "stdout",
     "output_type": "stream",
     "text": [
      "München: MUC\n",
      "Budapest: BUD\n",
      "Helsinki: HEL\n"
     ]
    }
   ],
   "source": [
    "for key, value in d.items():\n",
    "    print(key + \": \" + value)"
   ]
  },
  {
   "cell_type": "markdown",
   "metadata": {},
   "source": [
    "## Übung \n",
    "Wie oft kommt jedes Wort in der liste vor?"
   ]
  },
  {
   "cell_type": "code",
   "execution_count": 22,
   "metadata": {},
   "outputs": [
    {
     "name": "stdout",
     "output_type": "stream",
     "text": [
      "{'Hallo': 3, 'Welt': 1, 'Mars': 1}\n"
     ]
    }
   ],
   "source": [
    "liste = [\"Hallo\", \"Hallo\", \"Welt\", \"Hallo\", \"Mars\"]\n",
    "\n",
    "d = {}\n",
    "for word in liste:\n",
    "    if word in d:\n",
    "        d[word] = d[word]+1\n",
    "    else:\n",
    "        d[word] = 1\n",
    "    #print(d)\n",
    "\n",
    "print(d)"
   ]
  },
  {
   "cell_type": "code",
   "execution_count": 19,
   "metadata": {},
   "outputs": [
    {
     "data": {
      "text/plain": [
       "'HalloWelt'"
      ]
     },
     "execution_count": 19,
     "metadata": {},
     "output_type": "execute_result"
    }
   ],
   "source": [
    "text = \"Hallo\"\n",
    "text += \"Welt\"\n",
    "text"
   ]
  },
  {
   "cell_type": "code",
   "execution_count": 25,
   "metadata": {},
   "outputs": [
    {
     "data": {
      "text/plain": [
       "75"
      ]
     },
     "execution_count": 25,
     "metadata": {},
     "output_type": "execute_result"
    }
   ],
   "source": [
    "wert = 15\n",
    "wert *= 5\n",
    "wert"
   ]
  },
  {
   "cell_type": "markdown",
   "metadata": {},
   "source": [
    "## Übung Hardcore"
   ]
  },
  {
   "cell_type": "markdown",
   "metadata": {},
   "source": [
    "Für diejenigen die eine Herausforderung suchen, gibts hier auch einen echten datensatz. http://p3.snf.ch/Pages/DataAndDocumentation.aspx"
   ]
  },
  {
   "cell_type": "markdown",
   "metadata": {},
   "source": [
    "### So sieht ein Datensatz aus:"
   ]
  },
  {
   "cell_type": "code",
   "execution_count": 37,
   "metadata": {},
   "outputs": [
    {
     "data": {
      "text/plain": [
       "OrderedDict([('Last Name', 'Aahman'),\n",
       "             ('First Name', 'Josefin'),\n",
       "             ('Gender', 'female'),\n",
       "             ('Institute Name', ''),\n",
       "             ('Institute Place', ''),\n",
       "             ('Person ID SNSF', '629557'),\n",
       "             ('ORCID', ''),\n",
       "             ('Projects as responsible Applicant', ''),\n",
       "             ('Projects as Applicant', ''),\n",
       "             ('Projects as Partner', ''),\n",
       "             ('Projects as Practice Partner', ''),\n",
       "             ('Projects as Employee', '141014'),\n",
       "             ('Projects as Contact Person', '')])"
      ]
     },
     "execution_count": 37,
     "metadata": {},
     "output_type": "execute_result"
    }
   ],
   "source": [
    "next(personen)"
   ]
  },
  {
   "cell_type": "markdown",
   "metadata": {},
   "source": [
    "Welche Institute hatten die meisten beiteiligten Personen?"
   ]
  },
  {
   "cell_type": "code",
   "execution_count": 64,
   "metadata": {
    "scrolled": true
   },
   "outputs": [],
   "source": [
    "import requests\n",
    "import csv\n",
    "data = requests.get(\"http://p3.snf.ch/P3Export/P3_PersonExport.csv\").text.splitlines()\n",
    "personen = csv.DictReader(data,delimiter=';')"
   ]
  },
  {
   "cell_type": "code",
   "execution_count": 65,
   "metadata": {},
   "outputs": [
    {
     "name": "stdout",
     "output_type": "stream",
     "text": [
      "[('Stavanger', 1), ('St. Andrews FIFE', 1), ('Lille Cédex', 1), ('Hawassa', 1), ('Yokosuka', 1), ('Romanshorn', 1), ('Ma’an', 1), ('Abudja', 1), ('Yamaguchi', 1), ('Babson Park', 1), ('Bagor Barat', 1), ('Donostia', 1), ('Monrovia', 1), ('Akosombo', 1), ('Belmont-sur-Lausanne', 1), ('Legon-Accra', 1), ('Semey', 1), ('Bouaké', 1), ('Keffi', 1), ('Philadephia', 1), ('Seattle, Washington', 1), ('Chenove', 1), ('Remetschwil', 1), ('Mohammedia', 1), ('Aire-la-Ville', 1), ('Legon, Accra', 1), ('Bergdietikon', 1), ('Salamanca', 1), ('Sadovo', 1), ('Lowa, Ames', 1), ('San Andrés Cholula', 1), ('Thonon-les-Bains Cedex', 1), ('Nîmes Cedex 01', 1), ('Ivanonka', 1), ('Toulouse Cédex 1', 1), ('Chernobyl', 1), ('Cachan Cedex', 1), ('New Jersey', 1), ('Reno', 1), ('Yerevan 49', 1), ('Leyte', 1), ('Gières', 1), ('Beyazit/Istanbul', 1), ('Port', 1), ('Aquileia', 1), ('Stavropol', 1), ('ADO EKITI', 1), ('Okayama', 1), ('Kokshetau', 1), ('Hildesheim', 1), ('Tägerwilen', 1), ('Schwarzenburg', 1), ('Bern 26', 1), ('Nedlands', 1), ('Arbon', 1), ('Norrköping', 1), ('Flensburg', 1), ('Ancona', 1), ('Genève 17', 1), ('Stein AG', 1), ('Kharagpur, West Bengalie', 1), ('Zeuthen', 1), ('Gödöllo', 1), ('Cully', 1), ('Lenzburg', 1), ('Esch-sur-Alzette (Belval)', 1), ('Boudry', 1), ('Akron', 1), ('State College', 1), ('Paris 05', 1), ('Schriesheim', 1), ('Hartford', 1), ('Moscow, GSP-4', 1), ('Muizenberg', 1), ('Rovinj', 1), ('Keele', 1), ('Redhill', 1), ('Private Bag', 1), ('PISA', 1), ('Çankaya/Ankara', 1), ('Ougadougou', 1), ('Loeben', 1), ('Phoenix, Arizona', 1), ('Lamone', 1), ('Forch', 1), ('Greifswald-Insel Riems', 1), ('Bevaix', 1), ('Brunswick', 1), ('La Marsa', 1), ('Oswego', 1), ('Mont St-Aignan Cedex', 1), ('Zsambek', 1), ('Kopenhagen', 1), ('Cali-Valle del Cauca', 1), ('Geelong VIC', 1), ('Regina', 1), ('Kathmandu, NEPAL', 1), ('Tschugg', 1), ('Mekelle', 1), ('Waltham ,MA', 1), ('Szczecin', 1), ('Thayngen', 1), ('Bergamo', 1), ('GA Delft', 1), ('Rauenstein', 1), ('Villars-sur-Ollon', 1), ('Paris Cedex 04', 1), ('Contone', 1), ('Haren', 1), ('Berkshire', 1), ('Beyoglu-Istanbul', 1), ('Buchs ZH', 1), ('Renens VD', 1), ('Kolkata', 1), ('Coimbatore', 1), ('Harbin', 1), (\"Château-d'Oex\", 1), ('Darlinghurst, Sydney', 1), ('Nieuwegein', 1), ('Laufen', 1), ('Neuchâtel DAP', 1), ('Ludwigsburg', 1), ('Furtwangen', 1), ('Ho', 1), ('Vercelli', 1), ('Kigali', 1), ('Invergowrie, Dundee', 1), ('Homburg/Saar', 1), ('Madera', 1), ('Fuenlabrada', 1), ('Radolfzell', 1), ('Knoxville', 1), ('Maywood', 1), ('København Ø', 1), ('Glion', 1), ('Jakarta Selatan', 1), ('Düren', 1), ('Cagliari', 1), ('Teramo', 1), ('Fitzroy', 1), ('Valangin', 1), ('Futuroscope Cedex', 1), ('Sibari', 1), ('Evilard', 1), ('Sophia Antipolis', 1), ('Notthingham', 1), ('Perm', 1), ('Redmond', 1), ('La Jolla, California', 1), ('Nogent-sur-Marne Cedex', 1), ('Bremen 1', 1), ('Verbana Pallanza', 1), ('Bundoora VIC', 1), ('Brüssel', 1), ('Malzéville', 1), ('Brisbane, QLD', 1), ('Paris cedex 13', 1), ('Namangan', 1), ('Nice Cedex 2', 1), ('Ferrara', 1), ('Austin (Texas)', 1), ('Porto Alegre', 1), ('Badalona', 1), ('Umtata', 1), ('Chico', 1), ('Ludwigshafen', 1), ('Issy-Les-Moulineaux', 1), ('Oslo 5', 1), ('22007 Lund', 1), ('Osnabrueck', 1), ('Coffs Harbour', 1), ('Villaz-St-Pierre', 1), ('Saint-Denis Cedex 02', 1), ('Saint-Jérôme', 1), ('Virginia Beach', 1), ('Kleve', 1), ('Fällanden', 1), ('Hinxton', 1), ('Oberentfelden', 1), ('Dolní Brežany', 1), ('Beaucouzé Cédex', 1), ('Mendeleevo, Moscow region', 1), ('Paris Cedes 06', 1), ('Kalmar', 1), ('Les Diablerets', 1), ('Chavannes-sur-Moudon', 1), ('A Coruña', 1), ('Le Bourget du Lac Cedex', 1), ('Katowice', 1), ('Neuherberg München', 1), ('Nidau', 1), ('Düdingen', 1), ('Zimmerwald', 1), ('Dublin 15', 1), ('Garmisch', 1), ('Chicoutimi', 1), ('Kerch', 1), ('Glattbrugg', 1), ('B. Velez Sarsfield (5000) Córdoba', 1), ('Stirling', 1), ('Gland', 1), ('Pékin', 1), ('Heidelberg  1', 1), ('Paris Cédex 13', 1), ('Corsier-sur-Vevey', 1), (\"Xi'an, Shaanxi\", 1), ('Ningbo', 1), ('Sils/Segl Maria', 1), ('Palaiseau CEDEX', 1), ('Le Réduit', 1), ('Marseille 20', 1), ('Muzzano', 1), ('Tours Cedex', 1), ('Greenville', 1), ('AD Groningen', 1), ('Savosa', 1), ('Spokane', 1), ('Bobigny cedex (Paris)', 1), ('Copenhagen N', 1), ('Benevento', 1), ('Yuzhno-Sakhlinsk', 1), ('Los Alamos, NM', 1), ('Surabaya', 1), ('Châtelaine Cases', 1), ('Pusan', 1), ('Rondebosch, Cape Town', 1), ('Vissoie', 1), ('Toulouse Cédex', 1), ('Paris cedex 16', 1), ('Durham NC', 1), ('Séville', 1), ('Xiamen', 1), ('Port-au-Princ', 1), ('Espoo', 1), ('Santa Barbara, California', 1), ('Kwangju', 1), ('Andong', 1), ('Mont-Saint-Aignan Cedex', 1), ('Queensland', 1), ('GENEVA', 1), ('Abomey-Calavi', 1), ('St Louis', 1), ('Montréal, QC', 1), ('St. Petersburg Stary Peterhof', 1), ('Penrith NSW', 1), ('Tetovo', 1), ('Rez', 1), ('Naples', 1), ('Fortaleza', 1), ('Commune de Kadutu, Bukavu', 1), ('Tuxtla Gutiérrez', 1), ('Cantonments, Accra', 1), ('Pietermaritzburg', 1), ('Loos', 1), ('Riazzino', 1), ('Como', 1), ('Ascona', 1), ('Akonolinga', 1), ('Cartagena', 1), ('Roma RM Lazio', 1), ('Sremski Karlovci', 1), ('Oxford, UK', 1), ('Cluj – Napoca', 1), ('Missouri', 1), ('Glen Oaks, New York', 1), ('Shkozet Durrës', 1), ('Aveiro', 1), ('Wohlen AG 1', 1), ('Phoenix', 1), ('Bacau', 1), ('Boston, Cambridge Massachusetts', 1), ('Bowling Green', 1), ('Santander', 1), ('Miskolc-Egyetemvaros', 1), ('Nuuk Greenland', 1), ('Poughkeepsie', 1), ('Territet-Veytaux', 1), ('Uberaba', 1), ('São José dos Campos', 1), ('Shiraz', 1), ('Standord', 1), ('Helsingin yliopisto', 1), ('Port Elizabeth, Eastern Cape', 1), ('Jouys-en-Josas', 1), ('Hyderabad (Andra Pradesh)', 1), ('Martin', 1), ('Lebanon', 1), ('Varanasi', 1), ('Western Cape', 1), ('Ithaka, NY', 1), ('AD Amsterdam', 1), ('San Pedro Montes de Oca', 1), ('CC Utrecht', 1), ('Mtubatuna', 1), ('Romont Caserne', 1), ('Castelldefels (Barcelona)', 1), ('Vermoim, Maia', 1), ('Herston, QLD', 1), ('Marseille Cédex 15', 1), ('Marseille Cédex 9', 1), ('Preston', 1), ('Aubière', 1), ('Georgetown', 1), ('Sgonico (Trieste)', 1), ('Petersham', 1), ('Novi Sad (Serbia)', 1), ('Shkodra', 1), ('Vouvry', 1), ('Istanbul', 1), ('Kaunas', 1), ('Berlin 33', 1), ('DR Rotterdam', 1), ('Vex', 1), ('Aix-en-Provence Cedex', 1), ('Leipzig, D', 1), ('Msida', 1), ('Birr', 1), ('Cordoba', 1), ('Burwood Victoria', 1), ('Redlands, CA', 1), ('Bad Ragaz', 1), ('Scarborough', 1), ('Crakow', 1), ('Sejong', 1), ('Villejuif Cedex', 1), ('Luleä', 1), ('Rostov-on-Don', 1), ('Cevio', 1), ('Orléans', 1), ('Split', 1), ('Caracas', 1), ('Point G', 1), ('Kichinev', 1), ('Goettingen', 1), ('Feldkirch', 1), ('Bucharest 238', 1), ('Orange', 1), ('EVRY Cedex ', 1), ('Saclay', 1), ('St Petersburg', 1), ('Girona', 1), ('St. Catharines', 1), ('Annecy-le-Vieux Cédex', 1), ('Vandoeuvres', 1), ('Paris Cedex 17', 1), ('Moutier', 1), ('Juelich', 1), ('Mons', 1), ('Prague 3', 1), ('Bern 31', 1), ('Boll', 1), ('Witterswil', 1), ('Smithfield', 1), ('Darlinghurst/Sydney', 1), ('Ecully Cedex', 1), ('Minusio', 1), ('Nishinomiya-shi', 1), ('Bebek', 1), ('Baltimore, MD', 1), ('AK Leiden', 1), ('Mawson Lakes SA', 1), ('Izmir', 1), ('Domdidier', 1), ('Harjumaa', 1), ('Benin City', 1), ('Paris Cédex', 1), ('Yessentuki', 1), ('Barcelone', 1), ('Meise', 1), ('Pylaia', 1), ('Küssnacht am Rigi', 1), ('Oxford, OX2 6PY', 1), ('San José de las Lajas, Mayabeque', 1), ('Banyuls sur Mer', 1), ('Armenia', 1), ('Sophia-Antipolis Cedex', 1), ('Charenton-le-Pont', 1), ('Montferrier', 1), ('Charleroi ', 1), ('Fuzhou', 1), ('Rio Achaia', 1), ('Villetaneuse', 1), ('Orsay-Cedex', 1), ('Grenoble CEDEX', 1), ('Gazimagusa KKTC', 1), ('Illkirch Cédex', 1), ('Houghton', 1), ('Vandoeuvre lès Nancy', 1), ('Lupsingen', 1), ('Lappeenranta', 1), ('Guiyang, Guizhou', 1), ('Biberach an der Riss', 1), ('Urbana-Champaign', 1), ('Alessandria', 1), ('Fremantle', 1), ('Varese', 1), ('Troistorrents', 1), ('Esch-sur-Alzette Belval', 1), ('Wallingford, Oxon', 1), ('Neston', 1), ('Les Hauts-Geneveys', 1), ('Lørenskog', 1), ('Riniken', 1), ('Biberist', 1), ('Le Kremlin Bicêtre Cedex', 1), ('Mendoza', 1), ('Vandoeuvre-lès-Nancy Cedex', 1), ('Nazarbayev University', 1), ('PARIS Cedex 15', 1), ('Kjeller', 1), ('Saint-Denis', 1), ('Creteil Paris Cedex', 1), ('Brixen', 1), ('Sapporo', 1), ('Saint-Paul', 1), ('Menznau', 1), ('Riehen 1', 1), ('Greifensee', 1), ('Bruce', 1), ('Stuttgart 70', 1), ('Dättwil AG', 1), ('Kashihara-Shi Nara-Ken', 1), ('Sapporo City, Hokkaido', 1), ('Weingarten', 1), ('Batavia', 1), ('Mexico D.F.', 1), ('Subotica', 1), ('Buchs AG', 1), ('London W8 7AH', 1), ('Orleans Cedex 2', 1), ('Nizhnij Arkhyz', 1), ('Horn', 1), ('Palma de Mallorca', 1), ('Panamá', 1), ('Edmonton AB', 1), ('Northampton', 1), ('Bioggio', 1), ('Benin', 1), ('San Pedro, Montes de Oca, San José', 1), ('La Rochelle', 1), ('Lucens', 1), ('Bubikon', 1), ('Abisko', 1), ('Montcherand', 1), ('Nalchik', 1), ('Settat', 1), ('Asmara', 1), ('Bilkent Ankara', 1), ('Bagneux Cédex', 1), ('Les Paccots', 1), ('México D.F.', 1), ('Madison WI', 1), ('Teltow/Berlin', 1), ('Stechlin-Neuglobsow', 1), ('Giza', 1), ('Norfolk', 1), ('Liège (Sart-Tilman)', 1), ('Giubiasco', 1), ('Kloten', 1), ('Praha 1 Josefov', 1), ('Ziefen', 1), ('Valmiera', 1), ('Candiolo, Torino', 1), ('Kista', 1), ('Praha 1', 1), ('Wellesley', 1), ('Paris-Cedex 14', 1), ('Coimbra Cedex', 1), ('Olhão', 1), ('Managua 9', 1), ('La habana', 1), ('Versailles Cédex', 1), ('Kerala', 1), ('Skolkovo, Moscow', 1), ('Bologne', 1), ('Bülach', 1), ('Saint-Germain-la Blanche-Herbe', 1), ('Denver, Co', 1), ('Frankfurt 71', 1), ('Göttingen-Nikolausberg', 1), ('Hanau', 1), ('Niederrohrdorf', 1), ('Mägenwil', 1), ('Montréal (Québec)', 1), ('College Park, MD', 1), ('Singapor', 1), ('Sankt-Peterburg', 1), ('Montpellier Cédex 05', 1), ('Lawrence', 1), ('Cortona', 1), ('Clermont-Ferrand Cedex', 1), ('Chambéry', 1), ('Sonderborg', 1), ('Butha-Buthe', 1), ('Zürich Crédit Suisse', 1), ('Chicago, IL', 1), ('Weinfelden', 1), ('Gattikon', 1), ('Sissach', 1), ('Palma', 1), ('Caen', 1), ('Kgs. Lyngby', 1), ('St Leonards', 1), ('Innbruck', 1), ('Pristina', 1), ('Bellelay', 1), ('Paris cedex 17', 1), ('Münchenstein', 1), ('Unterbözberg', 1), (\"St Michel l'Observatoire\", 1), ('New Cairo', 1), ('Yonkers', 1), ('London SW7 5BD', 1), ('Rakhiv', 1), ('Seewen SO', 1), ('Balgach', 1), ('Oak Ridge', 1), ('Innsbrück', 1), ('Hampden-Sydney', 1), ('Cottbus', 1), ('Ashburn, Virginia', 1), ('Gifu', 1), ('Herlev', 1), ('Herzliya', 1), ('Weggis', 1), ('Toulouse Cedex 9', 1), ('Bucarest / Fribourg', 1), ('Sart Tilman – Liège', 1), ('Ikoma Nara', 1), ('Harlow', 1), ('CX Amsterdam', 1), ('Lancaster, PA', 1), ('Kyoto 606-01', 1), ('Vernier', 1), ('Saint Pierre', 1), ('Le Lignon', 1), ('EK Groningen', 1), ('Sede Boqer Campus', 1), ('Friday Harbor', 1), ('Münchenstein 3', 1), ('Kumatori, Sennan-gun, Osaka', 1), ('Kochi', 1), ('Staffordshire', 1), ('Lismore', 1), ('Potsdam-Babelsberg', 1), ('Odense', 1), ('Purasca', 1), ('Meadville', 1), ('Binghamton', 1), ('Ploen', 1), ('Oestrich-Winkel', 1), ('Lavigny', 1), ('Praha 2', 1), ('Ftan', 1), ('Targu Mures', 1), ('Targu-Mures', 1), ('Durham, NC', 1), ('Provo', 1), ('Canterbury, Kent', 1), ('Willisau', 1), ('Seodaemungu, Seoul', 1), ('London, WC1E 6BT', 1), ('Magden', 1), ('VT Amsterdam', 1), ('Brisbane, Qld', 1), ('Fisciano', 1), ('Cachan', 1), ('Vitoria-Gasteiz', 1), ('Bilbao', 1), ('Sidney', 1), ('Porec', 1), ('Anyang', 1), ('Chernogolovka, Moscow District', 1), ('Vientiane Capital', 1), ('Swansea, Wales', 1), ('Rajshahi', 1), ('Wangen SZ', 1), ('Machida, Tokyo', 1), ('Mymensingh', 1), ('Cyangugu', 1), ('Miyazaki', 1), ('Obstlas Moskow', 1), ('Volgograd', 1), ('Plumstead', 1), ('Kutch District, Gujarat', 1), ('Kiev-127', 1), ('Wildegg', 1), ('Meggen', 1), ('St. Albans', 1), ('San Jose, CA', 1), ('Oslo 3', 1), ('Le Rheu Cedex', 1), ('Playa Vista, California', 1), ('Ropar', 1), ('Rickenbach AG', 1), ('Villmergen', 1), ('Copenhagen O', 1), ('Guangshan', 1), ('Gävle', 1), ('Coppet', 1), ('Palmerston North', 1), ('Victoria 3010', 1), ('Cormondrèche', 1), ('London NW1 3SR', 1), ('OEIRAS', 1), ('Mattarello', 1), ('Clayton VIC', 1), ('Ifakara', 1), ('Ifrane', 1), ('Neuruppin', 1), ('St-Cergue', 1), ('Fehraltorf', 1), ('Brisbane; QLD', 1), ('Leonding', 1), ('Biel/Bienne 1', 1), ('Prague 6 - Dejvice', 1), ('Tula', 1), ('Sintok (Kedah Darul Aman)', 1), ('Casuarina, NT', 1), ('Smolyan', 1), ('Jersualem', 1), ('Sisseln AG', 1), ('Col. San Pedro Zacatenco, México', 1), ('Oftringen', 1), ('St. Lucia', 1), ('Vallendar', 1), ('Eger', 1), ('Gabrovo', 1), ('Playa Vista', 1), ('Bulaksumur, Yogyakarta', 1), ('Kerzers', 1), ('Ellensburg', 1), ('Fürth', 1), ('Duluth', 1), ('Thessaloniki', 1), ('Buchs SG 1', 1), ('Aesch BL', 1), ('Berkeley, California', 1), ('Sharood', 1), ('Samedan', 1), ('Fairfax', 1), ('Groenkloof, Pretoria', 1), ('Chatham Maritime', 1), ('Ferghana', 1), ('G-5, Islamabad', 1), ('Gyeonsan-Si, Gyeonsan-bukdo', 1), ('San Luis Potosí', 1), ('Nanyuki', 1), ('Wimmis', 1), ('Berlin-Dahlem', 1), ('Kiew', 1), ('Bundoora', 1), ('Acton, Canberra', 1), ('Lauffen am Neckar', 1), ('Samstagern', 1), ('Gadong', 1), ('Biel TD', 1), ('Wettingen 1', 1), ('Schwäbisch Gmünd', 1), ('Mito', 1), ('Kiev MSP-1', 1), ('Münster/Westf.', 1), ('Tulln', 1), ('Freiburg i. B.', 1), ('Dniepropetrovsk', 1), ('Ohrid', 1), ('Gelendzhik-7', 1), ('Kazanlak', 1), ('Ivano-Frankovsk', 1), ('Swierk', 1), ('Schlattingen', 1), ('Prishtine', 1), ('Rieden SG', 1), ('Oeiras', 1), ('Chuo Ward, Sapporo, Hokkaido', 1), ('Hershey', 1), ('Adelaid', 1), ('Nehru Marg, Nagpur', 1), ('MUMBAI', 1), ('Madras', 1), ('Suita', 1), ('Lutry', 1), ('Gerenzano', 1), ('Milano-Bovisa', 1), ('North Mymms', 1), ('Zographos', 1), ('EL Jadida', 1), ('Aix en Provence', 1), ('San Francisco CA', 1), ('Vandoeuvre les Nancy Cedex', 1), ('University of Tampere', 1), ('Ansan', 1), ('Monthey 1', 1), ('Caceres', 1), ('Albi CT Cedex 09', 1), ('München 2', 1), ('Vandoeuvre -Iés Nancy Cedex', 1), ('Saint Ismier Cedex', 1), ('Tennessee', 1), ('UK', 1), ('Bobigny Cedex', 1), ('Daegu', 1), ('Incheon', 1), ('Kyongsan', 1), ('Chonbuk', 1), ('Saint Genes Champanelle', 1), ('Montpellier cedex 1', 1), ('Montpellier Cédex 1', 1), ('Lisbonne', 1), ('Skolkovo', 1), ('England', 1), ('Brescia (BS)', 1), ('Pacific Grove', 1), (\"Les Sciernes-d'Albeuve\", 1), ('Sesto Fiorentino', 1), ('Kemptthal', 1), ('Genève ICC OLS', 1), ('Moscow Region', 1), ('Hendon', 1), ('Qingdao City', 1), ('Wuhan city', 1), ('Allensbach', 1), ('East Lansing, Michigan', 1), ('Hefei', 1), ('Haizhu', 1), ('Bonaduz', 1), ('Saint-Maur cedex', 1), (\"Nuku'alofa\", 1), ('Milwaukee, WI', 1), ('Lecce', 1), ('Coimbra', 1), ('Lempdes', 1), ('Greenwich', 1), ('Barnaul', 1), ('Volketswil', 1), ('Ennetbaden', 1), ('Harare', 1), ('Somerville', 1), ('Khovd', 1), ('Somerset West', 1), ('Seibersdorf', 1), ('KIngston', 1), ('London EC1A 7BE', 1), ('Paris Cedex 03', 1), ('Paris CEDEX 10', 1), ('Katubedda', 1), ('Toronto, Ontario', 1), ('Cergy-Pontoise Cedex', 1), ('Orbe', 1), ('Oulens-sous-Echallens', 1), ('Birsfelden', 1), ('Bhavnagar', 1), ('Mumbay', 1), ('London, England', 1), ('Patna', 1), ('AZ1073 Baku', 1), ('Randwick', 1), ('Chennai - 600 036', 1), ('Batumi', 1), ('Scalea', 1), ('AL Delft', 1), ('Salvador Bahia', 1), ('Brisbane Qld', 1), ('Aubonne', 1), ('Copenhagen S', 1), ('Engi', 1), ('Anières', 1), ('Louvain', 1), ('Akron, OH', 1), ('Saint-Etienne Cedex 02', 1), ('33405 Talence', 1), ('Soweto', 1), ('Werribee', 1), ('Setagaya, Tokyo', 1), ('Upton', 1), ('México, D.F.', 1), ('Hong Kong SAR', 1), ('Santiago 19', 1), ('London, UK.', 1), ('Sainte Clotilde', 1), ('Fargo', 1), ('Niederlenz', 1), ('Maroua', 1), ('St-Blaise', 1), ('Calgary, Alberta', 1), ('London WC1H 0AL', 1), ('Maynooth, Co. Kildare', 1), ('Rüti ZH', 1), ('Abu Dhabi', 1), ('Cotonou 01', 1), ('Tramelan', 1), ('DUNEDIN', 1), ('Bern Swisscom', 1), ('Mansoura', 1), ('Falmer Brighton', 1), ('Parksville', 1), ('Granville', 1), ('GE Rotterdam', 1), ('Edingburgh', 1), ('Poole', 1), ('Villigen', 1), ('Beograd', 1), ('Novi Beograd', 1), ('Kobe', 1), ('Ligornetto', 1), ('Blagoevgrad', 1), ('Delhi', 1), ('Ipswich', 1), ('Rozzano, Milan', 1), ('Hyogo', 1), ('Zomba', 1), ('Heverlee', 1), ('Glendale', 1), ('Renens VD 1', 1), ('Bosisio Parini (LC)', 1), ('Oxford OX3 7FY, UK', 1), ('Le Havre', 1), ('Terrassa', 1), ('Würenlingen', 1), ('Langen', 1), ('Portland, Maine', 1), ('Grand Rapids', 1), ('Guelph, ON', 1), ('Grimisuat', 1), ('Cergy Pontoise Cedex', 1), ('Poitiers Cedex', 1), ('Grugliasco', 1), ('Bron Cedex', 1), ('Juba', 1), ('Prag-Karlin', 1), ('Krefeld', 1), ('Almería', 1), ('Mulhouse Cedex', 1), ('Technion City, Haifa', 1), ('Angers Cedex 01', 1), ('Engelberg', 1), ('Trachselwald', 1), ('Therwil', 1), ('Troy', 1), ('Kensington', 1), ('East Leansing', 1), ('Gütersloh', 1), ('Boise', 1), ('Gwangju', 1), ('Otwock', 1), ('Kabete', 1), ('Las Cruces', 1), ('Cold Spring Harbor', 1), ('Greenbelt', 1), ('Yangon', 1), ('Gomel', 1), ('Tashkent district', 1), ('Shahrekord', 1), ('Santiago 19, Casilla', 1), ('Mosnang', 1), ('Kyunggi-do', 1), ('Tscheljabinsk', 1), ('Birzeit', 1), ('Perieni-Barlad', 1), ('Cluj', 1), ('Samarkand', 1), ('Bujumbura', 1), ('Oradea', 1), ('Burgas', 1), ('Triangle Park', 1), ('Kiruna', 1), ('Rimouski', 1), ('Kacyiru-Kigali', 1), ('Saint-Louis', 1), ('Nagakute, Aichi', 1), ('Clichy', 1), ('Gais', 1), ('Gränichen', 1), ('Uzghorod', 1), ('Achimota', 1), ('Yaounde', 1), ('Yaoudé', 1), ('Paris Cedex 7', 1), ('Thalwil Fächer', 1), ('Bratislava 45', 1), ('Marne-la-Vallée Cedex', 1), ('PARIS', 1), ('Merced', 1), ('Loma Linda', 1), ('La Canada de San Urbano', 1), ('Reno, Nevada', 1), ('Kanazawa', 1), ('Kurume, Fukuoka', 1), ('Accra-Legon', 1), ('La Rochelle cedex 01', 1), ('Perth', 1), ('Makurdi', 1), ('Kapfenberg', 1), ('Olomouc', 1), ('Ifakara, Morogoro', 1), ('Paris cedex 15', 1), ('Cointrin', 1), ('Akure', 1), ('Observatory, 7925', 1), ('Oxford, OX1 3RE', 1), ('Enugu', 1), ('Hochwald', 1), ('Puidoux', 1), ('Teruel', 1), ('Krakow 16', 1), ('Rio Cuarto', 1), ('Nizza', 1), ('La Plata', 1), ('Meylan', 1), ('Glen Osmond', 1), ('Beauport', 1), ('Evry', 1), ('Bhopal', 1), ('Barathpur Chitwan', 1), ('College Station, Texas', 1), ('Pedion Areos Volos ', 1), ('Athenes', 1), ('Montréal, Quebec', 1), ('Le Tampon', 1), ('Clermont-Ferrand cedex', 1), ('Bombay', 1), ('Winchester', 1), ('Gangwon-Do', 1), ('Brunnen', 1), ('Servion', 1), ('Windsor', 1), ('Donetsk', 1), ('Cherkasy', 1), ('Rajagiriya', 1), ('San Carlos de Bariloche', 1), ('Saint Georges', 1), ('Magadino', 1), ('Rimini', 1), ('Verona', 1), ('Köln 41', 1), ('Mahwah, NJ', 1), ('Tabernas', 1), ('Genève 13', 1), ('Caluire', 1), ('Marianao, Havana', 1), ('Zamboanga City', 1), ('Limoges', 1), ('Vezia', 1), ('Zemun-Belgrade', 1), ('Rostov at the Don', 1), ('Lampeter', 1), ('Penrith', 1), ('Fontenay-aux-Roses', 1), ('Couvet', 1), ('Riva S. Vitale', 1), ('Scotland', 1), ('Cardiff, Wales, United Kingdom', 1), ('Maquarie', 1), ('Aix-en-Provence Cedex 2', 1), ('Toledo', 1), ('Belo Horizonte', 1), ('Male', 1), ('Huelva', 1), ('Pantelimon, judet Ilfov', 1), ('São Bernardo do Campo', 1), ('Epinal Cédex 9', 1), ('Fairbanks, AK', 1), ('Monterey', 1), ('Harpenden, Herts', 1), ('Bercher', 1), ('Atlanta, GA', 1), ('Kaneohe', 1), ('Portland, OR', 1), ('Vladivostok', 1), ('Valparaiso', 1), ('Princeton NJ', 1), ('Pushchino, Moscow District', 1), ('Bad Nauheim', 1), ('Mex VD', 1), ('North Ryde', 1), ('Tamil Nadu', 1), ('5 rue du Moulin Bayard', 1), ('Toronto, ON', 1), ('Sector 5, Bukarest', 1), ('Herston', 1), ('Sumy', 1), ('Ñuñoa, Santiago', 1), ('Syktyvkar', 1), ('Soncino', 1), ('Diliman, Quezon City', 1), ('Swarthmore, PA', 1), ('Herts', 1), ('Nelson', 1), ('Thiruvarur', 1), ('Belarus, Minsk', 1), ('Morelia', 1), ('Valenciana, Guanajuato', 1), ('Amman', 1), ('Siebeldingen', 1), ('Bern 25', 1), ('Uvrier', 1), ('London SW 7 5BD', 1), ('La Laguna (Tenerife)', 1), ('Asuncion', 1), ('AV Groningen', 1), ('Le Châble VS', 1), ('Creteil Cédex', 1), ('Féchy', 1), ('Aristau', 1), ('Clayton, Victoria', 1), ('Burton-upon-Trent', 1), ('Toulouse cedex', 1), ('FAISALABAD', 1), ('Roskilde', 1), ('Shrivenham', 1), ('Genève 18', 1), ('CA Leiden', 1), ('Missoula', 1), ('Bogotá B.C.', 1), ('Grenada', 1), ('Estavayer-le-Lac', 1), ('Orsay Campus', 1), ('Managua', 1), ('Ashland', 1), ('Alicante', 1), ('Williamsburg', 1), ('Tel Aviv - Jaffa', 1), ('Washington, DC', 1), ('Steinhuserberg', 1), ('Nantes Cedex', 1), ('Fontenay-aux-Roses CEDEX', 1), ('Mexico DF', 1), ('Bloemfontein', 1), ('Monserrato (Cagliari)', 1), ('Postboks', 1), ('Isla Vista', 1), (\"Villenave d'Ornon Cedex\", 1), ('Pessac', 1), ('Flushing', 1), ('Coral Gables', 1), ('Puyricard', 1), ('Sainik Colony, Jammu', 1), ('Bariloche', 1), ('Freienbach', 1), ('DB Amsterdam', 1), ('Würenlos', 1), ('San Luis Potosi', 1), ('Grenoble Cedex 01', 1), ('Vadura', 1), ('Hut', 1), ('TKK', 1), ('Marseille Cedex 3', 1), ('Caen Cedex', 1), ('Troitsk Moscow region', 1), ('Prag-Podoli', 1), ('Olivone', 1), ('Kopenhagen S', 1), ('Karlbad', 1), ('Mailand', 1), ('Arco Felice', 1), ('Gonten', 1), ('Thalwil', 1), ('Villanueva de la Cañada', 1), ('Miyagi', 1), ('Isehara, Kanagawa', 1), ('Maltepe Istanbul', 1), ('Beaverton', 1), ('Moss Landing', 1), ('Nampula', 1), ('Toulouse Cédéx', 1), ('Taschkent', 1), ('Lachen SZ', 1), ('Sikasso', 1), ('Heslington, York', 1), ('Midlothian', 1), ('London, South Kensington', 1), ('Chiyoda-ku, Tokyo', 1), ('Eugene, OR', 1), ('Bruson', 1), ('Kijitonyama', 1), ('Beyrouth', 1), ('GENOVA', 1), ('Arcavacata di Rende (CS)', 1), ('CN Amsterdam', 1), ('Cahul', 1), ('La Tour-de-Peilz', 1), ('Valdivia', 1), ('Mülheim a.d. Ruhr', 1), ('Peseux', 1), ('Trnava', 1), ('Kötzting', 1), ('Ste-Anne-de-Bellevue', 1), ('Lamboing', 1), ('Schaan', 1), ('Gaienhofen-Hemmenh.', 1), ('Frenkendorf', 1), ('Siebnen', 1), ('Braamfontein Johannesburg', 1), ('München 70', 1), ('Copenhagen OE', 1), ('Montreux', 1), ('Dotternhausen', 1), ('Landau-Pfalz', 1), ('Duisburg 1', 1), ('Kelvin Grove', 1), ('Graches', 1), ('Iowa', 1), ('Princeton, NJ', 1), ('Mariastein', 1), ('Portsmouth', 1), ('Zürich-Mülligen Postzentrum', 1), ('Orange ', 1), ('La Habra', 1), ('Naters', 1), ('St. Pölten', 1), ('Bubendorf', 1), ('Frankfurt / Oder', 1), ('Urdorf', 1), ('Angers', 1), ('Mont Saint Aignan', 1), ('Lubbock', 1), ('Torrance', 1), ('Talens Cedex', 1), ('Saillon', 1), ('Le Grand-Saconnex', 1), ('Romainmôtier', 1), ('Daejon', 1), ('Stip', 1), ('México-City, Distrito Federal', 1), ('Neubiberg', 1), ('Sariyer, Istanbul', 1), ('Prag 1', 1), ('Mazandaran', 1), ('Swat', 1), ('Yanco', 1), ('Vasant Kunj New Delhi', 1), ('Jinju', 1), ('Gunma 376', 1), ('Windhoek', 1), ('Tempaku, Toyohashi', 1), ('Kirtipur, Kathmandu', 1), ('Bellatera', 1), ('Nouna, Kossi', 1), ('Gdansk', 1), ('Parkville, Melbourne', 1), ('Ponta Delgada', 1), ('Manhattan', 1), ('Bogis-Bossey', 1), ('AB Den Burg', 1), ('Beer-Sheva', 1), ('Obninsk', 1), ('Murcia', 1), ('Fairfield', 1), ('Charlotte', 1), ('Dnepropetrovsk', 1), ('Gentilino', 1), ('San José', 1), ('Orissa', 1), ('Bobo-Dioulasso', 1), ('Mondsee', 1), ('Leioa', 1), ('Tarragone', 1), ('Toulouse Cedex 04', 1), ('Bundoora ', 1), ('Ranica (Bergamo)', 1), ('Sandvika', 1), ('Minas Gerais', 1), ('Boston MA', 1), ('Watertown', 1), ('Florham Park', 1), ('Bedminster', 1), ('Brüttisellen', 1), ('Kriens', 1), ('Freienstein', 1), ('Belgrade - Zemun', 1), ('Praha', 1), ('Rothrist', 1), ('Stafford Heights', 1), ('Piatra Neamt', 1), ('Observatory', 1), ('Dubna, Moscow region', 1), ('Bad Homburg', 1), ('Kogarah', 1), ('Prague 5', 1), ('Rigi Kaltbad', 1), ('Paris cedex 04', 1), ('Banyuls-sur-Mer', 1), ('Uetendorf', 1), ('Ibaraki-Ken', 1), ('Meudon', 1), ('Hamburg 36', 1), ('St. Moritz', 1), ('Okinawa', 1), ('Getafe/Madrid', 1), ('Hinxton, Cambridge', 1), ('Sao Paolo', 1), ('Valladolid', 1), ('Suita, Osaka', 1), ('Kentucky', 1), ('Mumbai, Bombay', 1), ('Sempach Station', 1), ('Palo ALto', 1), ('Cordast', 1), ('Kobenhavn K', 1), ('Berlin-Buch', 1), ('JA Delft', 1), ('New York NY', 1), ('ED Nijmegen', 1), ('Bregenz', 1), ('Pecs', 1), ('Tîrgu Mures', 1), ('Gatineau', 1), ('Grenoble Cédex 09', 1), ('Charlestown, MA 02129', 1), ('Tokushima', 1), ('Hyderabad', 1), ('Cacak', 1), ('Msida MSD 06', 1), ('Le Locle', 1), ('Bern 13', 1), ('Potenza', 1), ('Fully', 1), ('Hô Chi Minh Ville', 1), ('Kuala Lumpur', 1), ('Kanyakumari', 1), ('Kawasoti, Nawalparasi', 1), ('Champex', 1), ('Maseru', 1), ('Grenoble Cédex', 1), ('Hong Kong, Shatin, NT', 1), ('Negrar', 1), ('Lelystad', 1), ('Zürich 1 Briefausgabe', 1), ('Le KREMLIN-BICETRE', 1), ('St-Léonard', 1), ('Kiev-30', 1), ('Los Alamos', 1), ('St Catharines', 1), ('uppsala', 1), ('Rostov on Don', 1), ('Medellin', 1), ('Bellaterra, Barcelona', 1), ('Sassari', 1), ('CLUJ-NAPOCA', 1), ('Oberdorf BL', 1), ('TR10 9EZ', 1), ('Frederick', 1), ('Les Milles', 1), ('Crans-Montana', 1), ('Legon', 1), ('Iraklion', 1), ('Saratov', 1), ('Bukarest', 1), ('Kutaisi. Georgia', 1), ('St. Louis, Missouri', 1), ('University of Jyväskylä', 1), ('Kitaku Sapporo', 1), ('Penthaz', 1), ('Los Alamos (NM)', 1), ('Sudbury', 1), ('Ishikawa', 1), ('69120 Heidelberg', 1), ('Dagnolla, Kandy', 1), ('Pensier', 1), ('Ludwigshafen am Rhein', 1), ('Bernal', 1), ('Kortrijk', 1), ('Merelbeke', 1), ('Konstanz 1', 1), ('HB Wageningen', 1), ('Heteren', 1), ('EC Wageningen', 1), ('Amsterdam HV', 1), ('Dornach', 1), ('Coventry CV1 5FB', 1), ('Paris Cedex 005', 1), ('Blindern, Oslo', 1), ('Mascow', 1), ('Leeds Yorkshire', 1), ('PANTELIMON', 1), ('Herrliberg', 1), ('Arnhem', 1), ('Illkirch Cedex', 1), ('Paris 6', 1), ('Nouméa', 1), ('Jönköping', 1), ('Cremona', 1), ('Tel-Aviv', 1), ('Salez', 1), ('HS Delft', 1), ('Bistrita', 1), ('Flüh', 1), ('Poltawa', 1), ('Gerlafingen', 1), ('Sao Leopoldo', 1), ('West Perth', 1), ('Weil am Rhein', 1), ('Bejing', 1), ('Madulain', 1), ('Seattle, WA', 1), ('Garching - München', 1), ('Seftigen', 1), ('Albany', 1), ('Kragujevacc', 1), ('Biot', 1), ('Ivanovo', 1), ('Uzhgorod', 1), ('Pozzuoli, Naples', 1), ('Chengdu', 1), ('Oslo, Montebello', 1), ('New Cross, London', 1), ('Zweibrücken', 1), ('Wohlen AG', 1), ('Maynooth', 1), ('Köniz', 1), ('Hefei, Anhui', 1), ('Machester', 1), ('Cergy-Pontoise', 1), ('Langnau im Emmental', 1), ('Luzern Littau', 1), ('Gerzensee', 1), ('Illkrich Cedex', 1), ('Harrisonburg', 1), ('Clausthal-Zellerfeld', 1), ('Freiberg', 1), ('Muri b. Bern', 1), ('COPENHAGEN', 1), ('Banjul', 1), ('Schweningen', 1), ('Newport', 1), ('Isafjordur', 1), ('Evry Cedex', 1), ('Altusried', 1), ('Valdeolmos', 1), ('San Carlos', 1), ('DeKalb', 1), ('WB Amsterdam', 1), ('Wetzikon ZH 1', 1), ('Santa Barbara, CA', 1), ('Auburn', 1), ('Arras Cedex', 1), ('Alachua', 1), ('Santiago de Cali', 1), ('Alfenas', 1), ('London NW9 5EQ', 1), ('Yokohoma', 1), ('Decatur, GA', 1), ('Koblenz', 1), ('Winnipeg, MB', 1), ('Egg b. Zürich', 1), (\"L'viv\", 1), ('Hirosawa, Wako, Saitama', 1), ('Kobe-Shi', 1), ('Banbury', 1), ('Kokubunji, Tokyo', 1), ('Pregassona', 1), ('Brusio', 1), ('Bellaterra (BCN)', 1), ('Lyon cedex', 1), ('Offenbach am Main', 1), ('Guanajuato', 1), ('Erlenbach ZH', 1), ('Nathan', 1), ('Marne-la-Vallée Cedex 2', 1), ('Turkistan', 1), ('SHANGHAI', 1), ('Rockville', 1), ('Los Banos, Laguna', 1), ('Voronezh', 1), ('Wisconsin - Madison', 1), ('Southport', 1), ('West Haven', 1), ('Angers cedex 01', 1), ('Ypsilanti', 1), ('Vranje', 1), ('Balboa, Ancon', 1), ('Jyväskylä', 1), ('Bützberg', 1), ('Göschenen', 1), ('Athènes', 2), ('Sopron', 2), ('Heerbrugg', 2), ('Lausanne 4', 2), ('Isfahan', 2), ('Bishkek City', 2), ('Ibadan', 2), ('Lyon Cédex', 2), ('Heidelberg 1', 2), ('Yorktown Heights', 2), ('Lemont', 2), ('Meilen', 2), ('Cork', 2), ('Valbonne', 2), ('Pessac Cedex', 2), ('Nantes', 2), ('Biel/Bienne 3', 2), ('Santa Clara, Villa Clara', 2), ('Quezon City', 2), ('Ithaca, NY', 2), ('Santa Fe', 2), ('Sevastopol', 2), ('Scharans', 2), ('Claremont', 2), ('Karnataka', 2), ('St-Ursanne', 2), ('Avignon', 2), ('Wetzikon ZH', 2), ('Ste-Croix', 2), ('Talence', 2), ('Castelldefels', 2), ('Zofingen', 2), ('Leganes (Madrid)', 2), ('Tiblisi', 2), ('Crawley ', 2), ('Luterbach', 2), ('Munich', 2), ('Toulouse Cedex 4', 2), ('Suhr', 2), ('Aberystwyth', 2), ('Messen', 2), ('Arlesheim', 2), ('Hillerod', 2), ('Mountain View', 2), ('Villejuif', 2), ('Las Vegas', 2), ('Altenrhein', 2), ('Bordeaux Cédex', 2), (\"Saint Martin d'Hères Cedex\", 2), ('AG Groningen', 2), ('Orangeburg', 2), ('Saskatoon', 2), ('Mississauga', 2), ('Balcali - Adana', 2), ('Galati', 2), ('Edmonton, Alberta', 2), ('Hertfordshire', 2), ('Hobart', 2), ('Faltigberg', 2), ('Regensdorf', 2), ('Oberrieden', 2), ('Simferopol', 2), ('Evolène', 2), ('Worcester, MA', 2), ('Ecublens VD', 2), ('Oviedo', 2), ('Sophia Antipolis Cedex', 2), ('Namur', 2), ('Saskatchewan', 2), ('Lincoln', 2), ('Hall i.T.', 2), ('Dublin 4, Ireland', 2), ('Jegenstorf', 2), ('Clemson', 2), ('Rolla', 2), ('Bourguillon', 2), ('El Paso', 2), ('Brugg', 2), ('Irkutsk', 2), ('Louisville', 2), ('Cardiff, Wales', 2), ('Sulgen', 2), ('Gelterkinden', 2), ('Rosario', 2), ('Craiova', 2), ('Heredia', 2), ('Delley', 2), ('Vancouver, BC', 2), ('BA Bilthoven', 2), ('Caulfield', 2), ('Valencia', 2), ('Ioannina', 2), ('Grenoble Cédex 9', 2), ('Bruz', 2), ('Calcutta', 2), ('Swansea', 2), ('Saint Louis', 2), ('Guangzhou', 2), ('Saxon', 2), ('Richmond', 2), ('New York City', 2), ('Uetikon am See', 2), ('Chishinau', 2), ('Abidjan 01', 2), ('St. Lucia, QLD', 2), ('Venice', 2), ('Moscou', 2), ('Vaticano', 2), ('Genève 2', 2), ('Christchurch', 2), ('Triesen', 2), ('Cairo', 2), ('Tunja', 2), ('Urbino', 2), ('Rennes Cédex', 2), ('Macerata', 2), ('Porto', 2), ('Notre Dame', 2), ('Miramar, Playa', 2), ('BL Delft', 2), ('Collonge-Bellerive', 2), ('Rolle', 2), ('Colombo', 2), ('CG Utrecht', 2), ('Paris Cedex 06', 2), (\"St-Martin d'Hères\", 2), ('Cochabamba', 2), ('Langenthal', 2), ('Trento', 2), ('Nantes Cedex 3', 2), ('Walnut Creek, CA', 2), ('Camden', 2), ('Kharagpur', 2), ('Hatfield', 2), ('Niederwangen b. Bern', 2), ('Emmen', 2), ('Läufelfingen', 2), ('Bellevue', 2), ('Leicestershire', 2), ('Beerse', 2), ('Port Elisabeth', 2), ('Saitama', 2), ('Adliswil', 2), ('Hergiswil NW', 2), ('ismallia', 2), ('Tibilisi', 2), ('Kanagawa', 2), ('Winston-Salem', 2), ('Moscow B-334', 2), ('Dhaka', 2), ('Porrentruy 2', 2), ('SOFIA', 2), ('Miami, FL', 2), ('Eggenstein-Leopoldshafen', 2), ('Morbio Inferiore', 2), ('Le Chesnay Cédex', 2), ('Reykjavík', 2), ('Turku Finland', 2), ('Luzern 5', 2), ('Aigle', 2), ('Halle/Saale', 2), ('Riggisberg', 2), ('Montpellier Cedex 1', 2), ('Bukavu', 2), ('Canberra ', 2), ('Pfäffikon SZ', 2), ('Zürich Postauto Zürich', 2), ('Rio de Janeiro RJ', 2), ('Geesthacht', 2), ('Kumasi', 2), ('Langenbruck', 2), ('Neuchâtel 6', 2), ('Honolulu HI', 2), ('Grenchen', 2), ('Montpellier Cedex 05', 2), ('Versailles', 2), ('Thanjavur', 2), ('Butare', 2), ('Prague 1', 2), ('Kobenhavn', 2), ('Granada', 2), ('Peterborough', 2), ('Moscow B334', 2), ('Den Haag', 2), ('East Melbourne', 2), ('Yerewan', 2), ('Research Triangle Park', 2), ('Nice', 2), ('Aalto', 2), ('Ekaterinburg GSP-170', 2), ('Murray Hill', 2), ('Doha', 2), ('Mawson Lakes', 2), ('Aathal-Seegräben', 2), ('Pennsylvania', 2), ('Passau', 2), ('Uitikon Waldegg', 2), ('TORINO', 2), ('Gif sur Yvette Cedex', 2), ('Dushanbe', 2), ('Penthalaz', 2), ('Orléans Cedex 2', 2), ('Oeiras Codex', 2), ('Warwick', 2), ('Legon Accra', 2), ('Genève 15 Aéroport', 2), ('Alnarp', 2), ('Monserrato', 2), ('St. Andrews, Fife', 2), ('Dire Dawa', 2), ('Galway', 2), ('Montpellier cedex 5', 2), ('Wolhusen', 2), ('Wil SG', 2), ('Kelowna, BC', 2), ('Houston-TX', 2), ('Leukerbad', 2), ('Harrow', 2), ('Moffet Field', 2), ('São Paulo', 2), ('GUJARAT', 2), ('Prague 8', 2), ('Westmead', 2), ('Sarnen', 2), ('SM Amsterdam', 2), ('Toyama', 2), ('Wald ZH', 2), ('Genève 27', 2), ('Ascot, Berkshire', 2), ('Winterthur 1 Fächer', 2), ('Frankfrut am Main', 2), ('Brienz BE', 2), ('Marly', 2), ('Kanpur', 2), ('Ispra', 2), ('Tours Cedex 1', 2), ('Dharan', 2), ('Suwon', 2), ('Prague 6', 2), ('Wettingen', 2), ('Freising-Weihenstephan', 2), ('Chalais', 2), ('Halle an der Saale', 2), ('Morogoro', 2), ('Casuarina', 2), ('St-Aubin FR', 2), ('Glasgow, Scotland', 2), ('Trin', 2), ('Luxembourg-Kirchberg', 2), ('Callaghan', 2), ('Fontainebleau', 2), ('Gatersleben', 2), ('Ceske Budejovice', 2), ('Sibiu', 2), ('Gatchina', 2), ('Ivano-Frankivsk', 2), ('Lethbridge', 2), ('Scherzingen', 2), ('Gümligen', 2), ('Illkirch', 2), ('St.Petersburg', 2), ('Astana', 2), ('Oberpfaffenhofen-Wessling', 2), ('MD Maastricht', 2), ('Mulhouse', 2), ('Liège 1', 2), ('Burwood', 2), ('Talence Cedex', 2), ('GRENOBLE Cedex 9', 2), ('Meudon Cedex', 2), ('Tygerberg', 2), ('Nicosia', 2), ('Gif-sur-Yvette Cédex', 2), ('Qingdao', 2), ('Hsinchu', 2), ('singapore', 2), ('Kraków', 2), ('Baar', 2), ('HESLINGTON, York', 2), ('Schöftland', 2), ('Kagoshima', 2), ('Pathumthani', 2), ('Paterna, Valencia', 2), ('Nis', 2), ('Besançon Cedex', 2), ('Hagen', 2), ('Palermo', 2), ('Esch-sur-Alzette / Belval', 2), ('Castello de la Plana', 2), ('Oklahoma City', 2), ('Ulan-Ude', 2), ('Winnipeg', 2), ('Ramat-Gan', 2), ('Fayetteville', 2), ('Kingston upon Thames, Surrey', 2), ('Ellikon an der Thur', 2), ('Magurele', 2), ('Bucuresti', 2), ('Patras', 2), ('Odense M', 2), ('Ashtarak', 2), ('Brooklyn', 2), ('Colombus', 2), ('Genoa', 2), ('Luzern KPD', 2), ('Halle/S.', 2), ('Interlaken', 2), ('Kinshasa', 2), ('Egham, Surrey', 2), ('Lahore', 2), ('St. Andrews', 2), ('Hue City', 2), ('Kitwe', 2), ('Hanoi', 2), ('Phnom Penh', 2), ('Ulaanbaatar', 2), ('Marseille Cedex 13', 2), ('Bhubaneswar', 2), ('Alcalá de Henares', 2), ('Hvidovre', 2), ('Seville', 2), ('Newcastle', 2), ('Bassersdorf', 2), ('AA Haren', 2), ('Bulle', 2), ('Massagno', 2), ('AE Enschede', 2), ('Bucarest', 2), ('Lucknow', 2), ('Antanarivo', 2), ('Yogyakarta', 2), ('Bron cedex', 2), ('Martinsried (near Munich)', 2), ('Palaiseau', 2), ('Versailles Cedex', 2), ('Livermore', 2), ('Glarus', 2), ('Golm', 2), ('Povo (Trento)', 2), ('TB Utrecht', 2), ('Nesslau', 2), ('St. Gallen 14 Briefausgabe', 2), ('Belmont', 2), ('Johnson City', 2), ('Attinghausen', 2), ('Higashi-Hiroshima', 2), ('Kurgan', 2), ('Ontario', 2), ('Quebec (QC)', 2), ('List', 2), ('Bellaterra (Barcelona)', 2), ('Confignon', 2), ('Brescia', 2), ('Chernivtsi', 2), ('Apatity', 2), ('Blacksburgh', 2), ('Viganello', 2), ('Saint Petersburg', 2), ('Ashtarak-2', 2), ('Bethlehem', 2), ('Paris Cédex 6', 2), ('Nanjing, Jiangsu', 2), ('Turku', 3), ('Logan', 3), ('Schinznach Dorf', 3), ('Addis Ababa', 3), ('Damaskus', 3), ('Chemnitz', 3), ('Detroit', 3), ('Herisau', 3), ('Tampa', 3), ('Cambridge, Massachusetts', 3), ('Guatemala City', 3), ('Villeurbanne Cédex', 3), ('Darlinghurst Sydney', 3), ('AUCKLAND', 3), ('Bucharest-Magurele', 3), ('Hawthorn', 3), ('LE Tilburg', 3), ('Bussigny-près-Lausanne', 3), ('Altdorf UR', 3), ('Dübendorf 2', 3), ('Clermont-Ferrand', 3), ('Fairbanks', 3), ('Havana', 3), (\"Saint-Martin d'Hères\", 3), ('Orlando', 3), ('Penryn, Cornwall', 3), ('Katlenburg-Lindau', 3), ('Lausanne 19', 3), ('Chernogolovka', 3), ('Orsay Cedex', 3), ('Neuchâtel 1', 3), ('Ulaanbaatar - 51', 3), ('Quebec', 3), ('Sainte-Foy', 3), ('Marcoussis', 3), ('GL Amsterdam', 3), ('Sembrancher', 3), ('Paris Cedex 07', 3), ('Cologny', 3), ('Dublin 2', 3), ('Müstair', 3), ('Potsdam/Golm', 3), ('Strasbourg Cedex 2', 3), ('Buchs SG', 3), ('Grabs', 3), ('Grenoble Cedex', 3), ('Tromsö', 3), ('Kosice', 3), ('Eugene', 3), ('Antofagasta', 3), ('St Andrews', 3), ('Potsdam-Golm', 3), ('Washington DC', 3), ('Bangkok', 3), ('Santiago de Chile', 3), ('Lyss', 3), ('Argonne', 3), (\"Saint-Martin d'Heres\", 3), ('Paris Cedex', 3), ('Dublin 4', 3), ('Davos Clavadel', 3), ('Vevey 1', 3), ('Avenches', 3), ('Aalborg', 3), ('Ames', 3), ('Ho Chi Minh City', 3), ('Richmond, Surrey', 3), ('Plouzané', 3), ('Lausanne 16', 3), ('La Tronche', 3), ('Gothenburg', 3), ('Bradford', 3), ('Marseille Cedex 09', 3), ('Praha 6', 3), ('Tulcea', 3), ('Lausanne 7', 3), ('Créteil', 3), ('Chiba', 3), ('Haldenstein', 3), ('Madagascar', 3), ('Cerdanyola del Vallès, Barcelona', 3), ('Alberta', 3), ('Palisades', 3), ('La Habana', 3), ('Reims', 3), ('Santiago de Compostela', 3), ('Bucharest Magurele', 3), ('Zadar', 3), ('Lyon Cedex 7', 3), ('Marly 1', 3), ('Clermont-Ferrand Ced', 3), ('Lille Cedex', 3), ('Wroclaw', 3), ('Heraklion', 3), ('Reinach BL', 3), ('Louvain-la Neuve', 3), ('Nizhny Novgorod', 3), ('Lausanne 26', 3), ('Bogor', 3), ('Bamako', 3), ('Dakar Fann', 3), ('Dakar', 3), ('Riga', 3), (\"Villeneuve d'Ascq\", 3), ('Magurele-Bucharest', 3), ('Laguna', 3), ('Muttenz 2', 3), ('Tomsk', 3), ('Syracuse', 3), ('Bron', 3), ('Cologne', 3), ('Lower Hutt', 3), ('Vandoeuvre-les-Nancy', 3), ('Davos Wolfgang', 3), ('Baton Rouge', 3), ('Sfax', 3), ('Jouy-en-Josas', 3), ('Novato', 3), ('Bremerhaven', 3), ('Trogen', 3), ('Gif-sur-Yvette', 3), ('Burlington', 3), ('Rheinfelden', 3), ('Toulouse Cedex', 3), ('Miami', 3), ('Bernex', 3), ('Cali', 3), ('Saint Denis', 3), ('Zernez', 3), ('Lübeck', 3), ('Walferdange', 3), ('Männedorf', 3), ('Monterotondo', 3), ('Wallisellen', 3), ('Maseru West', 3), ('Friedrichshafen', 3), ('Zürich Helsana Versicherungen AG', 3), ('Augst BL', 3), ('Delémont 1', 3), ('Genève 20', 3), ('Banja Luka', 3), ('Singapur', 3), ('Stanford, California', 3), ('Balerna', 3), ('Ostermundigen', 3), ('Paris Cédex 06', 3), ('Küsnacht', 3), ('Pittburgh', 3), ('Townsville', 3), ('Châtelaine', 3), ('Berkeley, CA', 3), ('Pully', 3), ('Dummerstorf', 3), ('ILLKIRCH Cedex', 3), ('Oak Ridge, TN', 3), ('Muri AG', 3), ('Ilmenau', 3), ('Nanjing', 3), ('Aspendale', 3), ('Ebikon', 3), ('Bern 65', 3), ('Sydney NSW', 3), ('HV Amsterdam', 3), ('Buffalo', 3), ('Kent', 3), ('Podgorica', 3), ('Kowloon', 3), ('Reykjavik', 3), ('Bonn 1', 3), ('Lyngby', 3), ('Ibaraki', 3), ('Vigo', 3), ('Bern 16', 3), ('Prag 8', 3), ('Oetwil am See', 3), ('Zihlschlacht', 3), ('Matzingen', 3), ('Talence Cédex', 3), ('Bogotà', 3), ('Taverne', 3), ('Kashiwa', 3), ('Yaohunde', 3), ('Montreal', 3), ('Stäfa', 3), ('Penryn', 3), ('Bobo Dioulasso 01', 3), ('Omsk', 3), ('Vilnius', 3), ('Liège', 3), ('Ouagadougou 03', 3), ('Hangzhou', 3), ('Esch-sur-Alzette', 3), ('Goroka', 3), ('Champaign', 3), ('Prishtina', 3), ('Egham', 3), ('Villars-sur-Glâne', 3), ('Richterswil', 3), ('RA Leiden', 3), ('Paris Cedex 16', 3), ('Tromsø', 4), ('Waltham', 4), ('Athen', 4), ('Kishinev', 4), ('Kingston', 4), ('Cotonou', 4), ('Woods Hole', 4), ('Constanta', 4), ('Turin', 4), ('Pau', 4), ('Beirut', 4), ('Zaragoza', 4), ('Piscataway', 4), ('Belvaux', 4), ('Tampere', 4), ('Bordeaux Cedex', 4), ('Jinja', 4), ('Debrecen', 4), ('Parma', 4), ('Genève 22', 4), ('Iowa City', 4), ('Genève 28', 4), ('Portland', 4), ('Maastricht', 4), ('Ankara', 4), ('Cadenazzo', 4), ('Riehen', 4), ('Kühlungsborn', 4), ('Plön', 4), ('Belgrad', 4), ('Bogota', 4), ('Islamabad', 4), ('Copenhagen K', 4), ('Nürnberg', 4), ('San Sebastian', 4), ('Bamberg', 4), ('Zollikerberg', 4), ('Vaduz', 4), ('Magglingen/Macolin', 4), ('Aix-en-Provence cedex 1', 4), ('Visp', 4), ('Paderborn', 4), ('Planegg-Martinsried', 4), ('Bettlach', 4), ('Genève 10', 4), ('Indianapolis', 4), ('Sargans', 4), ('Lusaka', 4), ('San Antonio', 4), ('Darlinghurst', 4), (\"Saint Martin d'Hères\", 4), ('Schwyz', 4), ('Davos 2', 4), ('Lima', 4), ('Subiaco', 4), ('Boston, MA', 4), ('Triesenberg', 4), ('Siena', 4), ('Frankfurt a.M.', 4), ('Bari', 4), ('Wessling', 4), ('Wuhan', 4), ('Città del Vaticano', 4), ('Bellville', 4), ('Sydney ', 4), ('Hull', 4), ('Bron Cédex', 4), ('Rotkreuz', 4), ('Nashville', 4), ('Halle (Saale)', 4), ('St Lucia', 4), ('Lodz', 4), ('Conthey', 4), ('Vienna', 4), ('Maribor', 4), ('JERUSALEM', 4), ('Varna', 4), ('Moskau', 4), ('Brasov', 4), ('Neuherberg', 4), ('Tashkent Ulugbek', 4), ('Poitiers', 4), ('Tallahassee', 4), ('Wollongong', 4), ('Milton Keynes', 4), ('Meiringen', 4), ('Salta', 4), ('Erfurt', 4), ('Stans', 4), ('Münchenbuchsee', 4), ('Cracow', 4), ('Sendai', 4), ('Spiez', 4), ('Hanover', 4), ('Guildford', 4), ('Pullman', 4), ('Futuroscope - Poitiers', 4), ('Pratteln', 4), ('Enschede', 4), ('Bellaterra', 4), ('Montpellier Cédex 5', 4), ('Tianjin', 4), ('Nanterre', 4), ('Marsens', 4), ('Columbia', 4), ('Newcastle upon Tyne', 4), ('Metz', 4), ('Affoltern am Albis', 4), ('Landau', 4), ('La Jolla, CA', 4), ('Chandigarh', 4), ('Caparica', 4), ('Daejeon', 4), ('Kampala', 4), ('Waterloo', 4), ('Saint-Petersburg', 4), ('Garmisch Partenkirchen', 4), ('Madang', 4), ('CD Delft', 4), ('Lanzhou', 4), ('Dalian', 4), ('México', 4), ('Bekeley', 4), ('Genève 26', 4), ('Lausanne 6', 4), ('Korca', 4), ('Zurzach', 4), ('Genolier', 5), ('Niamey', 5), ('Marrakech', 5), ('East Lansing', 5), ('Eichstätt', 5), ('Paris CEDEX 05', 5), ('Bordeaux', 5), ('Nagoya', 5), ('Verscio', 5), ('Lisbon', 5), ('Valens', 5), ('Wako', 5), ('Moudon', 5), ('Halle', 5), ('St. Peterburg', 5), ('Dubna', 5), ('Orsay cedex', 5), ('Neuchâtel DT', 5), ('Garching bei München', 5), ('Poznan', 5), ('Krasnoyarsk', 5), ('Tunis', 5), ('Monthey', 5), ('Modena', 5), ('Grahamstown', 5), ('Dijon Cedex', 5), ('Lausanne 9', 5), ('Surrey', 5), ('Halifax', 5), ('Winterthur TD', 5), ('Plymouth', 5), ('Nancy', 5), ('Bern 32', 5), ('Rijeka', 5), ('Tarragona', 5), ('Marseille Cedex 9', 5), ('Mumbai', 5), ('Reading', 5), ('Golden', 5), ('Kragujevac', 5), ('Shenzhen', 5), ('New Brunswick', 5), ('Bozeman', 5), ('Lille', 5), ('Yokohama', 5), ('Kreuzlingen 2', 5), ('Sorengo', 5), ('San Jose', 5), ('Kharkiv', 5), ('Potchefstroom', 5), ('Sursee', 5), ('Galveston', 5), ('Louvain-la-Neuve', 5), ('Tsukuba', 5), ('Fontainebleau Cedex', 5), ('Linköping', 5), ('Cincinnati', 5), ('Blacksburg', 5), ('Tallinn', 5), ('Denver', 5), ('Aix-en-Provence', 5), ('Bath', 6), ('Kaiserslautern', 6), ('Storrs', 6), (\"N'Djaména\", 6), ('Cardiff', 6), ('Gif-sur-Yvette Cedex', 6), ('Szeged', 6), ('La Sagne NE', 6), ('Duisburg', 6), ('Pavia', 6), ('Münsterlingen', 6), ('Chavannes-près-Renens', 6), ('Rennes', 6), ('Dundee', 6), ('Barmelweid', 6), ('Crawley', 6), ('Hong Kong', 6), ('Palaiseau Cedex', 6), ('West Lafayette', 6), ('Bendern', 6), ('Solna', 6), ('Brussels', 6), ('Posieux', 6), ('Wilrijk', 6), ('Renens VD 2', 6), ('Stanford, CA', 6), ('Rennes Cedex', 6), ('Paris Cedex 15', 6), ('College Park', 6), ('Villeurbanne', 6), ('Klagenfurt', 6), ('Raleigh', 6), ('Genève 11', 6), ('Riverside', 6), ('Lüneburg', 6), ('Camperdown', 6), ('Santiago', 6), ('Canterbury', 6), ('Freiburg i. Breisgau', 6), ('Udine', 6), ('St-Imier', 6), ('Durban', 6), ('iasi', 6), ('Bern 15', 6), ('Prag', 6), ('Thuwal', 6), ('Aarhus', 6), ('Eindhoven', 6), ('Milan', 6), (\"Villeneuve d'Ascq Cedex\", 6), ('Ouagadougou', 6), ('Weimar', 6), ('Münsingen', 6), ('Charlottesville', 6), ('Colchester', 6), ('Bellikon', 6), ('New Delhi', 6), ('Wageningen', 6), ('Kathmandu', 6), ('Oldenburg', 6), ('Osaka', 6), ('Albuquerque', 6), ('Milwaukee', 6), ('Almaty', 6), ('Emmenbrücke', 6), ('Osnabrück', 6), ('Jupiter', 6), ('Krakow', 7), ('Dar es Salaam', 7), ('Columbus', 7), ('Santa Cruz', 7), ('Newark', 7), ('Marin-Epagnier', 7), ('Vientiane', 7), ('Tempe', 7), ('Jerusalem', 7), ('Bloomington', 7), ('Cambridge MA', 7), ('Athens', 7), ('Standford', 7), ('Wuppertal', 7), ('Garching b. München', 7), ('Louvain-La-Neuve', 7), ('Guelph', 7), ('Chennai', 7), ('Les Acacias', 7), ('Huddinge', 7), ('Lausanne-Chuv', 7), ('Horgen', 7), ('Sherbrooke', 7), ('Kharkov', 7), ('Meyrin', 7), ('Grenoble cedex 9', 7), ('Fort Collins', 7), ('Exeter', 7), ('Antwerpen', 7), ('Einsiedeln', 7), ('Lexington', 7), ('Frederiksberg', 7), ('Gaithersburg', 7), ('St-Sulpice VD', 7), ('Sevilla', 7), ('Belfast', 7), ('Landquart', 7), ('Napoli', 7), ('Martinsried', 7), ('Medford', 7), ('Orsay Cédex', 7), ('Bern 14', 7), ('Yaoundé', 7), ('Trier', 7), ('Prague', 7), ('Siegen', 7), ('Pécs', 7), ('Fukuoka', 7), ('Leeds', 8), ('Kazan', 8), ('Odessa', 8), ('Leicester', 8), ('Rotterdam', 8), ('Dunedin', 8), ('La Paz', 8), ('Accra', 8), ('Sao Paulo', 8), ('York', 8), ('Orsay', 8), ('Maputo', 8), ('Freising', 8), ('Boston ', 8), ('Magdeburg', 8), ('Matieland', 8), ('Kassel', 8), ('Bern 29', 8), ('Holderbank AG', 8), ('Appenzell', 8), ('Quito', 8), ('Rochester', 8), ('Ittigen', 8), ('Aberdeen', 8), ('Taipei', 8), ('Plan-les-Ouates', 8), ('Bern 23', 8), ('Ghent', 8), ('Greifswald', 8), ('Stony Brook', 8), ('Genève 12', 9), ('Genova', 9), ('Baku', 9), ('Tuzla', 9), ('Abidjan', 9), ('Augsburg', 9), ('Ekaterinburg', 9), ('Nanterre Cedex', 9), ('Plovdiv', 9), ('Gainesville', 9), ('Freiburg i.Br.', 9), ('Bergen', 9), ('Québec', 9), ('Cambridge, MA', 9), ('Tel Aviv', 9), ('Venezia', 9), ('Honolulu', 9), ('Haifa', 9), ('Darmstadt', 9), ('Rome', 9), ('Stellenbosch', 9), ('Morges', 9), ('Worcester', 9), ('Buenos Aires', 9), ('Rostock', 9), ('Chestnut Hill', 9), ('Lviv', 9), ('Gent', 9), ('Chêne-Bougeries', 9), ('Lausanne 14', 9), ('Frankfurt a. M.', 9), ('Wabern', 9), ('Umea', 10), ('Bronx', 10), ('Bologna', 10), ('Montpellier Cedex 5', 10), ('Rondebosch', 10), ('Bern 8', 10), ('Goldau', 10), ('Dallas', 10), ('Lausanne 25', 10), ('Clayton', 10), ('Regensburg', 10), ('MB Eindhoven', 10), ('Conches', 10), ('Pisa', 10), ('St-Maurice', 10), ('Romont FR', 10), ('Paris Cedex 13', 10), ('Bern-Wabern', 10), ('Amherst', 10), ('Warszawa', 10), ('Braunschweig', 10), ('Uster', 10), ('Hamilton', 10), ('Montana', 10), ('Wellington', 10), ('Nijmegen', 11), ('Norwich', 11), ('Freiburg i. Br.', 11), ('Tartu', 11), ('Porrentruy', 11), ('Hauterive', 11), ('Linz', 11), ('Granges-Paccot', 11), ('Rio De Janeiro', 11), ('Cleveland', 11), ('Basel Hoffmann-La Roche AG', 11), ('Rorschach', 11), ('Brighton', 11), ('Rehovot', 11), ('Payerne', 11), ('Corvallis', 11), ('Liverpool', 11), ('Providence', 11), ('Dublin', 11), ('Lyon', 11), ('Urbana', 11), ('Brugg AG', 11), ('College Station', 11), ('Padova', 12), ('Burnaby', 12), ('Adelaide', 12), ('Auckland', 12), ('Dijon', 12), ('Ulm', 12), ('Zollikon', 12), ('Bratislava', 12), ('Kilchberg ZH', 12), ('St. Louis', 12), ('Binningen', 12), ('Klosterneuburg', 12), ('Besançon', 12), ('Delft', 12), ('Aarhus C', 12), ('Le Mont-sur-Lausanne', 12), ('Chapel Hill', 12), ('Luzern 7', 12), ('Palo Alto', 12), ('University Park', 12), ('Brno', 12), ('Tucson', 12), ('Shanghai', 12), ('Frankfurt', 13), ('Givisiez', 13), ('San Domenico di Fiesole', 13), ('Paris Cédex 05', 13), ('Rio de Janeiro', 13), ('Strasbourg Cedex', 13), ('Houston', 13), ('Pretoria', 13), ('Toulouse', 13), ('Freiburg im Breisgau', 13), ('Liebefeld', 13), ('Menlo Park', 13), ('Lisboa', 13), ('Essen', 13), ('Bern 6', 13), ('Ottawa', 14), ('Bern 22', 14), ('Warsaw', 14), ('Mülheim an der Ruhr', 14), ('Grenoble', 14), ('Luxembourg', 14), ('Burgdorf', 14), ('Kyoto', 14), ('Vevey', 14), ('Jussy', 14), ('Jülich', 14), ('Sion 4', 14), ('Villeurbanne Cedex', 14), ('Austin', 14), ('Salt Lake City', 14), ('Sion 2', 14), ('Marseille', 15), ('Edmonton', 15), ('Novi Sad', 15), ('Victoria', 15), ('Bangalore', 15), ('Trondheim', 15), ('Iasi', 15), ('Saarbrücken', 15), ('Brisbane', 15), ('Luzern 16', 16), ('Göteborg', 16), ('Giessen', 16), ('Nairobi', 16), ('Lyon Cedex 07', 16), ('Birmingham', 16), ('Nottingham', 16), ('Grenoble Cedex 9', 16), ('Lancaster', 16), ('Salzburg', 16), ('Southampton', 16), ('Sheffield', 16), ('Evanston', 17), ('Johannesburg', 17), ('Kiel', 17), ('Sarajevo', 17), ('Erlangen', 17), ('Bern 7', 17), ('Antananarivo', 17), ('Minsk', 17), ('Trieste', 17), ('Davis', 17), ('Novosibirsk', 17), ('Schaffhausen', 17), ('Neuchâtel OFS', 18), ('Minneapolis', 18), ('Charlestown', 18), ('Dortmund', 18), ('Frauenfeld', 18), ('Irvine', 18), ('Bayreuth', 19), ('Seoul', 19), ('Ettenhausen TG', 19), ('Mittelhäusern', 19), ('Timisoara', 19), ('Groningen', 19), ('Utrecht', 19), ('Torino', 19), ('Ljubljana', 19), ('Madison', 19), ('Tirana', 20), ('Bishkek', 20), ('Cape Town', 20), ('Lausanne Adm cant VD', 20), ('Nyon', 20), ('Bochum', 20), ('Allschwil', 20), ('Brig', 20), ('Garching', 21), ('Chambésy', 21), ('Genève 3', 21), ('Bruxelles', 21), ('Montpellier', 21), ('Bethesda', 21), ('Kreuzlingen', 21), ('San Diego', 21), ('Calgary', 21), ('Genève 8', 22), ('Washington', 22), ('Manchester', 22), ('Uppsala', 22), ('Biel/Bienne 6', 22), ('Kyiv', 22), ('Thônex', 22), ('Strasbourg', 23), ('Helsinki', 23), ('Leuven', 23), ('Parkville', 23), ('Bruderholz', 23), ('Canberra', 23), ('Leiden', 23), ('Glasgow', 23), ('Genève 6', 24), ('Pittsburgh', 24), ('Düsseldorf', 24), ('Delémont', 24), ('Birmensdorf ZH Kaserne', 24), ('Marburg', 24), ('Nyon 1', 24), ('Hinterkappelen', 24), ('Thun', 24), ('Würzburg', 25), ('Lund', 25), ('Yverdon-les-Bains', 25), ('Mannheim', 25), ('Cluj-Napoca', 26), ('Frankfurt am Main', 26), ('Graz', 26), ('Sempach Stadt', 26), ('Atlanta', 26), ('Coventry', 26), ('Bremen', 26), ('Firenze', 26), ('Tashkent', 27), ('Copenhagen', 27), ('Potsdam', 27), ('Ithaca', 27), ('Hannover', 28), ('Tokyo', 28), ('Rapperswil SG', 28), ('Aachen', 28), ('La Chaux-de-Fonds', 28), ('Bielefeld', 29), ('Jena', 29), ('Madrid', 29), ('Genève 9', 29), ('Oslo', 29), ('Nottwil', 30), ('Boulder', 30), ('Baltimore', 31), ('Kastanienbaum', 31), ('Paris Cedex 05', 32), ('Horw', 32), ('Skopje', 32), ('Chisinau', 32), ('Beijing', 32), ('Karlsruhe', 32), ('Bristol', 33), ('Melbourne', 33), ('Yverdon', 34), ('Solothurn', 34), ('Singapore', 34), ('Yerevan', 35), ('Zug', 35), ('Budapest', 35), ('Durham', 35), ('Innsbruck', 35), ('Santa Barbara', 35), ('Ann Arbor', 36), ('Göttingen', 36), ('Mainz', 37), ('Canobbio', 37), ('Sierre', 37), ('Lindau', 38), ('Köln', 38), ('Sauverny', 39), ('Münster', 41), ('Zagreb', 42), ('Edinburgh', 42), ('Leipzig', 43), ('St. Petersburg', 43), ('Bonn', 43), ('Frick', 44), ('Dresden', 44), ('Versoix', 44), ('Roma', 44), ('Princeton', 44), ('Kiev', 45), ('Genève 23', 45), ('Amsterdam', 45), ('Stuttgart', 46), ('Liestal', 48), ('Zollikofen', 48), ('Barcelona', 48), ('Martigny', 49), ('Mendrisio', 50), ('New Haven', 50), ('Chicago', 50), ('Stockholm', 51), ('Philadelphia', 51), ('Biel/Bienne', 52), ('Konstanz', 54), ('Baden', 54), ('Seattle', 54), ('Sydney', 54), ('Freiburg', 54), ('Tübingen', 55), ('Locarno', 55), ('Davos Platz', 56), ('Milano', 56), ('Bucharest', 56), ('San Francisco', 57), ('Toronto', 57), ('Neuchâtel 7', 58), ('Windisch', 63), ('Genève 1', 63), ('Schwerzenbach', 63), ('Muttenz', 63), ('Rüschlikon', 64), ('Bern 60 UPD', 67), ('Belgrade', 67), ('Pasadena', 67), ('Neuchâtel 2', 68), ('Chur', 69), ('Hamburg', 70), ('Carouge GE', 70), ('Tbilisi', 77), ('Vancouver', 77), ('Davos Dorf', 77), ('Los Angeles', 83), ('Manno', 85), ('Sofia', 85), ('Wädenswil', 95), ('Olten', 95), ('Heidelberg', 101), ('Prilly', 106), ('Montréal', 107), ('München', 108), ('Carouge', 110), ('Aarau', 114), ('Schlieren', 120), ('La Jolla', 125), ('Moscow', 129), ('Genève 21', 129), ('Chêne-Bourg', 131), ('Neuchâtel 9', 131), ('Sion', 131), ('Stanford', 136), ('Bellinzona', 149), ('Paris', 159), ('Oxford', 160), ('Berkeley', 161), ('Wien', 164), ('Birmensdorf ZH', 165), ('Boston', 170), ('Berlin', 182), ('New York', 237), ('Winterthur', 245), ('London', 290), ('Epalinges', 310), ('Bern 9', 318), ('Luzern', 368), ('Lugano', 375), ('Dübendorf', 456), ('Cambridge', 468), ('Villigen PSI', 471), ('Genève 14', 594), ('Neuchâtel', 653), ('St. Gallen', 749), ('Genève', 872), ('Fribourg', 1382), ('Genève 4', 2410), ('Basel', 3759), ('Bern', 3913), ('Lausanne', 5296), ('Zürich', 9630), ('', 53075)]\n"
     ]
    }
   ],
   "source": [
    "institutes = {}\n",
    "#print(personen)\n",
    "for p in personen:\n",
    "    inst = p[\"Institute Place\"]\n",
    "    #print(\"Test: \"+inst)\n",
    "    if p[\"Institute Place\"] in institutes:\n",
    "        institutes[inst] += 1\n",
    "    else: \n",
    "        institutes[inst] = 1\n",
    "\n",
    "import operator\n",
    "sorted_institutes = sorted(institutes.items(), key=operator.itemgetter(-1))\n",
    "\n",
    "print(sorted_institutes)\n",
    "    "
   ]
  },
  {
   "cell_type": "code",
   "execution_count": null,
   "metadata": {},
   "outputs": [],
   "source": []
  }
 ],
 "metadata": {
  "kernelspec": {
   "display_name": "Python 3",
   "language": "python",
   "name": "python3"
  },
  "language_info": {
   "codemirror_mode": {
    "name": "ipython",
    "version": 3
   },
   "file_extension": ".py",
   "mimetype": "text/x-python",
   "name": "python",
   "nbconvert_exporter": "python",
   "pygments_lexer": "ipython3",
   "version": "3.7.0"
  }
 },
 "nbformat": 4,
 "nbformat_minor": 2
}
