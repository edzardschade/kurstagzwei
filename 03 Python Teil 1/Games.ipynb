{
 "cells": [
  {
   "cell_type": "markdown",
   "metadata": {},
   "source": [
    "## Ich denk mir eine Nummer aus\n",
    "Zwischen 0 und 9, finde sie heraus"
   ]
  },
  {
   "cell_type": "code",
   "execution_count": null,
   "metadata": {},
   "outputs": [],
   "source": [
    "import random\n",
    "random_number = random.randint(0,9)\n",
    "print(\"Ich hab mir eine Zahl zwischen 0 und 9 ausgedacht, rate mal welche es ist!\")\n",
    "while guess != random_number:\n",
    "    guess = int(input(\"Dein Tipp: \"))\n",
    "    if guess > random_number:\n",
    "       print(\"Zu gross...\")\n",
    "    elif guess < random_number:\n",
    "       print(\"Zu klein...\")\n",
    "print(\"JUHUI, \"+str(random_number)+\" ist richtig!\")"
   ]
  },
  {
   "cell_type": "markdown",
   "metadata": {},
   "source": [
    "## Denk dir eine Nummer aus\n",
    "Zwischen 0 und 100, ich errate sie"
   ]
  },
  {
   "cell_type": "code",
   "execution_count": null,
   "metadata": {},
   "outputs": [],
   "source": [
    "current_guess = 50\n",
    "min_value = 0\n",
    "max_value = 100\n",
    "user_input = 0\n",
    "\n",
    "while user_input != 2:\n",
    "    user_input = int(input(\"Mein Tipp ist \"+str(current_guess)+\n",
    "                           \". Ist deine Zahl tiefer (0) oder höher (1)? Oder stimmt sie sogar (2)?\"))\n",
    "    # Tipp verändern\n",
    "    if user_input == 0: # Wenn die Zahl tiefer ist...\n",
    "        max_value = current_guess\n",
    "    else:\n",
    "        min_value = current_guess\n",
    "    current_guess = round((min_value+max_value)/2)\n",
    "    \n",
    "print(\"Juhui, ich habe \"+str(current_guess)+\" herausgefunden.\")"
   ]
  },
  {
   "cell_type": "markdown",
   "metadata": {},
   "source": [
    "## Wann bist du 100 Jahre alt?"
   ]
  },
  {
   "cell_type": "code",
   "execution_count": null,
   "metadata": {},
   "outputs": [],
   "source": [
    "name = input(\"What is your name: \")\n",
    "age = int(input(\"How old are you: \"))\n",
    "year = str((2018 - age)+100)\n",
    "print(name + \" will be 100 years old in the year \" + year)"
   ]
  },
  {
   "cell_type": "code",
   "execution_count": null,
   "metadata": {},
   "outputs": [],
   "source": [
    "price = int(input())\n",
    "print(price)"
   ]
  },
  {
   "cell_type": "markdown",
   "metadata": {},
   "source": [
    "## Tic Tac Toe"
   ]
  },
  {
   "cell_type": "code",
   "execution_count": null,
   "metadata": {},
   "outputs": [],
   "source": [
    "rows = int(input(\"Wie gross soll das Spielfeld sein?\"))\n",
    "\n",
    "def print_hor():\n",
    "    output = \"\"\n",
    "    for x in range(rows):\n",
    "        output += (\" ---\")\n",
    "    return output\n",
    "\n",
    "def print_ver():\n",
    "    output = \"\"\n",
    "    for x in range(rows+1):\n",
    "        output += (\"|   \")\n",
    "    return output\n",
    "\n",
    "for x in range(rows):\n",
    "    print(print_hor())\n",
    "    print(print_ver())\n",
    "print(print_hor())\n"
   ]
  },
  {
   "cell_type": "markdown",
   "metadata": {},
   "source": [
    "### Usereingabe"
   ]
  },
  {
   "cell_type": "code",
   "execution_count": null,
   "metadata": {},
   "outputs": [],
   "source": [
    "def check_if_won(game):      \n",
    "    winner = 0\n",
    "    # Horizontal prüfen\n",
    "    for h in game:\n",
    "        if (h[0] == 1 and h[1] == 1 and h[2] == 1):\n",
    "            winner = 1\n",
    "        elif (h[0] == 2 and h[1] == 2 and h[2] == 2):\n",
    "            winner = 2\n",
    "\n",
    "    # Vertikal prüfen\n",
    "    for v in range(3):\n",
    "        if(game[0][v] == 1 and game[1][v] == 1 and game[2][v] == 1):\n",
    "            winner = 1\n",
    "        elif(game[0][v] == 2 and game[1][v] == 2 and game[2][v] == 2):\n",
    "            winner = 2\n",
    "\n",
    "    # Diagonal prüfen\n",
    "    if(game[0][0] == 1 and game[1][1] == 1 and game[2][2] == 1):\n",
    "        winner = 1\n",
    "    elif(game[0][0] == 2 and game[1][1] == 2 and game[2][2] == 2):\n",
    "        winner = 2\n",
    "        \n",
    "    return winner\n"
   ]
  },
  {
   "cell_type": "code",
   "execution_count": null,
   "metadata": {
    "scrolled": true
   },
   "outputs": [],
   "source": [
    "rows = int(input(\"Wie gross soll das Spielfeld sein?\"))\n",
    "    \n",
    "data = [[0 for x in range(rows)] for y in range(rows)] # Leeres Spielfeld kreieren\n",
    "      \n",
    "##############\n",
    "\n",
    "def print_hor():\n",
    "    output = \"\"\n",
    "    for x in range(rows):\n",
    "        output += (\" ---\")\n",
    "    return output\n",
    "\n",
    "def print_ver(line):\n",
    "    output = \"\"\n",
    "    zahl = 0\n",
    "    for y in range(rows):\n",
    "        #print(\"Line: \"+str(line)+\" / y: \"+str(y))\n",
    "        output += (\"| \"+str(data[line][y])+\" \")\n",
    "    output += (\"|\")\n",
    "    return output\n",
    "\n",
    "#############\n",
    "\n",
    "current_player = 1\n",
    "for playround in range(rows*rows):\n",
    "    # Bis alle Felder besetzt sind\n",
    "    waiting_for_input = True\n",
    "    \n",
    "    while waiting_for_input:\n",
    "        user_input = input(\"Spieler \"+str(current_player)+\", in welches Feld willst du dein Kreuz setzen?\")\n",
    "\n",
    "        # Input auswerten\n",
    "        user_input = user_input.split(\",\")\n",
    "\n",
    "        x_value = int(user_input[0])-1\n",
    "        y_value = int(user_input[1])-1\n",
    "\n",
    "        if data[x_value][y_value] != 0:\n",
    "            print(\"Dieses Feld ist schon besetzt.\")\n",
    "        else:    \n",
    "            data[x_value][y_value] = current_player\n",
    "            waiting_for_input = False\n",
    "    \n",
    "    # Feld zeichnen\n",
    "    for line in range(rows):\n",
    "        print(print_hor())\n",
    "        print(print_ver(line)) # Reihe mitgeben\n",
    "    print(print_hor())\n",
    "    \n",
    "    if current_player == 1:\n",
    "        current_player = 2\n",
    "    else:\n",
    "        current_player = 1\n",
    "    \n",
    "    # Prüfen, ob es einen Gewinner gibt\n",
    "    winner = check_if_won(data)\n",
    "    if winner != 0:\n",
    "        print(\"Juhui, Spieler \"+str(winner)+\" hat gewonnen!\")\n",
    "        break\n"
   ]
  },
  {
   "cell_type": "markdown",
   "metadata": {},
   "source": [
    "## Cows and Bulls"
   ]
  },
  {
   "cell_type": "code",
   "execution_count": 16,
   "metadata": {},
   "outputs": [
    {
     "name": "stdout",
     "output_type": "stream",
     "text": [
      "Was ist dein Tipp?1234\n",
      "Cows: 0, bulls: 2\n",
      "Was ist dein Tipp?1235\n",
      "Cows: 0, bulls: 1\n",
      "Was ist dein Tipp?1244\n",
      "Cows: 0, bulls: 2\n",
      "Was ist dein Tipp?1254\n",
      "Cows: 0, bulls: 2\n",
      "Was ist dein Tipp?1265\n",
      "Cows: 0, bulls: 1\n",
      "Was ist dein Tipp?4123\n",
      "Cows: 1, bulls: 1\n",
      "Was ist dein Tipp?4231\n",
      "Cows: 2, bulls: 0\n",
      "Was ist dein Tipp?4299\n",
      "Cows: 1, bulls: 0\n",
      "Was ist dein Tipp?4939\n",
      "Cows: 1, bulls: 0\n",
      "Was ist dein Tipp?4991\n",
      "Cows: 2, bulls: 0\n",
      "Was ist dein Tipp?4761\n",
      "Cows: 2, bulls: 1\n",
      "Was ist dein Tipp?4671\n",
      "Cows: 3, bulls: 0\n",
      "Was ist dein Tipp?4621\n",
      "Cows: 2, bulls: 0\n",
      "Was ist dein Tipp?4971\n",
      "Cows: 3, bulls: 0\n",
      "Was ist dein Tipp?4171\n",
      "Cows: 3, bulls: 0\n",
      "Was ist dein Tipp?4271\n",
      "Cows: 3, bulls: 0\n",
      "Was ist dein Tipp?4371\n",
      "Cows: 3, bulls: 0\n",
      "Was ist dein Tipp?4471\n",
      "Cows: 3, bulls: 0\n",
      "Was ist dein Tipp?4571\n",
      "Cows: 3, bulls: 0\n",
      "Was ist dein Tipp?4671\n",
      "Cows: 3, bulls: 0\n",
      "Was ist dein Tipp?4771\n",
      "Cows: 3, bulls: 0\n",
      "Was ist dein Tipp?4841\n",
      "Cows: 2, bulls: 0\n",
      "Was ist dein Tipp?4871\n",
      "Cows: 3, bulls: 0\n",
      "Was ist dein Tipp?4971\n",
      "Cows: 3, bulls: 0\n",
      "Was ist dein Tipp?4071\n",
      "Cows: 4, bulls: 0\n"
     ]
    }
   ],
   "source": [
    "import random\n",
    "user_is_guessing = True\n",
    "solution = str(random.randint(1000,9999))\n",
    "\n",
    "while user_is_guessing:\n",
    "    guess = input(\"Was ist dein Tipp?\")\n",
    "    bulls = 0\n",
    "    cows = 0\n",
    "    \n",
    "    for index, char in enumerate(solution):\n",
    "        # Cows prüfen (korrekte Zahlen)\n",
    "        if char == guess[index]:\n",
    "            cows += 1\n",
    "                \n",
    "        # Bulls prüfen (richtige Zahl, falscher Ort)\n",
    "        if char in guess:\n",
    "            bulls += 1\n",
    "    \n",
    "    # Von Bulls die Cows abziehen\n",
    "    bulls = bulls - cows\n",
    "    print(\"Cows: \"+str(cows)+\", bulls: \"+str(bulls))\n",
    "    \n",
    "    # Prüfen, ob richtige Zahl gefunden wurde\n",
    "    if guess == solution:\n",
    "        print(\"Juhui, du hast gewonnen! Die Zahl war \"+str(solution))\n",
    "        user_is_guessing = False\n",
    "    \n"
   ]
  },
  {
   "cell_type": "code",
   "execution_count": null,
   "metadata": {},
   "outputs": [],
   "source": []
  }
 ],
 "metadata": {
  "kernelspec": {
   "display_name": "Python 3",
   "language": "python",
   "name": "python3"
  }
 },
 "nbformat": 4,
 "nbformat_minor": 2
}
