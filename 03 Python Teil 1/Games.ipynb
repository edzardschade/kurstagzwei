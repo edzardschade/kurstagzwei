{
 "cells": [
  {
   "cell_type": "markdown",
   "metadata": {},
   "source": [
    "## Ich denk mir eine Nummer aus\n",
    "Zwischen 0 und 9, finde sie heraus"
   ]
  },
  {
   "cell_type": "code",
   "execution_count": 3,
   "metadata": {},
   "outputs": [
    {
     "name": "stdout",
     "output_type": "stream",
     "text": [
      "Ich hab mir eine Zahl zwischen 0 und 9 ausgedacht, rate mal welche es ist!\n"
     ]
    },
    {
     "ename": "NameError",
     "evalue": "name 'guess' is not defined",
     "output_type": "error",
     "traceback": [
      "\u001b[0;31m---------------------------------------------------------------------------\u001b[0m",
      "\u001b[0;31mNameError\u001b[0m                                 Traceback (most recent call last)",
      "\u001b[0;32m<ipython-input-3-fa55a8ec5625>\u001b[0m in \u001b[0;36m<module>\u001b[0;34m()\u001b[0m\n\u001b[1;32m      2\u001b[0m \u001b[0mrandom_number\u001b[0m \u001b[0;34m=\u001b[0m \u001b[0mrandom\u001b[0m\u001b[0;34m.\u001b[0m\u001b[0mrandint\u001b[0m\u001b[0;34m(\u001b[0m\u001b[0;36m0\u001b[0m\u001b[0;34m,\u001b[0m\u001b[0;36m9\u001b[0m\u001b[0;34m)\u001b[0m\u001b[0;34m\u001b[0m\u001b[0m\n\u001b[1;32m      3\u001b[0m \u001b[0mprint\u001b[0m\u001b[0;34m(\u001b[0m\u001b[0;34m\"Ich hab mir eine Zahl zwischen 0 und 9 ausgedacht, rate mal welche es ist!\"\u001b[0m\u001b[0;34m)\u001b[0m\u001b[0;34m\u001b[0m\u001b[0m\n\u001b[0;32m----> 4\u001b[0;31m \u001b[0;32mwhile\u001b[0m \u001b[0mguess\u001b[0m \u001b[0;34m!=\u001b[0m \u001b[0mrandom_number\u001b[0m\u001b[0;34m:\u001b[0m\u001b[0;34m\u001b[0m\u001b[0m\n\u001b[0m\u001b[1;32m      5\u001b[0m     \u001b[0mguess\u001b[0m \u001b[0;34m=\u001b[0m \u001b[0mint\u001b[0m\u001b[0;34m(\u001b[0m\u001b[0minput\u001b[0m\u001b[0;34m(\u001b[0m\u001b[0;34m\"Dein Tipp: \"\u001b[0m\u001b[0;34m)\u001b[0m\u001b[0;34m)\u001b[0m\u001b[0;34m\u001b[0m\u001b[0m\n\u001b[1;32m      6\u001b[0m     \u001b[0;32mif\u001b[0m \u001b[0mguess\u001b[0m \u001b[0;34m>\u001b[0m \u001b[0mrandom_number\u001b[0m\u001b[0;34m:\u001b[0m\u001b[0;34m\u001b[0m\u001b[0m\n",
      "\u001b[0;31mNameError\u001b[0m: name 'guess' is not defined"
     ]
    }
   ],
   "source": [
    "import random\n",
    "random_number = random.randint(0,9)\n",
    "print(\"Ich hab mir eine Zahl zwischen 0 und 9 ausgedacht, rate mal welche es ist!\")\n",
    "while guess != random_number:\n",
    "    guess = int(input(\"Dein Tipp: \"))\n",
    "    if guess > random_number:\n",
    "       print(\"Zu gross...\")\n",
    "    elif guess < random_number:\n",
    "       print(\"Zu klein...\")\n",
    "print(\"JUHUI, \"+str(random_number)+\" ist richtig!\")"
   ]
  },
  {
   "cell_type": "markdown",
   "metadata": {},
   "source": [
    "## Denk dir eine Nummer aus\n",
    "Zwischen 0 und 100, ich errate sie"
   ]
  },
  {
   "cell_type": "code",
   "execution_count": 4,
   "metadata": {},
   "outputs": [
    {
     "name": "stdout",
     "output_type": "stream",
     "text": [
      "Mein Tipp ist 50. Ist deine Zahl tiefer (0) oder höher (1)? Oder stimmt sie sogar (2)?1\n",
      "Mein Tipp ist 75. Ist deine Zahl tiefer (0) oder höher (1)? Oder stimmt sie sogar (2)?1\n",
      "Mein Tipp ist 88. Ist deine Zahl tiefer (0) oder höher (1)? Oder stimmt sie sogar (2)?1\n",
      "Mein Tipp ist 94. Ist deine Zahl tiefer (0) oder höher (1)? Oder stimmt sie sogar (2)?1\n",
      "Mein Tipp ist 97. Ist deine Zahl tiefer (0) oder höher (1)? Oder stimmt sie sogar (2)?1\n",
      "Mein Tipp ist 98. Ist deine Zahl tiefer (0) oder höher (1)? Oder stimmt sie sogar (2)?2\n",
      "Juhui, ich habe 99 herausgefunden.\n"
     ]
    }
   ],
   "source": [
    "current_guess = 50\n",
    "min_value = 0\n",
    "max_value = 100\n",
    "user_input = 0\n",
    "\n",
    "while user_input != 2:\n",
    "    user_input = int(input(\"Mein Tipp ist \"+str(current_guess)+\n",
    "                           \". Ist deine Zahl tiefer (0) oder höher (1)? Oder stimmt sie sogar (2)?\"))\n",
    "    # Tipp verändern\n",
    "    if user_input == 0: # Wenn die Zahl tiefer ist...\n",
    "        max_value = current_guess\n",
    "    else:\n",
    "        min_value = current_guess\n",
    "    current_guess = round((min_value+max_value)/2)\n",
    "    \n",
    "print(\"Juhui, ich habe \"+str(current_guess)+\" herausgefunden.\")"
   ]
  },
  {
   "cell_type": "markdown",
   "metadata": {},
   "source": [
    "## Wann bist du 100 Jahre alt?"
   ]
  },
  {
   "cell_type": "code",
   "execution_count": null,
   "metadata": {},
   "outputs": [],
   "source": [
    "name = input(\"What is your name: \")\n",
    "age = int(input(\"How old are you: \"))\n",
    "year = str((2018 - age)+100)\n",
    "print(name + \" will be 100 years old in the year \" + year)"
   ]
  },
  {
   "cell_type": "markdown",
   "metadata": {},
   "source": [
    "## Tic Tac Toe"
   ]
  },
  {
   "cell_type": "code",
   "execution_count": 53,
   "metadata": {},
   "outputs": [
    {
     "name": "stdout",
     "output_type": "stream",
     "text": [
      "Wie gross soll das Spielfeld sein?8\n",
      " --- --- --- --- --- --- --- ---\n",
      "|   |   |   |   |   |   |   |   |   \n",
      " --- --- --- --- --- --- --- ---\n",
      "|   |   |   |   |   |   |   |   |   \n",
      " --- --- --- --- --- --- --- ---\n",
      "|   |   |   |   |   |   |   |   |   \n",
      " --- --- --- --- --- --- --- ---\n",
      "|   |   |   |   |   |   |   |   |   \n",
      " --- --- --- --- --- --- --- ---\n",
      "|   |   |   |   |   |   |   |   |   \n",
      " --- --- --- --- --- --- --- ---\n",
      "|   |   |   |   |   |   |   |   |   \n",
      " --- --- --- --- --- --- --- ---\n",
      "|   |   |   |   |   |   |   |   |   \n",
      " --- --- --- --- --- --- --- ---\n",
      "|   |   |   |   |   |   |   |   |   \n",
      " --- --- --- --- --- --- --- ---\n"
     ]
    }
   ],
   "source": [
    "rows = int(input(\"Wie gross soll das Spielfeld sein?\"))\n",
    "\n",
    "def print_hor():\n",
    "    output = \"\"\n",
    "    for x in range(rows):\n",
    "        output += (\" ---\")\n",
    "    return output\n",
    "\n",
    "def print_ver():\n",
    "    output = \"\"\n",
    "    for x in range(rows+1):\n",
    "        output += (\"|   \")\n",
    "    return output\n",
    "\n",
    "for x in range(rows):\n",
    "    print(print_hor())\n",
    "    print(print_ver())\n",
    "print(print_hor())\n"
   ]
  },
  {
   "cell_type": "code",
   "execution_count": 51,
   "metadata": {},
   "outputs": [
    {
     "name": "stdout",
     "output_type": "stream",
     "text": [
      "Spiel Nummer [[1, 2, 0], [2, 1, 0], [2, 1, 1]]\n",
      "1 won: 1\n",
      "2 won: 0\n",
      "Spiel Nummer [[2, 2, 0], [2, 1, 0], [2, 1, 1]]\n",
      "1 won: 0\n",
      "2 won: 1\n",
      "Spiel Nummer [[1, 2, 0], [2, 1, 0], [2, 1, 1]]\n",
      "1 won: 1\n",
      "2 won: 0\n",
      "Spiel Nummer [[0, 1, 0], [2, 1, 0], [2, 1, 1]]\n",
      "1 won: 1\n",
      "2 won: 0\n",
      "Spiel Nummer [[1, 2, 0], [2, 1, 0], [2, 1, 2]]\n",
      "1 won: 0\n",
      "2 won: 0\n",
      "Spiel Nummer [[1, 2, 0], [2, 1, 0], [2, 1, 0]]\n",
      "1 won: 0\n",
      "2 won: 0\n"
     ]
    }
   ],
   "source": [
    "games = []\n",
    "games.append([[1, 2, 0],[2, 1, 0],[2, 1, 1]])\n",
    "games.append([[2, 2, 0],[2, 1, 0],[2, 1, 1]])\n",
    "\n",
    "games.append([[1, 2, 0],[2, 1, 0],[2, 1, 1]])\n",
    "\n",
    "games.append([[0, 1, 0],[2, 1, 0],[2, 1, 1]])\n",
    "\n",
    "games.append([[1, 2, 0],[2, 1, 0],[2, 1, 2]])\n",
    "\n",
    "games.append([[1, 2, 0],[2, 1, 0],[2, 1, 0]])\n",
    "             \n",
    "one_won = 0\n",
    "two_won = 0\n",
    "\n",
    "for game in games:\n",
    "    # Horizontal prüfen\n",
    "    for h in game:\n",
    "        if (h[0] == 1 and h[1] == 1 and h[2] == 1):\n",
    "            one_won = 1\n",
    "        elif (h[0] == 2 and h[1] == 2 and h[2] == 2):\n",
    "            two_won = 1\n",
    "\n",
    "    # Vertikal prüfen\n",
    "    for v in range(3):\n",
    "        if(game[0][v] == 1 and game[1][v] == 1 and game[2][v] == 1):\n",
    "            one_won = 1\n",
    "        elif(game[0][v] == 2 and game[1][v] == 2 and game[2][v] == 2):\n",
    "            two_won = 1\n",
    "\n",
    "    # Diagonal prüfen\n",
    "    if(game[0][0] == 1 and game[1][1] == 1 and game[2][2] == 1):\n",
    "        one_won = 1\n",
    "    elif(game[0][0] == 2 and game[1][1] == 2 and game[2][2] == 2):\n",
    "        one_won = 2\n",
    "\n",
    "    print(\"Spiel Nummer \"+str(game))\n",
    "    print(\"1 won: \"+str(one_won))\n",
    "    print(\"2 won: \"+str(two_won))\n",
    "    one_won = 0\n",
    "    two_won = 0\n",
    "        "
   ]
  },
  {
   "cell_type": "code",
   "execution_count": null,
   "metadata": {},
   "outputs": [],
   "source": []
  }
 ],
 "metadata": {
  "kernelspec": {
   "display_name": "Python 3",
   "language": "python",
   "name": "python3"
  },
  "language_info": {
   "codemirror_mode": {
    "name": "ipython",
    "version": 3
   },
   "file_extension": ".py",
   "mimetype": "text/x-python",
   "name": "python",
   "nbconvert_exporter": "python",
   "pygments_lexer": "ipython3",
   "version": "3.7.0"
  }
 },
 "nbformat": 4,
 "nbformat_minor": 2
}
