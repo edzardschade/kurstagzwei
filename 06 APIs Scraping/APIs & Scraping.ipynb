{
 "cells": [
  {
   "cell_type": "code",
   "execution_count": 3,
   "metadata": {},
   "outputs": [],
   "source": [
    "import requests # \"Requests\" nach dem installieren hier laden"
   ]
  },
  {
   "cell_type": "code",
   "execution_count": 12,
   "metadata": {},
   "outputs": [
    {
     "data": {
      "text/plain": [
       "892"
      ]
     },
     "execution_count": 12,
     "metadata": {},
     "output_type": "execute_result"
    }
   ],
   "source": [
    "requests.get(\"https://earthquake.usgs.gov/fdsnws/event/1/count?starttime=2018-09-28&endtime=2018-10-01\").json()"
   ]
  },
  {
   "cell_type": "code",
   "execution_count": 16,
   "metadata": {},
   "outputs": [
    {
     "data": {
      "text/plain": [
       "'892'"
      ]
     },
     "execution_count": 16,
     "metadata": {},
     "output_type": "execute_result"
    }
   ],
   "source": [
    "basisurl = \"https://earthquake.usgs.gov/fdsnws/event/1/\"\n",
    "method = \"count?\"\n",
    "parameter = \"starttime=2018-09-28&endtime=2018-10-01\"\n",
    "\n",
    "count = requests.get(basisurl+method+parameter)\n",
    "count.text"
   ]
  },
  {
   "cell_type": "code",
   "execution_count": 15,
   "metadata": {},
   "outputs": [
    {
     "data": {
      "text/plain": [
       "{'errors': [{'code': 215, 'message': 'Bad Authentication data.'}]}"
      ]
     },
     "execution_count": 15,
     "metadata": {},
     "output_type": "execute_result"
    }
   ],
   "source": [
    "requests.get(\"https://api.twitter.com/1.1/search/tweets.json?q=nasa&result_type=popular\").json()"
   ]
  },
  {
   "cell_type": "code",
   "execution_count": 19,
   "metadata": {},
   "outputs": [
    {
     "name": "stdout",
     "output_type": "stream",
     "text": [
      "['2018-07-01', '2018-07-31'] 28015\n",
      "['2018-08-01', '2018-08-31'] 16213\n",
      "['2018-09-01', '2018-09-30'] 9688\n"
     ]
    }
   ],
   "source": [
    "monatsliste = [\n",
    "    ['2018-07-01', '2018-07-31'],\n",
    "    ['2018-08-01', '2018-08-31'],\n",
    "    ['2018-09-01', '2018-09-30']\n",
    "]\n",
    "\n",
    "for monat in monatsliste:\n",
    "    anzahl = requests.get(\"https://earthquake.usgs.gov/fdsnws/event/1/count?starttime=\"+monat[0]+\"&endtime=\"+monat[1]).json()\n",
    "    print(str(monat)+\" \"+str(anzahl))"
   ]
  },
  {
   "cell_type": "code",
   "execution_count": 58,
   "metadata": {},
   "outputs": [
    {
     "name": "stdout",
     "output_type": "stream",
     "text": [
      "[{'type': 'Feature', 'properties': {'mag': 0.56, 'place': '7km NW of The Geysers, CA', 'time': 1538351954920, 'updated': 1538357103370, 'tz': -480, 'url': 'https://earthquake.usgs.gov/earthquakes/eventpage/nc73091916', 'detail': 'https://earthquake.usgs.gov/fdsnws/event/1/query?eventid=nc73091916&format=geojson', 'felt': None, 'cdi': None, 'mmi': None, 'alert': None, 'status': 'automatic', 'tsunami': 0, 'sig': 5, 'net': 'nc', 'code': '73091916', 'ids': ',nc73091916,', 'sources': ',nc,', 'types': ',geoserve,nearby-cities,origin,phase-data,scitech-link,', 'nst': 9, 'dmin': 0.01007, 'rms': 0.02, 'gap': 93, 'magType': 'md', 'type': 'earthquake', 'title': 'M 0.6 - 7km NW of The Geysers, CA'}, 'geometry': {'type': 'Point', 'coordinates': [-122.8188324, 38.8160019, 2.67]}, 'id': 'nc73091916'}, {'type': 'Feature', 'properties': {'mag': 3.2, 'place': '57km NNE of Gambell, Alaska', 'time': 1538351694100, 'updated': 1538352819040, 'tz': -660, 'url': 'https://earthquake.usgs.gov/earthquakes/eventpage/us1000h4te', 'detail': 'https://earthquake.usgs.gov/fdsnws/event/1/query?eventid=us1000h4te&format=geojson', 'felt': None, 'cdi': None, 'mmi': None, 'alert': None, 'status': 'reviewed', 'tsunami': 0, 'sig': 158, 'net': 'us', 'code': '1000h4te', 'ids': ',us1000h4te,', 'sources': ',us,', 'types': ',geoserve,origin,phase-data,', 'nst': None, 'dmin': 2.552, 'rms': 0.58, 'gap': 268, 'magType': 'mb_lg', 'type': 'earthquake', 'title': 'M 3.2 - 57km NNE of Gambell, Alaska'}, 'geometry': {'type': 'Point', 'coordinates': [-171.2043, 64.2416, 10]}, 'id': 'us1000h4te'}, {'type': 'Feature', 'properties': {'mag': 4.4, 'place': '27km ENE of Sarpol-e Zahab, Iran', 'time': 1538351365450, 'updated': 1538352278040, 'tz': 210, 'url': 'https://earthquake.usgs.gov/earthquakes/eventpage/us1000h4tc', 'detail': 'https://earthquake.usgs.gov/fdsnws/event/1/query?eventid=us1000h4tc&format=geojson', 'felt': None, 'cdi': None, 'mmi': None, 'alert': None, 'status': 'reviewed', 'tsunami': 0, 'sig': 298, 'net': 'us', 'code': '1000h4tc', 'ids': ',us1000h4tc,', 'sources': ',us,', 'types': ',geoserve,origin,phase-data,', 'nst': None, 'dmin': 1.218, 'rms': 0.9, 'gap': 70, 'magType': 'mb', 'type': 'earthquake', 'title': 'M 4.4 - 27km ENE of Sarpol-e Zahab, Iran'}, 'geometry': {'type': 'Point', 'coordinates': [46.1428, 34.5426, 10]}, 'id': 'us1000h4tc'}, {'type': 'Feature', 'properties': {'mag': 3, 'place': '60km NNW of Charlotte Amalie, U.S. Virgin Islands', 'time': 1538351193790, 'updated': 1538378021195, 'tz': -240, 'url': 'https://earthquake.usgs.gov/earthquakes/eventpage/pr2018273024', 'detail': 'https://earthquake.usgs.gov/fdsnws/event/1/query?eventid=pr2018273024&format=geojson', 'felt': None, 'cdi': None, 'mmi': None, 'alert': None, 'status': 'reviewed', 'tsunami': 0, 'sig': 138, 'net': 'pr', 'code': '2018273024', 'ids': ',pr2018273024,', 'sources': ',pr,', 'types': ',geoserve,origin,phase-data,', 'nst': 10, 'dmin': 1.0674, 'rms': 0.3, 'gap': 333, 'magType': 'md', 'type': 'earthquake', 'title': 'M 3.0 - 60km NNW of Charlotte Amalie, U.S. Virgin Islands'}, 'geometry': {'type': 'Point', 'coordinates': [-65.0708, 18.8728, 28]}, 'id': 'pr2018273024'}, {'type': 'Feature', 'properties': {'mag': 1.86, 'place': '7km ENE of San Simeon, CA', 'time': 1538350842690, 'updated': 1538355543228, 'tz': -480, 'url': 'https://earthquake.usgs.gov/earthquakes/eventpage/nc73091911', 'detail': 'https://earthquake.usgs.gov/fdsnws/event/1/query?eventid=nc73091911&format=geojson', 'felt': None, 'cdi': None, 'mmi': None, 'alert': None, 'status': 'automatic', 'tsunami': 0, 'sig': 53, 'net': 'nc', 'code': '73091911', 'ids': ',nc73091911,', 'sources': ',nc,', 'types': ',geoserve,nearby-cities,origin,phase-data,scitech-link,', 'nst': 14, 'dmin': 0.1339, 'rms': 0.05, 'gap': 189, 'magType': 'md', 'type': 'earthquake', 'title': 'M 1.9 - 7km ENE of San Simeon, CA'}, 'geometry': {'type': 'Point', 'coordinates': [-121.1146698, 35.668499, 5.61]}, 'id': 'nc73091911'}, {'type': 'Feature', 'properties': {'mag': 1.1, 'place': '42km NE of Big Pine, California', 'time': 1538350488949, 'updated': 1538353679853, 'tz': -480, 'url': 'https://earthquake.usgs.gov/earthquakes/eventpage/nn00658995', 'detail': 'https://earthquake.usgs.gov/fdsnws/event/1/query?eventid=nn00658995&format=geojson', 'felt': None, 'cdi': None, 'mmi': None, 'alert': None, 'status': 'reviewed', 'tsunami': 0, 'sig': 19, 'net': 'nn', 'code': '00658995', 'ids': ',nn00658995,', 'sources': ',nn,', 'types': ',geoserve,origin,phase-data,', 'nst': 14, 'dmin': 0.066, 'rms': 0.1357, 'gap': 117.44, 'magType': 'ml', 'type': 'earthquake', 'title': 'M 1.1 - 42km NE of Big Pine, California'}, 'geometry': {'type': 'Point', 'coordinates': [-117.8926, 37.3847, 7.9]}, 'id': 'nn00658995'}, {'type': 'Feature', 'properties': {'mag': 2, 'place': '65km SSW of Kaktovik, Alaska', 'time': 1538350467726, 'updated': 1538350705512, 'tz': -540, 'url': 'https://earthquake.usgs.gov/earthquakes/eventpage/ak20267989', 'detail': 'https://earthquake.usgs.gov/fdsnws/event/1/query?eventid=ak20267989&format=geojson', 'felt': None, 'cdi': None, 'mmi': None, 'alert': None, 'status': 'automatic', 'tsunami': 0, 'sig': 62, 'net': 'ak', 'code': '20267989', 'ids': ',ak20267989,', 'sources': ',ak,', 'types': ',geoserve,origin,', 'nst': None, 'dmin': None, 'rms': 0.93, 'gap': None, 'magType': 'ml', 'type': 'earthquake', 'title': 'M 2.0 - 65km SSW of Kaktovik, Alaska'}, 'geometry': {'type': 'Point', 'coordinates': [-144.0262, 69.5573, 1.1]}, 'id': 'ak20267989'}, {'type': 'Feature', 'properties': {'mag': 3.56, 'place': '70km N of Culebra, Puerto Rico', 'time': 1538350182180, 'updated': 1538353846290, 'tz': -240, 'url': 'https://earthquake.usgs.gov/earthquakes/eventpage/pr2018273020', 'detail': 'https://earthquake.usgs.gov/fdsnws/event/1/query?eventid=pr2018273020&format=geojson', 'felt': 2, 'cdi': 2.7, 'mmi': None, 'alert': None, 'status': 'reviewed', 'tsunami': 0, 'sig': 196, 'net': 'pr', 'code': '2018273020', 'ids': ',pt18273001,us1000h4t6,pr2018273020,', 'sources': ',pt,us,pr,', 'types': ',dyfi,geoserve,origin,phase-data,', 'nst': 26, 'dmin': 0.9771, 'rms': 0.4, 'gap': 193, 'magType': 'md', 'type': 'earthquake', 'title': 'M 3.6 - 70km N of Culebra, Puerto Rico'}, 'geometry': {'type': 'Point', 'coordinates': [-65.1813, 18.8556, 12]}, 'id': 'pr2018273020'}, {'type': 'Feature', 'properties': {'mag': 4.3, 'place': '25km SE of Jarm, Afghanistan', 'time': 1538349989110, 'updated': 1538350896040, 'tz': 270, 'url': 'https://earthquake.usgs.gov/earthquakes/eventpage/us1000h4t2', 'detail': 'https://earthquake.usgs.gov/fdsnws/event/1/query?eventid=us1000h4t2&format=geojson', 'felt': None, 'cdi': None, 'mmi': None, 'alert': None, 'status': 'reviewed', 'tsunami': 0, 'sig': 284, 'net': 'us', 'code': '1000h4t2', 'ids': ',us1000h4t2,', 'sources': ',us,', 'types': ',geoserve,origin,phase-data,', 'nst': None, 'dmin': 0.559, 'rms': 1.04, 'gap': 69, 'magType': 'mb', 'type': 'earthquake', 'title': 'M 4.3 - 25km SE of Jarm, Afghanistan'}, 'geometry': {'type': 'Point', 'coordinates': [71.0438, 36.7094, 215.95]}, 'id': 'us1000h4t2'}, {'type': 'Feature', 'properties': {'mag': 0.89, 'place': '8km N of Borrego Springs, CA', 'time': 1538348947350, 'updated': 1538349165249, 'tz': -480, 'url': 'https://earthquake.usgs.gov/earthquakes/eventpage/ci37375338', 'detail': 'https://earthquake.usgs.gov/fdsnws/event/1/query?eventid=ci37375338&format=geojson', 'felt': None, 'cdi': None, 'mmi': None, 'alert': None, 'status': 'automatic', 'tsunami': 0, 'sig': 12, 'net': 'ci', 'code': '37375338', 'ids': ',ci37375338,', 'sources': ',ci,', 'types': ',geoserve,nearby-cities,origin,phase-data,scitech-link,', 'nst': 25, 'dmin': 0.07899, 'rms': 0.25, 'gap': 71, 'magType': 'ml', 'type': 'earthquake', 'title': 'M 0.9 - 8km N of Borrego Springs, CA'}, 'geometry': {'type': 'Point', 'coordinates': [-116.361, 33.3318333, 7.75]}, 'id': 'ci37375338'}]\n"
     ]
    }
   ],
   "source": [
    "# query\n",
    "ergebnis = requests.get(\"https://earthquake.usgs.gov/fdsnws/event/1/query?format=geojson&starttime=2018-09-28&endtime=2018-10-01\")\n",
    "erdbeben = (ergebnis.json())\n",
    "\n",
    "print(erdbeben['features'][:10])\n",
    "placeandmag = []\n",
    "for quake in erdbeben['features'][:10]:\n",
    "    placeandmag.append({\"Ort\": quake['properties']['place'], \"Staerke\": quake['properties']['mag']})\n",
    "    #print(quake['properties']['place']+\": \"+str(quake['properties']['mag']))\n",
    "    \n",
    "#placeandmag"
   ]
  },
  {
   "cell_type": "code",
   "execution_count": 51,
   "metadata": {},
   "outputs": [
    {
     "name": "stdout",
     "output_type": "stream",
     "text": [
      "Collecting pandas\n",
      "\u001b[?25l  Downloading https://files.pythonhosted.org/packages/6b/dc/3a88b7bf8437f3f052fc90de72f28c06248142821a7f108e10ff3be5eb59/pandas-0.23.4-cp37-cp37m-macosx_10_6_intel.macosx_10_9_intel.macosx_10_9_x86_64.macosx_10_10_intel.macosx_10_10_x86_64.whl (14.4MB)\n",
      "\u001b[K    100% |████████████████████████████████| 14.4MB 947kB/s ta 0:00:011\n",
      "\u001b[?25hRequirement already satisfied: python-dateutil>=2.5.0 in /Users/leasenn/.virtualenvs/erstesVE/lib/python3.7/site-packages (from pandas) (2.7.3)\n",
      "Requirement already satisfied: pytz>=2011k in /Users/leasenn/.virtualenvs/erstesVE/lib/python3.7/site-packages (from pandas) (2018.5)\n",
      "Collecting numpy>=1.9.0 (from pandas)\n",
      "\u001b[?25l  Downloading https://files.pythonhosted.org/packages/f9/64/f47c172c2d2ee8907b5918ff7af7e52207f6bf4a57983e4474fcda728112/numpy-1.15.2-cp37-cp37m-macosx_10_6_intel.macosx_10_9_intel.macosx_10_9_x86_64.macosx_10_10_intel.macosx_10_10_x86_64.whl (24.5MB)\n",
      "\u001b[K    100% |████████████████████████████████| 24.5MB 670kB/s ta 0:00:011   35% |███████████▍                    | 8.7MB 728kB/s eta 0:00:22\n",
      "\u001b[?25hRequirement already satisfied: six>=1.5 in /Users/leasenn/.virtualenvs/erstesVE/lib/python3.7/site-packages (from python-dateutil>=2.5.0->pandas) (1.11.0)\n",
      "Installing collected packages: numpy, pandas\n",
      "Successfully installed numpy-1.15.2 pandas-0.23.4\n"
     ]
    }
   ],
   "source": [
    "!pip install pandas"
   ]
  },
  {
   "cell_type": "code",
   "execution_count": 52,
   "metadata": {},
   "outputs": [],
   "source": [
    "import pandas as pd"
   ]
  },
  {
   "cell_type": "code",
   "execution_count": 54,
   "metadata": {},
   "outputs": [],
   "source": [
    "pd.DataFrame(placeandmag).to_csv('Place_and_Magnitude.csv')"
   ]
  },
  {
   "cell_type": "markdown",
   "metadata": {},
   "source": [
    "## Beispiel API: Random Fox"
   ]
  },
  {
   "cell_type": "code",
   "execution_count": 101,
   "metadata": {},
   "outputs": [
    {
     "data": {
      "text/html": [
       "<img src=\"http://randomfox.ca/images/57.jpg\"/>"
      ],
      "text/plain": [
       "<IPython.core.display.Image object>"
      ]
     },
     "execution_count": 101,
     "metadata": {},
     "output_type": "execute_result"
    }
   ],
   "source": [
    "fox = requests.get(\"https://randomfox.ca/floof/\").json()\n",
    "from IPython.display import Image\n",
    "from IPython.core.display import HTML \n",
    "Image(url= fox[\"image\"])"
   ]
  },
  {
   "cell_type": "markdown",
   "metadata": {},
   "source": [
    "## Beispiel API 2: Nasa"
   ]
  },
  {
   "cell_type": "code",
   "execution_count": 100,
   "metadata": {},
   "outputs": [
    {
     "name": "stdout",
     "output_type": "stream",
     "text": [
      "Supernumerary Rainbows over New Jersey\n",
      "Yes, but can your rainbow do this?  After the remnants of Hurricane Florence passed over Jersey Shore, New Jersey, USA last month, the Sun came out in one direction but something quite unusual appeared in the opposite direction: a hall of rainbows.  Over the course of a next half hour, to the delight of the photographer and his daughter, vibrant supernumerary rainbows faded in and out, with at least five captured in this featured single shot.  Supernumerary rainbows only form when falling water droplets are all nearly the same size and typically less than a millimeter across.  Then, sunlight will not only reflect from inside the raindrops, but interfere, a wave phenomenon similar to ripples on a pond when a stone is thrown in. In fact, supernumerary rainbows can only be explained with waves, and their noted existence in the early 1800s was considered early evidence of light's wave nature.   Follow APOD on: Facebook,  Google Plus,  Instagram, or Twitter\n"
     ]
    },
    {
     "data": {
      "text/html": [
       "<img src=\"https://apod.nasa.gov/apod/image/1810/SupernumeraryRainbows_Entwistle_960.jpg\"/>"
      ],
      "text/plain": [
       "<IPython.core.display.Image object>"
      ]
     },
     "execution_count": 100,
     "metadata": {},
     "output_type": "execute_result"
    }
   ],
   "source": [
    "from IPython.display import Image\n",
    "from IPython.core.display import HTML \n",
    "nasa = requests.get(\"https://api.nasa.gov/planetary/apod?api_key=aYDPdLM805f4auOQspFcN71QQam8Rxu32AVTv25e\").json()\n",
    "print(nasa[\"title\"])\n",
    "print(nasa[\"explanation\"])\n",
    "Image(url= nasa[\"url\"])"
   ]
  },
  {
   "cell_type": "markdown",
   "metadata": {},
   "source": [
    "## HTML-File auslesen"
   ]
  },
  {
   "cell_type": "code",
   "execution_count": 89,
   "metadata": {},
   "outputs": [],
   "source": [
    "file = open('index.html', \"r\").read()"
   ]
  },
  {
   "cell_type": "code",
   "execution_count": 90,
   "metadata": {},
   "outputs": [],
   "source": [
    "from bs4 import BeautifulSoup"
   ]
  },
  {
   "cell_type": "code",
   "execution_count": 91,
   "metadata": {},
   "outputs": [],
   "source": [
    "soup = BeautifulSoup(file, \"html.parser\")"
   ]
  },
  {
   "cell_type": "code",
   "execution_count": 98,
   "metadata": {},
   "outputs": [],
   "source": [
    "gerichte = []\n",
    "for gericht in soup.find_all('li'):\n",
    "    gerichte.append(gericht.text)"
   ]
  },
  {
   "cell_type": "code",
   "execution_count": 99,
   "metadata": {},
   "outputs": [
    {
     "data": {
      "text/plain": [
       "['Suppe', 'Salat', 'Dessert']"
      ]
     },
     "execution_count": 99,
     "metadata": {},
     "output_type": "execute_result"
    }
   ],
   "source": [
    "gerichte"
   ]
  },
  {
   "cell_type": "code",
   "execution_count": null,
   "metadata": {},
   "outputs": [],
   "source": []
  }
 ],
 "metadata": {
  "kernelspec": {
   "display_name": "Python 3",
   "language": "python",
   "name": "python3"
  },
  "language_info": {
   "codemirror_mode": {
    "name": "ipython",
    "version": 3
   },
   "file_extension": ".py",
   "mimetype": "text/x-python",
   "name": "python",
   "nbconvert_exporter": "python",
   "pygments_lexer": "ipython3",
   "version": "3.7.0"
  }
 },
 "nbformat": 4,
 "nbformat_minor": 2
}
