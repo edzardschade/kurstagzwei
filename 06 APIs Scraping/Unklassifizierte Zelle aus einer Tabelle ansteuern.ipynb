{
 "cells": [
  {
   "cell_type": "markdown",
   "metadata": {},
   "source": [
    "# Eine bestimmte Zelle in einer unklassifizierten Tabelle finden"
   ]
  },
  {
   "cell_type": "markdown",
   "metadata": {},
   "source": [
    "So sieht die Tabelle auf der Seite https://www.transfermarkt.ch/super-league/startseite/wettbewerb/C1/plus/?saison_id=2017 aus. Wir wollen die Punktzahl auslesen. Die gewünschte Zelle hat zwar die Klasse 'zentriert', doch diese Klasse haben noch gefühlt andere 10000 Zellen auf dieser Seite, hilft also nicht viel."
   ]
  },
  {
   "cell_type": "code",
   "execution_count": 26,
   "metadata": {},
   "outputs": [
    {
     "data": {
      "text/html": [
       "<img src=\"Tabelle.jpg\"/>"
      ],
      "text/plain": [
       "<IPython.core.display.Image object>"
      ]
     },
     "execution_count": 26,
     "metadata": {},
     "output_type": "execute_result"
    }
   ],
   "source": [
    "# Diese zwei Zeilen brauchst du in deinem Code nicht, das ist nur hier um das Bild anzuzeigen\n",
    "#from IPython.display import Image \n",
    "#Image(url= \"Tabelle.jpg\")"
   ]
  },
  {
   "cell_type": "markdown",
   "metadata": {},
   "source": [
    "## Ab hier geht es los mit dem Code\n",
    "\n",
    "Die Idee ist: Wir haben insgesamt nur zwei Divs (Container) mit der Klasse 'responsive-table' auf unserer Seite. Unser Inhalt ist im zweiten Div. Wir gehen also so vor:\n",
    "1. Wir suchen alle Divs mit Klasse 'responsive-table'\n",
    "2. Wir wählen das zweite gefundene Div aus (denn darin sind unsere Daten)\n",
    "3. Um in unserer Tabelle alle Teams und Punkte auszulesen, gehen wir durch alle Reihen durch; suchen also nach allen 'tr'-Elementen\n",
    "4. Darin lesen wir dann jeweils das 3. td (Teamname) und das letzte td (Punktzahl) aus\n",
    "5. ... und machen daraus ein Dictionarry, yippeh\n",
    "    "
   ]
  },
  {
   "cell_type": "code",
   "execution_count": 27,
   "metadata": {},
   "outputs": [
    {
     "data": {
      "text/plain": [
       "{'BSC Young Boys': 84,\n",
       " 'FC Basel': 69,\n",
       " 'FC Luzern': 54,\n",
       " 'FC Zürich': 49,\n",
       " 'FC St. Gallen': 45,\n",
       " 'FC Sion': 42,\n",
       " 'FC Thun': 42,\n",
       " 'FC Lugano': 42,\n",
       " 'Grasshoppers': 39,\n",
       " 'Lausanne-Sport': 35}"
      ]
     },
     "execution_count": 27,
     "metadata": {},
     "output_type": "execute_result"
    }
   ],
   "source": [
    "# Libraries laden\n",
    "import requests\n",
    "from bs4 import BeautifulSoup\n",
    "import pandas as pd\n",
    "\n",
    "# Auslesen der Webseite\n",
    "punktetabelle = {}\n",
    "saison = 2017\n",
    "browserinfo = {'User-Agent': 'Mozilla/5.0 (Macintosh; Intel Mac OS X 10_10_1) AppleWebKit/537.36 (KHTML, like Gecko) Chrome/39.0.2171.95 Safari/537.36'}\n",
    "url = 'https://www.transfermarkt.ch/super-league/startseite/wettbewerb/C1/plus/?saison_id='+str(saison)\n",
    "website = requests.get(url, headers=browserinfo)\n",
    "soup_complete_site = BeautifulSoup(website.text, 'html.parser')\n",
    "\n",
    "# Schritt 1: Finde alle Tabellen mit class 'responsive-table'\n",
    "soup_all_tables = soup_complete_site.find_all('div', {'class':'responsive-table'})\n",
    "# Schritt 2: Meine Tabelle ist die zweite, deshalb:\n",
    "soup_my_table = soup_all_tables[1]\n",
    "\n",
    "# Schritt 3: In dieser Tabelle alle 'tr' finden (einzelne Reihen)\n",
    "soup_rows = soup_my_table.find_all('tr')\n",
    "\n",
    "for row in soup_rows[1:]: # Die erste Reihe wird die Überschrift sein, deshalb skippen mit [1:]\n",
    "    alle_tds = row.find_all('td')\n",
    "    punkte = int(alle_tds[-1].text) # Schritt 4 A: Nimm die Punkte aus dem letzten Element der Liste mit [-1]\n",
    "    team = alle_tds[2].text.strip() # Schritt 4 B: Nimm den Teamnamen aus dem dritten Element der Liste mit [2]\n",
    "    \n",
    "    # Schritt 5: Setze das Päärchen aus Key 'Teamname' und Value 'Punktzahl' in die Liste\n",
    "    punktetabelle[team] = punkte\n",
    "\n",
    "\n",
    "punktetabelle"
   ]
  },
  {
   "cell_type": "code",
   "execution_count": 22,
   "metadata": {},
   "outputs": [
    {
     "name": "stdout",
     "output_type": "stream",
     "text": [
      "84\n"
     ]
    }
   ],
   "source": [
    "# Hier kannst du jetzt auf die Punktezahl einer bestimmten Mannschaft zugreifen, z.B.:\n",
    "yb = punktetabelle['BSC Young Boys']\n",
    "print(yb)"
   ]
  },
  {
   "cell_type": "code",
   "execution_count": null,
   "metadata": {},
   "outputs": [],
   "source": []
  }
 ],
 "metadata": {
  "kernelspec": {
   "display_name": "Python 3",
   "language": "python",
   "name": "python3"
  },
  "language_info": {
   "codemirror_mode": {
    "name": "ipython",
    "version": 3
   },
   "file_extension": ".py",
   "mimetype": "text/x-python",
   "name": "python",
   "nbconvert_exporter": "python",
   "pygments_lexer": "ipython3",
   "version": "3.7.0"
  }
 },
 "nbformat": 4,
 "nbformat_minor": 2
}
