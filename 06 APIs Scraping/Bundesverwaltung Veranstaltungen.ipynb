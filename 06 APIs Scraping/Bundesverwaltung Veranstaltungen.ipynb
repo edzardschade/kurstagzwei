{
 "cells": [
  {
   "cell_type": "code",
   "execution_count": 34,
   "metadata": {},
   "outputs": [
    {
     "name": "stdout",
     "output_type": "stream",
     "text": [
      "Hotel Bellevue Palace, Salon Rouge\n",
      "Kochergasse 3-5\n",
      "\n",
      "\t\t\t\t\t\t\t3011 Bern\n",
      "Fr 19.02.201609:30 - 11:00\n",
      "Medien-HintergrundgesprächAm 4. September 2013 hatte der Bundesrat die Botschaft zum ersten Massnahmenpaket der Energiestrategie 2050 verabschiedet und dem Parlament zur Beratung überwiesen. In der Wintersession 2014 befasste sich der Nationalrat, im Herbst 2015 der Ständerat mit dem Dossier. In der bevorstehenden Frühlingssession 2016 wird der Nationalrat die Differenzbereinigung aufnehmen.Das Bundesamt für Energie (BFE) nimmt dies zum Anlass, in einem Medien-Hintergrundgespräch die wesentlichen Themen, Diskussionsfelder und Knackpunkte der Energiestrategie 2050 darzulegen und Fragen zu beantworten.• Kurze Rekapitulation der wichtigsten Inhalte der ES 2050 gemäss Botschaft• Wichtigste Punkte, denen NR und SR bereits einvernehmlich zugestimmt haben• Wichtigste Änderungen gegenüber Botschaft• Bestehende Differenzen vor NR-Debatte in Frühlingssession• Zeitplan und anstehende VolksinitiativenGesprächspartner:• Walter Steinmann, Direktor BFE• Pascal Previdoli, Stellvertretender Direktor BFE• Weitere Expert/innen des BFE(Kaffee und Croissants ab 09:00 Uhr)\n",
      "Bundesamt für Verkehr\n",
      "Office fédéral des transports\n",
      "Mühlestrasse 6\n",
      "\n",
      "\t\t\t\t\t\t\t3063 Ittigen (BE)\n",
      "Do 14.01.201610:30\n",
      "Medien-Hintergrundgespräch\n",
      "Medienzentrum Bundeshaus, Konferenzsaal\n",
      "Centre de presse du Palais fédéral, salle de conférences\n",
      "\n",
      "\t\t\t\t\t\t\tBern\n",
      "Fr 15.01.201610:30\n",
      "MedienkonferenzTeilnehmende: • Rebecca Ruiz, Nationalrätin VD• Mustafa Atici, Präsident SP MigrantInnen, Grossrat BS• Ihsan Kurt, Vizepräsident SP MigrantInnen, Gemeinderat Prilly (VD)• Osman Osmani, Vizepräsident SP MigrantInnen, Kantonsrat SH• Isabel Bartal, Kantonsrätin ZHAnwesend sind ausserdem weitere Vertreterinnen und Vertreter der SP MigrantInnen.\n",
      "Medienzentrum Bundeshaus, Konferenzsaal\n",
      "Centre de presse du Palais fédéral, salle de conférences\n",
      "\n",
      "\t\t\t\t\t\t\tBern\n",
      "Mo 18.01.201610:30\n",
      "Medienkonferenz\n",
      "Tagungs- und Kulturzentrum MythenForum Schwyz \n",
      "Reichsstrasse 12\n",
      "\n",
      "\t\t\t\t\t\t\t6430 Schwyz\n",
      "Sa 16.01.201610:35\n",
      "Traktanden:1. Begrüssung durch Petra Gössi, Präsidentin FDP Schwyz 2. Rede des Parteipräsidenten Philipp Müller 3. Rede von unserem Bundespräsident Johann Schneider-Ammann 4. Präsentation neue Parlamentarier 5. Volksinitiative „Für Ehe und Familie – gegen die Heiratsstrafe“ 6. Volksinitiative „Zur Durchsetzung der Ausschaffung krimineller Ausländer (Durchset-zungsinitiative)“ 7. Änderung des Bundesgesetzes über den Strassentransitverkehr im Alpengebiet (STVG) (Sanierung Gotthard-Strassentunnel) 8. Schlusswort vom Parteipräsidenten Philipp Müller Voraussichtliches Ende der Delegiertenversammlung: 13:10 Uhr\n"
     ]
    }
   ],
   "source": [
    "import requests\n",
    "from bs4 import BeautifulSoup\n",
    "import pandas as pd\n",
    "\n",
    "for id in range(6000,6005):\n",
    "    url = \"https://www.admin.ch/gov/de/start/dokumentation/veranstaltungen.event-id-\"+str(id)+\".html\"\n",
    "    website = requests.get(url)\n",
    "    soup = BeautifulSoup(website.text, \"html.parser\")\n",
    "    \n",
    "    print(str(soup.find_all('td')[0]).replace('<br>',\"\\n\").replace('<br/>',\"\\n\").replace(\"<td>\",\"\").replace(\"</td>\",\"\").replace(\"</br>\",\"\").strip())\n",
    "    print(soup.find_all('td')[1].text.replace(\"\\n\",\"\").replace(\"\\t\",\"\").replace(\"\\xa0\",\"\").strip())\n",
    "    print(soup.find_all('td')[2].text.replace(\"\\n\",\"\").replace(\"\\t\",\"\").replace(\"\\xa0\",\"\").strip())"
   ]
  },
  {
   "cell_type": "code",
   "execution_count": 27,
   "metadata": {},
   "outputs": [
    {
     "data": {
      "text/plain": [
       "'<td>\\n\\t\\t\\t\\t\\t\\t\\tHotel Bellevue Palace, Salon Rouge\\nKochergasse 3-5\\n\\n\\t\\t\\t\\t\\t\\t\\t3011\\xa0Bern\\n\\t\\t\\t\\t\\t\\t</br></td>'"
      ]
     },
     "execution_count": 27,
     "metadata": {},
     "output_type": "execute_result"
    }
   ],
   "source": [
    "str(soup.find_all('td')[0]).replace('<br>',\"\\n\").replace('<br/>',\"\\n\")\n"
   ]
  },
  {
   "cell_type": "code",
   "execution_count": 14,
   "metadata": {},
   "outputs": [
    {
     "data": {
      "text/plain": [
       "'Fr 19.02.201609:30 - 11:00'"
      ]
     },
     "execution_count": 14,
     "metadata": {},
     "output_type": "execute_result"
    }
   ],
   "source": [
    "soup.find_all('td')[1].text.replace(\"\\n\",\"\").replace(\"\\t\",\"\").replace(\"\\xa0\",\"\").strip()"
   ]
  },
  {
   "cell_type": "code",
   "execution_count": 15,
   "metadata": {},
   "outputs": [
    {
     "data": {
      "text/plain": [
       "'Medien-HintergrundgesprächAm 4. September 2013 hatte der Bundesrat die Botschaft zum ersten Massnahmenpaket der Energiestrategie 2050 verabschiedet und dem Parlament zur Beratung überwiesen. In der Wintersession 2014 befasste sich der Nationalrat, im Herbst 2015 der Ständerat mit dem Dossier. In der bevorstehenden Frühlingssession 2016 wird der Nationalrat die Differenzbereinigung aufnehmen.Das Bundesamt für Energie (BFE) nimmt dies zum Anlass, in einem Medien-Hintergrundgespräch die wesentlichen Themen, Diskussionsfelder und Knackpunkte der Energiestrategie 2050 darzulegen und Fragen zu beantworten.• Kurze Rekapitulation der wichtigsten Inhalte der ES 2050 gemäss Botschaft• Wichtigste Punkte, denen NR und SR bereits einvernehmlich zugestimmt haben• Wichtigste Änderungen gegenüber Botschaft• Bestehende Differenzen vor NR-Debatte in Frühlingssession• Zeitplan und anstehende VolksinitiativenGesprächspartner:• Walter Steinmann, Direktor BFE• Pascal Previdoli, Stellvertretender Direktor BFE• Weitere Expert/innen des BFE(Kaffee und Croissants ab 09:00 Uhr)'"
      ]
     },
     "execution_count": 15,
     "metadata": {},
     "output_type": "execute_result"
    }
   ],
   "source": [
    "soup.find_all('td')[2].text.replace(\"\\n\",\"\").replace(\"\\t\",\"\").replace(\"\\xa0\",\"\").strip()"
   ]
  },
  {
   "cell_type": "code",
   "execution_count": null,
   "metadata": {},
   "outputs": [],
   "source": []
  }
 ],
 "metadata": {
  "kernelspec": {
   "display_name": "Python 3",
   "language": "python",
   "name": "python3"
  },
  "language_info": {
   "codemirror_mode": {
    "name": "ipython",
    "version": 3
   },
   "file_extension": ".py",
   "mimetype": "text/x-python",
   "name": "python",
   "nbconvert_exporter": "python",
   "pygments_lexer": "ipython3",
   "version": "3.7.0"
  }
 },
 "nbformat": 4,
 "nbformat_minor": 2
}
