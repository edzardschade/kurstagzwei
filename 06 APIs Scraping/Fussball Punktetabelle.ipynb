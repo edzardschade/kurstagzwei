{
 "cells": [
  {
   "cell_type": "code",
   "execution_count": 8,
   "metadata": {},
   "outputs": [
    {
     "name": "stdout",
     "output_type": "stream",
     "text": [
      "<td class=\"zentriert\">84</td>\n",
      "<td class=\"zentriert\">69</td>\n",
      "<td class=\"zentriert\">54</td>\n",
      "<td class=\"zentriert\">49</td>\n",
      "<td class=\"zentriert\">45</td>\n",
      "<td class=\"zentriert\">42</td>\n",
      "<td class=\"zentriert\">42</td>\n",
      "<td class=\"zentriert\">42</td>\n",
      "<td class=\"zentriert\">39</td>\n",
      "<td class=\"zentriert\">35</td>\n"
     ]
    }
   ],
   "source": [
    "# Libraries laden\n",
    "import requests\n",
    "from bs4 import BeautifulSoup\n",
    "import pandas as pd\n",
    "\n",
    "# Auslesen der Webseite\n",
    "saison = 2017\n",
    "headers = {'User-Agent': 'Mozilla/5.0 (Macintosh; Intel Mac OS X 10_10_1) AppleWebKit/537.36 (KHTML, like Gecko) Chrome/39.0.2171.95 Safari/537.36'}\n",
    "url = 'https://www.transfermarkt.ch/super-league/startseite/wettbewerb/C1/plus/?saison_id='+str(saison)\n",
    "r = requests.get(url, headers=headers)\n",
    "soup = BeautifulSoup(r.text, 'html.parser')\n",
    "\n",
    "# Finde alle Tabellen mit class 'responsive-table'\n",
    "soup_all_tables = soup.find_all('div', {'class':'responsive-table'})\n",
    "# Meine Tabelle ist die zweite, deshalb:\n",
    "soup_my_table = soup_all_tables[1]\n",
    "\n",
    "# In dieser Tabelle alle 'tr' finden (einzelne Reihen)\n",
    "soup_rows = soup_my_table.find_all('tr')\n",
    "\n",
    "for row in soup_rows[1:]: # Die erste Reihe wird die Überschrift sein, deshalb skippen mit [1:]\n",
    "    alle_tds\n",
    "    print(row.find_all('td')[-1])\n"
   ]
  },
  {
   "cell_type": "code",
   "execution_count": null,
   "metadata": {},
   "outputs": [],
   "source": []
  }
 ],
 "metadata": {
  "kernelspec": {
   "display_name": "Python 3",
   "language": "python",
   "name": "python3"
  },
  "language_info": {
   "codemirror_mode": {
    "name": "ipython",
    "version": 3
   },
   "file_extension": ".py",
   "mimetype": "text/x-python",
   "name": "python",
   "nbconvert_exporter": "python",
   "pygments_lexer": "ipython3",
   "version": "3.7.0"
  }
 },
 "nbformat": 4,
 "nbformat_minor": 2
}
