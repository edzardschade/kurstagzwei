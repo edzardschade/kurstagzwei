{
 "cells": [
  {
   "cell_type": "code",
   "execution_count": 21,
   "metadata": {},
   "outputs": [
    {
     "data": {
      "text/plain": [
       "{'BSC Young Boys': 84,\n",
       " 'FC Basel': 69,\n",
       " 'FC Luzern': 54,\n",
       " 'FC Zürich': 49,\n",
       " 'FC St. Gallen': 45,\n",
       " 'FC Sion': 42,\n",
       " 'FC Thun': 42,\n",
       " 'FC Lugano': 42,\n",
       " 'Grasshoppers': 39,\n",
       " 'Lausanne-Sport': 35}"
      ]
     },
     "execution_count": 21,
     "metadata": {},
     "output_type": "execute_result"
    }
   ],
   "source": [
    "# Libraries laden\n",
    "import requests\n",
    "from bs4 import BeautifulSoup\n",
    "import pandas as pd\n",
    "\n",
    "# Auslesen der Webseite\n",
    "punktetabelle = {}\n",
    "saison = 2017\n",
    "browserinfo = {'User-Agent': 'Mozilla/5.0 (Macintosh; Intel Mac OS X 10_10_1) AppleWebKit/537.36 (KHTML, like Gecko) Chrome/39.0.2171.95 Safari/537.36'}\n",
    "url = 'https://www.transfermarkt.ch/super-league/startseite/wettbewerb/C1/plus/?saison_id='+str(saison)\n",
    "website = requests.get(url, headers=browserinfo)\n",
    "soup_complete_site = BeautifulSoup(website.text, 'html.parser')\n",
    "\n",
    "# Finde alle Tabellen mit class 'responsive-table'\n",
    "soup_all_tables = soup_complete_site.find_all('div', {'class':'responsive-table'})\n",
    "# Meine Tabelle ist die zweite, deshalb:\n",
    "soup_my_table = soup_all_tables[1]\n",
    "\n",
    "# In dieser Tabelle alle 'tr' finden (einzelne Reihen)\n",
    "soup_rows = soup_my_table.find_all('tr')\n",
    "\n",
    "for row in soup_rows[1:]: # Die erste Reihe wird die Überschrift sein, deshalb skippen mit [1:]\n",
    "    alle_tds = row.find_all('td')\n",
    "    punkte = alle_tds[-1] # Nimm die Punkte aus dem letzten Element der Liste mit [-1]\n",
    "    team = alle_tds[2] # Nimm den Teamnamen aus dem dritten Element der Liste mit [2]\n",
    "    punktetabelle[team.text.strip()] = int(punkte.text) # Setzte das Päärchen aus Key 'Teamname' und Value 'Punktzahl' in die Liste\n",
    "\n",
    "\n",
    "punktetabelle"
   ]
  },
  {
   "cell_type": "code",
   "execution_count": 22,
   "metadata": {},
   "outputs": [
    {
     "name": "stdout",
     "output_type": "stream",
     "text": [
      "84\n"
     ]
    }
   ],
   "source": [
    "# Hier kannst du jetzt auf die Punktezahl einer bestimmten Mannschaft zugreifen, z.B.:\n",
    "yb = punktetabelle['BSC Young Boys']\n",
    "print(yb)"
   ]
  },
  {
   "cell_type": "code",
   "execution_count": null,
   "metadata": {},
   "outputs": [],
   "source": []
  }
 ],
 "metadata": {
  "kernelspec": {
   "display_name": "Python 3",
   "language": "python",
   "name": "python3"
  },
  "language_info": {
   "codemirror_mode": {
    "name": "ipython",
    "version": 3
   },
   "file_extension": ".py",
   "mimetype": "text/x-python",
   "name": "python",
   "nbconvert_exporter": "python",
   "pygments_lexer": "ipython3",
   "version": "3.7.0"
  }
 },
 "nbformat": 4,
 "nbformat_minor": 2
}
