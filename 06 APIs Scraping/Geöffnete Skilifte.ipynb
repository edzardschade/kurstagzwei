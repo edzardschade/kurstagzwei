{
 "cells": [
  {
   "cell_type": "markdown",
   "metadata": {},
   "source": [
    "# Geöffnete Skilifte absaugen\n",
    "\n"
   ]
  },
  {
   "cell_type": "code",
   "execution_count": 43,
   "metadata": {},
   "outputs": [],
   "source": [
    "# Libraries laden\n",
    "import requests\n",
    "from bs4 import BeautifulSoup\n",
    "import pandas as pd"
   ]
  },
  {
   "cell_type": "markdown",
   "metadata": {},
   "source": [
    "## Teil 1: Liste mit allen Live-Skigebieten finden"
   ]
  },
  {
   "cell_type": "code",
   "execution_count": 44,
   "metadata": {},
   "outputs": [],
   "source": [
    "startseite = requests.get(\"https://www.bergfex.ch/schweiz/\").text\n",
    "soup_startseite = BeautifulSoup(startseite, \"html.parser\")"
   ]
  },
  {
   "cell_type": "markdown",
   "metadata": {},
   "source": [
    "Die Links heraussuchen"
   ]
  },
  {
   "cell_type": "code",
   "execution_count": 47,
   "metadata": {},
   "outputs": [],
   "source": [
    "liveskigebiete = soup_startseite.find_all('li', {'style':'font-weight: bold;'})\n",
    "linkliste = []\n",
    "\n",
    "for gebiet in liveskigebiete:\n",
    "    link = gebiet.find('a')['href']\n",
    "    linkliste.append(link)"
   ]
  },
  {
   "cell_type": "code",
   "execution_count": 48,
   "metadata": {},
   "outputs": [],
   "source": [
    "pd.DataFrame(linkliste).to_csv('skigebiete_linkliste.csv')"
   ]
  },
  {
   "cell_type": "markdown",
   "metadata": {},
   "source": [
    "## Teil 2: Öffnungszeiten auslesen\n",
    "Leere Liste starten"
   ]
  },
  {
   "cell_type": "code",
   "execution_count": 35,
   "metadata": {},
   "outputs": [],
   "source": [
    "skigebiete = []"
   ]
  },
  {
   "cell_type": "markdown",
   "metadata": {},
   "source": [
    "Seiten absaugen & souppieren"
   ]
  },
  {
   "cell_type": "code",
   "execution_count": 37,
   "metadata": {},
   "outputs": [],
   "source": [
    "#website = requests.get(\"https://www.bergfex.ch/ybrig/\").text\n",
    "website = requests.get(\"https://www.bergfex.ch/engelberg/\").text"
   ]
  },
  {
   "cell_type": "code",
   "execution_count": 39,
   "metadata": {},
   "outputs": [],
   "source": [
    "soup = BeautifulSoup(website, \"html.parser\")"
   ]
  },
  {
   "cell_type": "code",
   "execution_count": 40,
   "metadata": {},
   "outputs": [
    {
     "data": {
      "text/plain": [
       "[{'titel': 'Hoch-Ybrig', 'totallifte': '12', 'offen': '1'},\n",
       " {'titel': 'Hoch-Ybrig', 'totallifte': '12', 'offen': '1'},\n",
       " {'titel': 'Engelberg Titlis', 'totallifte': '28', 'offen': '12'}]"
      ]
     },
     "execution_count": 40,
     "metadata": {},
     "output_type": "execute_result"
    }
   ],
   "source": [
    "# Titel des Skigebiets\n",
    "titel = soup.find('h1', {\"class\": \"has-sup\"})\n",
    "titel = (titel.text.replace(\"Skigebiet \", \"\"))\n",
    "# Offene Skilifte auslesen\n",
    "for skigebiet in soup.find_all('table', class_=\"schneewerte\"):\n",
    "    offenelifte = (skigebiet.find_all('td')[3].text).split(\" von \") # Auslesen im Format \"12 von 24\"\n",
    "    total = offenelifte[1].strip()\n",
    "    offen = offenelifte[0].strip()\n",
    "    skigebiete.append({\"titel\": titel, \"totallifte\": total, \"offen\": offen}) # In die finale Liste laden\n",
    "    \n",
    "    \n",
    "skigebiete"
   ]
  },
  {
   "cell_type": "markdown",
   "metadata": {},
   "source": [
    "## Ergänzen in einer Tabelle"
   ]
  },
  {
   "cell_type": "code",
   "execution_count": null,
   "metadata": {},
   "outputs": [],
   "source": []
  },
  {
   "cell_type": "markdown",
   "metadata": {},
   "source": [
    "## Alarmieren, wenn irgendetwas fehlschlägt"
   ]
  },
  {
   "cell_type": "code",
   "execution_count": 41,
   "metadata": {},
   "outputs": [],
   "source": [
    "# Send E-Mail"
   ]
  },
  {
   "cell_type": "code",
   "execution_count": null,
   "metadata": {},
   "outputs": [],
   "source": []
  }
 ],
 "metadata": {
  "kernelspec": {
   "display_name": "Python 3",
   "language": "python",
   "name": "python3"
  },
  "language_info": {
   "codemirror_mode": {
    "name": "ipython",
    "version": 3
   },
   "file_extension": ".py",
   "mimetype": "text/x-python",
   "name": "python",
   "nbconvert_exporter": "python",
   "pygments_lexer": "ipython3",
   "version": "3.7.0"
  }
 },
 "nbformat": 4,
 "nbformat_minor": 2
}
